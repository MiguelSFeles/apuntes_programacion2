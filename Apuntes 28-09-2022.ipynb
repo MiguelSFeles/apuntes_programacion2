{
 "cells": [
  {
   "cell_type": "markdown",
   "id": "6a94549b",
   "metadata": {},
   "source": [
    "# STRINGS COMO OBJETOS\n",
    "## Miguel Feles --  Programación 2\n",
    "### 28 - 09 - 2022"
   ]
  },
  {
   "cell_type": "code",
   "execution_count": 1,
   "id": "1f8b081a",
   "metadata": {},
   "outputs": [
    {
     "data": {
      "text/plain": [
       "'german'"
      ]
     },
     "execution_count": 1,
     "metadata": {},
     "output_type": "execute_result"
    }
   ],
   "source": [
    "nombre = 'German'\n",
    "type(nombre) # string\n",
    "nombre[0] # 'G'\n",
    "nombre[3:] #'man'\n",
    "nombre.upper() # 'GERMAN'\n",
    "nombre.lower() # 'german'"
   ]
  },
  {
   "cell_type": "code",
   "execution_count": 5,
   "id": "f3db0231",
   "metadata": {},
   "outputs": [],
   "source": [
    "s = [2,3,4,5,7,8,4,4]\n",
    "t = [5, 6,9,0]\n",
    "x = t.extend(s)"
   ]
  },
  {
   "cell_type": "code",
   "execution_count": 9,
   "id": "51622afb",
   "metadata": {},
   "outputs": [],
   "source": [
    "z = s.pop() # Borra el último o el que quiera por el index"
   ]
  },
  {
   "cell_type": "code",
   "execution_count": 10,
   "id": "4606aaec",
   "metadata": {},
   "outputs": [
    {
     "data": {
      "text/plain": [
       "7"
      ]
     },
     "execution_count": 10,
     "metadata": {},
     "output_type": "execute_result"
    }
   ],
   "source": [
    "z"
   ]
  },
  {
   "cell_type": "code",
   "execution_count": 11,
   "id": "33e11195",
   "metadata": {},
   "outputs": [
    {
     "data": {
      "text/plain": [
       "[2, 3, 4, 5]"
      ]
     },
     "execution_count": 11,
     "metadata": {},
     "output_type": "execute_result"
    }
   ],
   "source": [
    "s"
   ]
  },
  {
   "cell_type": "code",
   "execution_count": 20,
   "id": "88ad3bab",
   "metadata": {},
   "outputs": [
    {
     "data": {
      "text/plain": [
       "[6, 2, 8, 4]"
      ]
     },
     "execution_count": 20,
     "metadata": {},
     "output_type": "execute_result"
    }
   ],
   "source": [
    "w = [6,2,4,8,4]\n",
    "k = w.remove(4) #Elimina el primer numero\n",
    "w"
   ]
  },
  {
   "cell_type": "code",
   "execution_count": 21,
   "id": "6072b356",
   "metadata": {},
   "outputs": [],
   "source": [
    "#######################################"
   ]
  },
  {
   "cell_type": "code",
   "execution_count": 22,
   "id": "804c9f3f",
   "metadata": {},
   "outputs": [],
   "source": [
    "L = [1,2,3,4,5,6]\n",
    "L[2]\n",
    "L[1:3] = [9,8]\n",
    "L[2:4] = [] #Elimina las posiciones\n",
    "L[1:1] = [2,3,4,5]\n",
    "L[len(L):] = [10,11]\n",
    "L = L + [20,30]\n",
    "L[0:0] = range(-3, 0)\n"
   ]
  },
  {
   "cell_type": "code",
   "execution_count": 23,
   "id": "c33fbc45",
   "metadata": {},
   "outputs": [
    {
     "ename": "ValueError",
     "evalue": "list.remove(x): x not in list",
     "output_type": "error",
     "traceback": [
      "\u001b[1;31m---------------------------------------------------------------------------\u001b[0m",
      "\u001b[1;31mValueError\u001b[0m                                Traceback (most recent call last)",
      "\u001b[1;32m<ipython-input-23-ba5b5ee33d9a>\u001b[0m in \u001b[0;36m<module>\u001b[1;34m\u001b[0m\n\u001b[0;32m      1\u001b[0m \u001b[0mp\u001b[0m \u001b[1;33m=\u001b[0m \u001b[1;33m[\u001b[0m\u001b[1;36m6\u001b[0m\u001b[1;33m,\u001b[0m\u001b[1;36m2\u001b[0m\u001b[1;33m,\u001b[0m\u001b[1;36m4\u001b[0m\u001b[1;33m,\u001b[0m\u001b[1;36m8\u001b[0m\u001b[1;33m,\u001b[0m\u001b[1;36m4\u001b[0m\u001b[1;33m]\u001b[0m\u001b[1;33m\u001b[0m\u001b[1;33m\u001b[0m\u001b[0m\n\u001b[1;32m----> 2\u001b[1;33m \u001b[0ms\u001b[0m\u001b[1;33m.\u001b[0m\u001b[0mremove\u001b[0m\u001b[1;33m(\u001b[0m\u001b[1;36m4\u001b[0m\u001b[1;33m)\u001b[0m\u001b[1;33m\u001b[0m\u001b[1;33m\u001b[0m\u001b[0m\n\u001b[0m\u001b[0;32m      3\u001b[0m \u001b[1;33m\u001b[0m\u001b[0m\n\u001b[0;32m      4\u001b[0m \u001b[0mf\u001b[0m \u001b[1;33m=\u001b[0m \u001b[1;33m[\u001b[0m\u001b[0mx\u001b[0m \u001b[1;32mfor\u001b[0m \u001b[0mx\u001b[0m \u001b[1;32min\u001b[0m \u001b[0ms\u001b[0m \u001b[1;32mif\u001b[0m \u001b[0mx\u001b[0m\u001b[1;33m!=\u001b[0m \u001b[1;36m4\u001b[0m\u001b[1;33m]\u001b[0m\u001b[1;33m\u001b[0m\u001b[1;33m\u001b[0m\u001b[0m\n",
      "\u001b[1;31mValueError\u001b[0m: list.remove(x): x not in list"
     ]
    }
   ],
   "source": [
    "p = [6,2,4,8,4]\n",
    "s.remove(4)\n",
    "\n",
    "f = [x for x in s if x!= 4]"
   ]
  },
  {
   "cell_type": "code",
   "execution_count": 24,
   "id": "ced7692f",
   "metadata": {},
   "outputs": [],
   "source": [
    "usuarios = {}\n",
    "usuarios[\"German\"] = \"abc123\"\n",
    "usuarios[\"German\"] += \"*!?AW4ñ\""
   ]
  },
  {
   "cell_type": "code",
   "execution_count": 25,
   "id": "b9d64bc0",
   "metadata": {
    "collapsed": true
   },
   "outputs": [
    {
     "data": {
      "text/plain": [
       "{'German': 'abc123*!?AW4ñ'}"
      ]
     },
     "execution_count": 25,
     "metadata": {},
     "output_type": "execute_result"
    }
   ],
   "source": [
    "usuarios"
   ]
  },
  {
   "cell_type": "code",
   "execution_count": 26,
   "id": "fc53e96d",
   "metadata": {},
   "outputs": [
    {
     "ename": "TypeError",
     "evalue": "'tuple' object does not support item assignment",
     "output_type": "error",
     "traceback": [
      "\u001b[1;31m---------------------------------------------------------------------------\u001b[0m",
      "\u001b[1;31mTypeError\u001b[0m                                 Traceback (most recent call last)",
      "\u001b[1;32m<ipython-input-26-aad9fcccdb6d>\u001b[0m in \u001b[0;36m<module>\u001b[1;34m\u001b[0m\n\u001b[0;32m      1\u001b[0m \u001b[0ma_tuple\u001b[0m \u001b[1;33m=\u001b[0m \u001b[1;33m(\u001b[0m\u001b[1;36m1\u001b[0m\u001b[1;33m,\u001b[0m\u001b[1;36m2\u001b[0m\u001b[1;33m)\u001b[0m\u001b[1;33m\u001b[0m\u001b[1;33m\u001b[0m\u001b[0m\n\u001b[1;32m----> 2\u001b[1;33m \u001b[0ma_tuple\u001b[0m\u001b[1;33m[\u001b[0m\u001b[1;36m0\u001b[0m\u001b[1;33m]\u001b[0m \u001b[1;33m=\u001b[0m \u001b[1;36m2\u001b[0m \u001b[1;31m# ERROR Inmutable\u001b[0m\u001b[1;33m\u001b[0m\u001b[1;33m\u001b[0m\u001b[0m\n\u001b[0m\u001b[0;32m      3\u001b[0m \u001b[0ma_string\u001b[0m \u001b[1;33m=\u001b[0m \u001b[1;34m\"Hi y'all all\"\u001b[0m\u001b[1;33m\u001b[0m\u001b[1;33m\u001b[0m\u001b[0m\n\u001b[0;32m      4\u001b[0m \u001b[0ma_string\u001b[0m\u001b[1;33m[\u001b[0m\u001b[1;36m1\u001b[0m\u001b[1;33m]\u001b[0m \u001b[1;33m=\u001b[0m \u001b[1;34m\"I\"\u001b[0m \u001b[1;31m#Error string inmutable\u001b[0m\u001b[1;33m\u001b[0m\u001b[1;33m\u001b[0m\u001b[0m\n\u001b[0;32m      5\u001b[0m \u001b[0ma_string\u001b[0m \u001b[1;33m+=\u001b[0m \u001b[1;34m\"How are you doing\"\u001b[0m \u001b[1;31m#SI se puede concatenar\u001b[0m\u001b[1;33m\u001b[0m\u001b[1;33m\u001b[0m\u001b[0m\n",
      "\u001b[1;31mTypeError\u001b[0m: 'tuple' object does not support item assignment"
     ]
    }
   ],
   "source": [
    "a_tuple = (1,2)\n",
    "a_tuple[0] = 2 # ERROR Inmutable\n",
    "a_string = \"Hi y'all all\"\n",
    "a_string[1] = \"I\" #Error string inmutable\n",
    "a_string += \"How are you doing\" #SI se puede concatenar\n",
    "an_int = 20\n",
    "an_int += 2 \n",
    "another_int = 20, #Lo hace como tupla"
   ]
  },
  {
   "cell_type": "code",
   "execution_count": 28,
   "id": "8299483c",
   "metadata": {},
   "outputs": [
    {
     "name": "stdout",
     "output_type": "stream",
     "text": [
      "1\n",
      "Hola\n"
     ]
    }
   ],
   "source": [
    "def do_stuff_to(four):\n",
    "    four[0] = \"Hola\"\n",
    "    \n",
    "four = [1,2,3,4]\n",
    "print(four[0])\n",
    "do_stuff_to(four)\n",
    "print(four[0])"
   ]
  },
  {
   "cell_type": "code",
   "execution_count": 29,
   "id": "e06c4165",
   "metadata": {},
   "outputs": [
    {
     "name": "stdout",
     "output_type": "stream",
     "text": [
      "4\n",
      "Hi\n"
     ]
    }
   ],
   "source": [
    "def do_other_stuff():\n",
    "    four[3] = \"Hi\"\n",
    "four = [1,2,3,4]\n",
    "print(four[3])\n",
    "do_other_stuff()\n",
    "print(four[3])"
   ]
  },
  {
   "cell_type": "code",
   "execution_count": 30,
   "id": "23802acf",
   "metadata": {},
   "outputs": [
    {
     "name": "stdout",
     "output_type": "stream",
     "text": [
      "3\n"
     ]
    }
   ],
   "source": [
    "def f(s=[]):\n",
    "    s.append(3)\n",
    "    return len(s)\n",
    "\n",
    "print(f([1,2]))"
   ]
  },
  {
   "cell_type": "code",
   "execution_count": 32,
   "id": "3879bdc1",
   "metadata": {},
   "outputs": [
    {
     "data": {
      "text/plain": [
       "2"
      ]
     },
     "execution_count": 32,
     "metadata": {},
     "output_type": "execute_result"
    }
   ],
   "source": [
    "f()"
   ]
  },
  {
   "cell_type": "code",
   "execution_count": 33,
   "id": "8afa8ffb",
   "metadata": {},
   "outputs": [
    {
     "data": {
      "text/plain": [
       "3"
      ]
     },
     "execution_count": 33,
     "metadata": {},
     "output_type": "execute_result"
    }
   ],
   "source": [
    "f()"
   ]
  },
  {
   "cell_type": "code",
   "execution_count": 34,
   "id": "0d53ef5b",
   "metadata": {},
   "outputs": [
    {
     "data": {
      "text/plain": [
       "'Sin Fondos'"
      ]
     },
     "execution_count": 34,
     "metadata": {},
     "output_type": "execute_result"
    }
   ],
   "source": [
    "def make_withdraw_account(initial):\n",
    "    balance = [initial]\n",
    "    \n",
    "    def withdraw(amount):\n",
    "        if balance[0] - amount<0:\n",
    "            return 'Sin Fondos'\n",
    "        balance[0] -= amount\n",
    "        return balance[0]\n",
    "    \n",
    "    return withdraw\n",
    "\n",
    "withdraw = make_withdraw_account(100)\n",
    "withdraw(25)\n",
    "withdraw(25)\n",
    "withdraw(75)"
   ]
  },
  {
   "cell_type": "code",
   "execution_count": null,
   "id": "dd31d8b9",
   "metadata": {},
   "outputs": [],
   "source": []
  }
 ],
 "metadata": {
  "kernelspec": {
   "display_name": "Python 3",
   "language": "python",
   "name": "python3"
  },
  "language_info": {
   "codemirror_mode": {
    "name": "ipython",
    "version": 3
   },
   "file_extension": ".py",
   "mimetype": "text/x-python",
   "name": "python",
   "nbconvert_exporter": "python",
   "pygments_lexer": "ipython3",
   "version": "3.7.11"
  }
 },
 "nbformat": 4,
 "nbformat_minor": 5
}
