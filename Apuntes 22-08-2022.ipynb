{
 "cells": [
  {
   "cell_type": "markdown",
   "id": "7bceb0b4",
   "metadata": {},
   "source": [
    "# Miguel Feles\n",
    "# Apuntes 22 - 08 - 2022\n",
    "\n",
    "# Algóritmo de Luhn"
   ]
  },
  {
   "cell_type": "code",
   "execution_count": 4,
   "id": "fc6512e6",
   "metadata": {},
   "outputs": [
    {
     "name": "stdout",
     "output_type": "stream",
     "text": [
      "204\n",
      "22\n",
      "2\n",
      "7\n"
     ]
    },
    {
     "data": {
      "text/plain": [
       "33"
      ]
     },
     "execution_count": 4,
     "metadata": {},
     "output_type": "execute_result"
    }
   ],
   "source": [
    "def sum_digits(n):\n",
    "    if n<10:\n",
    "        return n\n",
    "    else:\n",
    "        ultimo_digito = n%10\n",
    "        siguiente_num = n//10\n",
    "        print(ultimo_digito + siguiente_num)\n",
    "        return ultimo_digito + sum_digits(siguiente_num)\n",
    "sum_digits(2022)\n",
    "    \n",
    "def luhn_sum(n):\n",
    "    if n <10:\n",
    "        return n\n",
    "    else:\n",
    "        last = n%10\n",
    "        all_but_last = n // 10\n",
    "        return last + luhn_sum_double(all_but_last)\n",
    "    \n",
    "def luhn_sum_double(n):\n",
    "    \n",
    "    last = n%10\n",
    "    all_but_last = n // 10\n",
    "    luhn_digit = sum_digits(last*2)\n",
    "    if n <10:\n",
    "        return luhn_digit\n",
    "    else:\n",
    "        return luhn_digit + luhn_sum(all_but_last)\n",
    "\n",
    "luhn_sum(1238743)\n"
   ]
  },
  {
   "cell_type": "code",
   "execution_count": null,
   "id": "7574770e",
   "metadata": {},
   "outputs": [],
   "source": []
  }
 ],
 "metadata": {
  "kernelspec": {
   "display_name": "Python 3",
   "language": "python",
   "name": "python3"
  },
  "language_info": {
   "codemirror_mode": {
    "name": "ipython",
    "version": 3
   },
   "file_extension": ".py",
   "mimetype": "text/x-python",
   "name": "python",
   "nbconvert_exporter": "python",
   "pygments_lexer": "ipython3",
   "version": "3.7.11"
  }
 },
 "nbformat": 4,
 "nbformat_minor": 5
}
