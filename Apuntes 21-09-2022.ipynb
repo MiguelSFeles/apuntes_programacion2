{
 "cells": [
  {
   "cell_type": "markdown",
   "id": "64f751d8",
   "metadata": {},
   "source": [
    "# Miguel Santiago Feles Gómez\n",
    "#  Apuntes 21-09-2022\n",
    "# Programación 2"
   ]
  },
  {
   "cell_type": "markdown",
   "id": "457e5fc8",
   "metadata": {},
   "source": [
    "# Diccionarios"
   ]
  },
  {
   "cell_type": "code",
   "execution_count": 21,
   "id": "5841d130",
   "metadata": {},
   "outputs": [
    {
     "data": {
      "text/plain": [
       "{7: [35, 42, 49], 9: [36, 45], 11: [33, 44]}"
      ]
     },
     "execution_count": 21,
     "metadata": {},
     "output_type": "execute_result"
    }
   ],
   "source": [
    "def index(keys, values, match):\n",
    "    return {k:[v for v in values if match (k,v)] for k in keys}\n",
    "index([7,9,11], range(30,50), lambda k,v: v%k == 0)"
   ]
  },
  {
   "cell_type": "markdown",
   "id": "8a972e75",
   "metadata": {},
   "source": [
    "# Árboles"
   ]
  },
  {
   "cell_type": "markdown",
   "id": "fa3d338a",
   "metadata": {},
   "source": [
    "                     _______(A)______      <--- Etiquetas }\n",
    "                    |        |       |                    }\n",
    "                   (B)    __(C)__   (D)    <---- Nodos    }\n",
    "                    |     |      |   |                    }     RAMAS\n",
    "                    |    (E)    (F)  (G)                  }\n",
    "                    |     |      |    |                   }\n",
    "                    HOJAS            (H)                  }"
   ]
  },
  {
   "cell_type": "markdown",
   "id": "4205b34c",
   "metadata": {},
   "source": [
    "Constructor: tree(label, branches) -> contruye un árbol con raiz (\"labe\") y ramas branch\n",
    "Selector: label(tree) -> Return etiquera raiz de tree\n",
    "          Branch(tree) -> Return las ramas de tree\n",
    "          is_leaf(tree) -> Return True so tree si tree = hoja\n"
   ]
  },
  {
   "cell_type": "code",
   "execution_count": 22,
   "id": "7c73b6a7",
   "metadata": {},
   "outputs": [],
   "source": [
    "def tree(label, branches = []):\n",
    "    return [label] + branches\n",
    "\n",
    "def label(tree):\n",
    "    return tree[0]\n",
    "def branches(tree):\n",
    "    return tree[1:]\n",
    "def is_leaf():\n",
    "    return len(branch(tree)) == 0"
   ]
  },
  {
   "cell_type": "code",
   "execution_count": null,
   "id": "67531f2b",
   "metadata": {},
   "outputs": [],
   "source": []
  }
 ],
 "metadata": {
  "kernelspec": {
   "display_name": "Python 3",
   "language": "python",
   "name": "python3"
  },
  "language_info": {
   "codemirror_mode": {
    "name": "ipython",
    "version": 3
   },
   "file_extension": ".py",
   "mimetype": "text/x-python",
   "name": "python",
   "nbconvert_exporter": "python",
   "pygments_lexer": "ipython3",
   "version": "3.7.11"
  }
 },
 "nbformat": 4,
 "nbformat_minor": 5
}
