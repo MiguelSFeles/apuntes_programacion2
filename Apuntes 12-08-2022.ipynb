{
 "cells": [
  {
   "cell_type": "markdown",
   "id": "b90427f4",
   "metadata": {},
   "source": [
    "# Miguel Santiago Feles Gómez\n",
    "# Apuntes 12 de agosto - Funciones Compuestas"
   ]
  },
  {
   "cell_type": "markdown",
   "id": "aabf5765",
   "metadata": {},
   "source": [
    "## Thingy"
   ]
  },
  {
   "cell_type": "code",
   "execution_count": 5,
   "id": "4adbd8d5",
   "metadata": {},
   "outputs": [
    {
     "data": {
      "text/plain": [
       "'jigjig'"
      ]
     },
     "execution_count": 5,
     "metadata": {},
     "output_type": "execute_result"
    }
   ],
   "source": [
    "def thingy(x, y):\n",
    "    \n",
    "    def bobber(a):\n",
    "        return a + y\n",
    "\n",
    "    return bobber(y)\n",
    "\n",
    "\n",
    "\n",
    "result = thingy(\"ma\", \"jig\")\n",
    "result"
   ]
  },
  {
   "cell_type": "markdown",
   "id": "a2e03000",
   "metadata": {},
   "source": [
    "## Composer"
   ]
  },
  {
   "cell_type": "code",
   "execution_count": 1,
   "id": "5db60f9d",
   "metadata": {},
   "outputs": [
    {
     "data": {
      "text/plain": [
       "'@:)álgebra Líneal!:)@'"
      ]
     },
     "execution_count": 1,
     "metadata": {},
     "output_type": "execute_result"
    }
   ],
   "source": [
    "def happy(text):\n",
    "    return \"@\" + text + \"@\"\n",
    "\n",
    "def sad(text):\n",
    "    return \":)\" + text + \":)\"\n",
    "\n",
    "def composer(f, g):\n",
    "    def composed(x):\n",
    "        return f(g(x))\n",
    "    return composed\n",
    "\n",
    "msg1 = composer(sad, happy)(\"Promgramación 2!\")\n",
    "msg2 = composer(happy, sad)(\"álgebra Líneal!\")\n",
    "\n",
    "msg2"
   ]
  },
  {
   "cell_type": "code",
   "execution_count": 2,
   "id": "4977cfe2",
   "metadata": {},
   "outputs": [
    {
     "name": "stdout",
     "output_type": "stream",
     "text": [
      "1\n",
      "4\n",
      "9\n"
     ]
    },
    {
     "data": {
      "text/plain": [
       "<function __main__.print_sums.<locals>.next_sum(k)>"
      ]
     },
     "execution_count": 2,
     "metadata": {},
     "output_type": "execute_result"
    }
   ],
   "source": [
    "def print_sums(n):\n",
    "    print(n)\n",
    "    def next_sum(k):\n",
    "        return print_sums(n+k)\n",
    "    return next_sum\n",
    "\n",
    "print_sums(1)(3)(5)"
   ]
  },
  {
   "cell_type": "markdown",
   "id": "1d853a4d",
   "metadata": {},
   "source": [
    "def make_adder(n):\n",
    "    return lambda x : n + x\n",
    "\n",
    "def curry2(f):\n",
    "    def g(x):\n",
    "        def h(g):\n",
    "            return f(x,y)\n",
    "        return h\n",
    "    return g\n",
    "\n",
    "curry2 = lambda f : lambda x\n",
    "\n",
    "make_adder(2)(3)\n",
    "\n",
    "make_adder = curry(add(2,3))\n",
    "make_adder(2)(3)"
   ]
  },
  {
   "cell_type": "code",
   "execution_count": null,
   "id": "022bda8d",
   "metadata": {},
   "outputs": [],
   "source": []
  }
 ],
 "metadata": {
  "kernelspec": {
   "display_name": "Python 3",
   "language": "python",
   "name": "python3"
  },
  "language_info": {
   "codemirror_mode": {
    "name": "ipython",
    "version": 3
   },
   "file_extension": ".py",
   "mimetype": "text/x-python",
   "name": "python",
   "nbconvert_exporter": "python",
   "pygments_lexer": "ipython3",
   "version": "3.7.11"
  }
 },
 "nbformat": 4,
 "nbformat_minor": 5
}
