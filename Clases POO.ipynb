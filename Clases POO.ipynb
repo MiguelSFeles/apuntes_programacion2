{
 "cells": [
  {
   "cell_type": "markdown",
   "id": "c7159443",
   "metadata": {},
   "source": [
    "# Clases Programación Orientada a Objetos\n",
    "\n",
    "## Miguel Feles -- Programación 2"
   ]
  },
  {
   "cell_type": "markdown",
   "id": "a9afe913",
   "metadata": {},
   "source": [
    "Vídeos para entender la Programación Orientada a Objetos.\n",
    "1. https://www.youtube.com/watch?v=I848HdWjLMo POO\n",
    "2. https://www.youtube.com/watch?v=yh8bTKqCOtU Herencia"
   ]
  },
  {
   "cell_type": "markdown",
   "id": "f7ce9d99",
   "metadata": {},
   "source": [
    "# - - - - - - - - - - - - - - - - - - - - - - - - - - - - - - - - - - - - - - - - - - -"
   ]
  },
  {
   "cell_type": "markdown",
   "id": "7f774945",
   "metadata": {},
   "source": [
    "## Clases"
   ]
  },
  {
   "cell_type": "markdown",
   "id": "8e5cfff2",
   "metadata": {},
   "source": [
    "Estas son el modelo o estructura de nuestros objetos y aquí podrémos definir las cualidades (Atributos) y acciones(métodos) de nuestros objetos."
   ]
  },
  {
   "cell_type": "markdown",
   "id": "491a7f3c",
   "metadata": {},
   "source": [
    "## Atributos\n",
    "Son las cualidades o características que va a tener nuestra clase y por ende cada uno de nuestros objetos. Por ejemplo, el color o la altura son características que podemos definir como atributos. Por lo general siempre se definirán con variables que pueden ser númericas o de texto."
   ]
  },
  {
   "cell_type": "markdown",
   "id": "5a515140",
   "metadata": {},
   "source": [
    "## Métodos\n",
    "Son las acciones que va a realizar nuestra clase. Es decir que son funciones y pueden realizar muchas cosas como ciclos e incluso modificar atributos"
   ]
  },
  {
   "cell_type": "markdown",
   "id": "17be1cf5",
   "metadata": {},
   "source": [
    "### Ejemplo 1:"
   ]
  },
  {
   "cell_type": "code",
   "execution_count": 66,
   "id": "5ef5a2ad",
   "metadata": {},
   "outputs": [],
   "source": [
    "class Flor: #De esta manera creamos la clase Flor.\n",
    "    \n",
    "    \n",
    "    #Construcción de la clase y los primeros atributos\n",
    "    def __init__(self, color, nombre): #No olviden poner siempre el \"self\" y aquí estámos añadiendole los atributos que vamos a tener cuando creemos el objeto\n",
    "        self.color = color             \n",
    "        self.nombre = nombre # Estos atributos se los daremos cuando creemos la primera flor.\n",
    "        self.luz = \"Sombreada\" # Hay atributos que no necesariamente debemos pasarlos por el objeto sino que los estipulamos por defecto.\n",
    "        \n",
    "    def llevar_al_sol(self): #Este es nuestro primer método que hará que hidratemos a la planta y nos imprima un mensaje\n",
    "        print(\"La planta está tomando es sol ☀️\")\n",
    "        self.agua = \"Soleada\"\n",
    "    "
   ]
  },
  {
   "cell_type": "code",
   "execution_count": 67,
   "id": "81dedd50",
   "metadata": {},
   "outputs": [],
   "source": [
    "Girasol = Flor('Amarillo', 'Girasol') #Aquí creamos nuestro primer objeto con el (color, nombre) de nuestro init"
   ]
  },
  {
   "cell_type": "code",
   "execution_count": 68,
   "id": "2a9f7fe7",
   "metadata": {},
   "outputs": [
    {
     "data": {
      "text/plain": [
       "'Amarillo'"
      ]
     },
     "execution_count": 68,
     "metadata": {},
     "output_type": "execute_result"
    }
   ],
   "source": [
    "Girasol.color #Aquí llamamos el primer atributo seguimos la escrutura obtejo.atributo"
   ]
  },
  {
   "cell_type": "code",
   "execution_count": 69,
   "id": "640ba5db",
   "metadata": {},
   "outputs": [
    {
     "data": {
      "text/plain": [
       "'Sombreada'"
      ]
     },
     "execution_count": 69,
     "metadata": {},
     "output_type": "execute_result"
    }
   ],
   "source": [
    "Girasol.luz #Como vemos nuestro girasol está seco así que vamos a darle agua"
   ]
  },
  {
   "cell_type": "code",
   "execution_count": 70,
   "id": "278a4d89",
   "metadata": {},
   "outputs": [
    {
     "name": "stdout",
     "output_type": "stream",
     "text": [
      "La planta está tomando es sol ☀️\n"
     ]
    }
   ],
   "source": [
    "Girasol.llevar_al_sol() #Aquí llamamos nuestro primer objeto y lo harémos siguiendo objeto.método() no olviden los paréntesis"
   ]
  },
  {
   "cell_type": "code",
   "execution_count": 71,
   "id": "8bd908c9",
   "metadata": {},
   "outputs": [],
   "source": [
    "FlorAzulEspinasRojas = Flor(\"Azul\", \"Florazo\") #También podemos crear varios objetos"
   ]
  },
  {
   "cell_type": "code",
   "execution_count": 72,
   "id": "dd11314d",
   "metadata": {},
   "outputs": [],
   "source": [
    "FlorAzulEspinasRojas.Espinas = \"Rojo\" #Aquí estamos creando un atributo que no hicimos arriba en la clase, esto también lo podemos hacer."
   ]
  },
  {
   "cell_type": "code",
   "execution_count": 73,
   "id": "2d78683c",
   "metadata": {},
   "outputs": [
    {
     "data": {
      "text/plain": [
       "'Rojo'"
      ]
     },
     "execution_count": 73,
     "metadata": {},
     "output_type": "execute_result"
    }
   ],
   "source": [
    "FlorAzulEspinasRojas.Espinas"
   ]
  },
  {
   "cell_type": "markdown",
   "id": "7458d36a",
   "metadata": {},
   "source": [
    "Esta es la esencia de la Programación Orientada a Objetos y es que podemos crear varios objetos a partir del mismo modelo. 😃\n",
    "\n",
    "Si algún día quieren saber por qué se usa 'self' o __init__ en este link lo pueden saber: https://www.programacionfacil.org/cursos/python_poo/python_poo_3_el_metodo_init_y_self.html"
   ]
  },
  {
   "cell_type": "markdown",
   "id": "5a620447",
   "metadata": {},
   "source": [
    "# - - - - - - - - - - - - - - - - - - - - - - - - - - "
   ]
  },
  {
   "cell_type": "markdown",
   "id": "fb9a7ec7",
   "metadata": {},
   "source": [
    "## Herencia"
   ]
  },
  {
   "cell_type": "markdown",
   "id": "24ec5cdb",
   "metadata": {},
   "source": [
    "Ahora digamos que queremos tener flores artificiales y naturales, así que crearémos dos clases hijas que tengan atributos en común de la clase padre Flor."
   ]
  },
  {
   "cell_type": "code",
   "execution_count": 74,
   "id": "d17f837f",
   "metadata": {},
   "outputs": [],
   "source": [
    "class Flor_artificial(Flor): # Aquí le indicamos que hereda de la clase Flor\n",
    "    def __init__(self, color, nombre, material):\n",
    "        super().__init__(color, nombre)\n",
    "        self.material = material\n",
    "        \n",
    "    def pintar(self, color):\n",
    "        self.color = color"
   ]
  },
  {
   "cell_type": "code",
   "execution_count": 75,
   "id": "1836ec0c",
   "metadata": {},
   "outputs": [
    {
     "name": "stdout",
     "output_type": "stream",
     "text": [
      "La planta está tomando es sol ☀️\n"
     ]
    }
   ],
   "source": [
    "Astromelia = Flor_artificial(\"Blanco\", \"Astromelia\", \"Plástico\")\n",
    "Astromelia.luz\n",
    "Astromelia.llevar_al_sol() #Cómo podemos ver también hereda los métodos de la clase Flor"
   ]
  },
  {
   "cell_type": "code",
   "execution_count": 76,
   "id": "06c3bdf5",
   "metadata": {},
   "outputs": [
    {
     "data": {
      "text/plain": [
       "'Azul'"
      ]
     },
     "execution_count": 76,
     "metadata": {},
     "output_type": "execute_result"
    }
   ],
   "source": [
    "Astromelia.pintar(\"Azul\") #También podemos agregarle nuevos métodos\n",
    "Astromelia.color"
   ]
  },
  {
   "cell_type": "markdown",
   "id": "6fb82dc7",
   "metadata": {},
   "source": [
    "Ahora vamos a crear la clase hija Flor natural"
   ]
  },
  {
   "cell_type": "code",
   "execution_count": 77,
   "id": "dd89db55",
   "metadata": {},
   "outputs": [],
   "source": [
    "class Flor_natural(Flor):\n",
    "    def __init__(self, color, nombre):\n",
    "        super().__init__(color, nombre)\n",
    "        self.agua = \"Seca\"\n",
    "    \n",
    "    def llevar_al_sol(self):\n",
    "        super().llevar_al_sol()\n",
    "        print(\"La flor está feliz \")\n",
    "        \n",
    "    def hidratar(self):\n",
    "        print(\"La planta está bebiendo agua 💧\")\n",
    "        self.agua = \"Hidratada\""
   ]
  },
  {
   "cell_type": "code",
   "execution_count": 78,
   "id": "0f4b4605",
   "metadata": {},
   "outputs": [],
   "source": [
    "Rosa = Flor_natural(\"Rosado\", \"Rosa\")"
   ]
  },
  {
   "cell_type": "code",
   "execution_count": 79,
   "id": "8e0b94d8",
   "metadata": {},
   "outputs": [
    {
     "name": "stdout",
     "output_type": "stream",
     "text": [
      "La planta está tomando es sol ☀️\n",
      "La flor está feliz \n"
     ]
    }
   ],
   "source": [
    "Rosa.llevar_al_sol() #Aquí modificamos nuestro método original de la clase FLOR"
   ]
  },
  {
   "cell_type": "code",
   "execution_count": 80,
   "id": "001dffb5",
   "metadata": {},
   "outputs": [
    {
     "name": "stdout",
     "output_type": "stream",
     "text": [
      "La planta está bebiendo agua 💧\n"
     ]
    }
   ],
   "source": [
    "Rosa.hidratar()"
   ]
  },
  {
   "cell_type": "code",
   "execution_count": null,
   "id": "76a47164",
   "metadata": {},
   "outputs": [],
   "source": []
  }
 ],
 "metadata": {
  "kernelspec": {
   "display_name": "Python 3 (ipykernel)",
   "language": "python",
   "name": "python3"
  },
  "language_info": {
   "codemirror_mode": {
    "name": "ipython",
    "version": 3
   },
   "file_extension": ".py",
   "mimetype": "text/x-python",
   "name": "python",
   "nbconvert_exporter": "python",
   "pygments_lexer": "ipython3",
   "version": "3.9.13"
  }
 },
 "nbformat": 4,
 "nbformat_minor": 5
}
