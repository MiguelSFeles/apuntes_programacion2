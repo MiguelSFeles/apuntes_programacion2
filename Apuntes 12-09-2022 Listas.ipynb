{
 "cells": [
  {
   "cell_type": "markdown",
   "id": "988f28b3",
   "metadata": {},
   "source": [
    "# Miguel Feles\n",
    "# 12 - 09 - 2022\n",
    "# Listas"
   ]
  },
  {
   "cell_type": "code",
   "execution_count": 1,
   "id": "f617e2ec",
   "metadata": {},
   "outputs": [],
   "source": [
    "gim = [[\"pepita\", 9.15, 9.4, 9.3, 9.2], [\"Andrea\", 9, 8.8, 9.1, 9.5], [\"Martina\", 9.2, 8.2, 9.2, 8.8]]"
   ]
  },
  {
   "cell_type": "code",
   "execution_count": 2,
   "id": "e003675d",
   "metadata": {},
   "outputs": [
    {
     "data": {
      "text/plain": [
       "3"
      ]
     },
     "execution_count": 2,
     "metadata": {},
     "output_type": "execute_result"
    }
   ],
   "source": [
    "len(gim)"
   ]
  },
  {
   "cell_type": "code",
   "execution_count": 3,
   "id": "bc19b994",
   "metadata": {},
   "outputs": [
    {
     "data": {
      "text/plain": [
       "5"
      ]
     },
     "execution_count": 3,
     "metadata": {},
     "output_type": "execute_result"
    }
   ],
   "source": [
    "len(gim[1])"
   ]
  },
  {
   "cell_type": "code",
   "execution_count": 4,
   "id": "6cee3ce4",
   "metadata": {},
   "outputs": [
    {
     "data": {
      "text/plain": [
       "'Andrea'"
      ]
     },
     "execution_count": 4,
     "metadata": {},
     "output_type": "execute_result"
    }
   ],
   "source": [
    "gim[1][0]"
   ]
  },
  {
   "cell_type": "code",
   "execution_count": 6,
   "id": "6a36d640",
   "metadata": {},
   "outputs": [
    {
     "name": "stdout",
     "output_type": "stream",
     "text": [
      "pepita|9.15|9.4|9.3|9.2|Andrea|9|8.8|9.1|9.5|Martina|9.2|8.2|9.2|8.8|"
     ]
    }
   ],
   "source": [
    "for x in gim:\n",
    "    for y in x:\n",
    "        print(y, end='|')"
   ]
  },
  {
   "cell_type": "code",
   "execution_count": 10,
   "id": "1fa13c4e",
   "metadata": {},
   "outputs": [
    {
     "data": {
      "text/plain": [
       "2"
      ]
     },
     "execution_count": 10,
     "metadata": {},
     "output_type": "execute_result"
    }
   ],
   "source": [
    "pairs = [[1,2],[2,2], [3,2],[4,4]]\n",
    "same = 0\n",
    "\n",
    "for x,y in pairs:\n",
    "    if x == y:\n",
    "        same = same + 1\n",
    "same"
   ]
  },
  {
   "cell_type": "code",
   "execution_count": 11,
   "id": "fec108e5",
   "metadata": {},
   "outputs": [
    {
     "name": "stdout",
     "output_type": "stream",
     "text": [
      "-2\n",
      "-1\n",
      "0\n",
      "1\n",
      "2\n"
     ]
    }
   ],
   "source": [
    "for x in range(-2,3):\n",
    "    print(x)"
   ]
  },
  {
   "cell_type": "code",
   "execution_count": 13,
   "id": "9a357acc",
   "metadata": {},
   "outputs": [],
   "source": [
    "odds = [1,3,5,7]"
   ]
  },
  {
   "cell_type": "code",
   "execution_count": 14,
   "id": "840251e3",
   "metadata": {},
   "outputs": [],
   "source": [
    "cuen = [x +1 for x in odds]"
   ]
  },
  {
   "cell_type": "code",
   "execution_count": 15,
   "id": "fe62e83f",
   "metadata": {},
   "outputs": [
    {
     "data": {
      "text/plain": [
       "[2, 4, 6, 8]"
      ]
     },
     "execution_count": 15,
     "metadata": {},
     "output_type": "execute_result"
    }
   ],
   "source": [
    "cuen"
   ]
  },
  {
   "cell_type": "code",
   "execution_count": 16,
   "id": "ec4573a6",
   "metadata": {},
   "outputs": [
    {
     "data": {
      "text/plain": [
       "[18, 20, 17]"
      ]
     },
     "execution_count": 16,
     "metadata": {},
     "output_type": "execute_result"
    }
   ],
   "source": [
    "tem = [16,18,15,20,17]\n",
    "[x for x in tem if x > 16]"
   ]
  },
  {
   "cell_type": "code",
   "execution_count": 17,
   "id": "6daa7d0e",
   "metadata": {},
   "outputs": [],
   "source": [
    "# [<funcion> for <variable> in <lista> if <condicional>]"
   ]
  },
  {
   "cell_type": "code",
   "execution_count": 18,
   "id": "8b6f4661",
   "metadata": {},
   "outputs": [],
   "source": [
    "letras = ['s', 'a', 'b', 'i', 'l', 'x', 'e', 'm','n','c','i','o']"
   ]
  },
  {
   "cell_type": "code",
   "execution_count": 19,
   "id": "4b91c1ac",
   "metadata": {},
   "outputs": [],
   "source": [
    "palabra = [letras[i] for i in [0,3,4,6,8,9,10,11]]"
   ]
  },
  {
   "cell_type": "code",
   "execution_count": 20,
   "id": "b1540e95",
   "metadata": {},
   "outputs": [
    {
     "data": {
      "text/plain": [
       "['s', 'i', 'l', 'e', 'n', 'c', 'i', 'o']"
      ]
     },
     "execution_count": 20,
     "metadata": {},
     "output_type": "execute_result"
    }
   ],
   "source": [
    "palabra"
   ]
  },
  {
   "cell_type": "code",
   "execution_count": 61,
   "id": "a9fd0e7d",
   "metadata": {},
   "outputs": [
    {
     "data": {
      "text/plain": [
       "[1, 2, 4]"
      ]
     },
     "execution_count": 61,
     "metadata": {},
     "output_type": "execute_result"
    }
   ],
   "source": [
    "def divisors(n):\n",
    "    return [x for x in range(1, n+1) if n % x == 0]\n",
    "\n",
    "divisors(4)"
   ]
  },
  {
   "cell_type": "code",
   "execution_count": 98,
   "id": "ea51bc93",
   "metadata": {},
   "outputs": [],
   "source": [
    "def  front(s,f):\n",
    "    return [i  for i in s if f(i) == True] + [i for i in s if f(i) == False ]"
   ]
  },
  {
   "cell_type": "code",
   "execution_count": 99,
   "id": "4bca436e",
   "metadata": {},
   "outputs": [
    {
     "data": {
      "text/plain": [
       "[1, 3, 5, 7, 9, 0, 2, 4, 6, 8]"
      ]
     },
     "execution_count": 99,
     "metadata": {},
     "output_type": "execute_result"
    }
   ],
   "source": [
    "front(range(10), lambda x : x%2 ==1)"
   ]
  }
 ],
 "metadata": {
  "kernelspec": {
   "display_name": "Python 3",
   "language": "python",
   "name": "python3"
  },
  "language_info": {
   "codemirror_mode": {
    "name": "ipython",
    "version": 3
   },
   "file_extension": ".py",
   "mimetype": "text/x-python",
   "name": "python",
   "nbconvert_exporter": "python",
   "pygments_lexer": "ipython3",
   "version": "3.7.11"
  }
 },
 "nbformat": 4,
 "nbformat_minor": 5
}
