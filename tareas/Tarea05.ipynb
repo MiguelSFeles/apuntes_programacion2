{
 "cells": [
  {
   "cell_type": "code",
   "execution_count": 168,
   "metadata": {},
   "outputs": [],
   "source": [
    "def tree(label, branches = []):\n",
    "    return [label] + branches\n",
    "def label(tree):\n",
    "    return tree[0]\n",
    "def branches(tree):\n",
    "    return tree[1:]\n",
    "def is_leaf(tree):\n",
    "    return len(branches(tree)) == 0\n",
    "def print_tree(t, indent = 0):\n",
    "    print(indent * \" \", label(t))\n",
    "    for b in branches(t):\n",
    "        print_tree(b, indent + 2)\n",
    "\n"
   ]
  },
  {
   "cell_type": "markdown",
   "metadata": {
    "id": "KhPwblMNLXmw"
   },
   "source": [
    "# Tarea 5"
   ]
  },
  {
   "cell_type": "markdown",
   "metadata": {
    "id": "FLVCWtmWLbRv"
   },
   "source": [
    "**Instrucciones**\n",
    "\n",
    "+ Responda las siguientes preguntas según el enunciado de cada una. \n",
    "\n",
    "+ Al terminar guarde su archivo con los apellidos de cada uno en el grupo separados por el símbolo _ por ejemplo: **apellido1_apellido2.jpynb**. \n",
    "\n",
    "+ Envíe la tarea al correo: german.combariza@uexternado.edu.co antes de las 11:59pm de la fecha dada. Tareas enviadas después de la hora no se reciben.\n",
    "\n",
    "+ **Secciones:**\n",
    "Para esta tarea ud puede consultas las siguientes secciones del libro: \n",
    " Seccion 2.2 y 2.3 de: http://composingprograms.com/\n",
    "\n",
    "+ Usted puede trabajar en grupo, pero por favor cada uno escriba sus propias solucinoes, **la copia será tratada de acuerdo al reglamento estudiantil**.  \n",
    "\n",
    "---\n",
    "Antes de comenzar, un comentario rápido sobre la recursividad con estructuras de datos de árbol. Considere la siguiente función."
   ]
  },
  {
   "cell_type": "code",
   "execution_count": 171,
   "metadata": {
    "id": "Nry2lV8FvIkD"
   },
   "outputs": [],
   "source": [
    "def min_depth(t):\n",
    "    \"\"\"Una función simple para devolver la distancia entre la raíz de t y su hoja más cercana\"\"\"\n",
    "    if is_leaf(t):\n",
    "        return 0 #Caso base --- la distancia entre un nodo y sí mismo es cero\n",
    "    h = float('inf') # La versión de Python del infinito\n",
    "    for b in branches(t):\n",
    "        if is_leaf(b): return 1 # !!!\n",
    "        h = min(h, 1 + min_depth(b))\n",
    "    return h"
   ]
  },
  {
   "cell_type": "markdown",
   "metadata": {
    "id": "DckREpLQvi_a"
   },
   "source": [
    "La línea marcada con !!! es una violación de recurrencia. Si bien nuestro código funciona correctamente cuando está presente, al realizar esta verificación estamos haciendo un trabajo que debería realizar el siguiente nivel de recursividad: ya tenemos una declaración if que maneja cualquier entrada a min_ depth que son hojas, por lo que no deberíamos incluya esta línea para eliminar la redundancia en nuestro código."
   ]
  },
  {
   "cell_type": "code",
   "execution_count": 172,
   "metadata": {
    "id": "S25O5u70vtan"
   },
   "outputs": [],
   "source": [
    "def min_depth(t):\n",
    "    \"\"\"A simple function to return the distance between t's root and its closest leaf\"\"\"\n",
    "    if is_leaf(t):\n",
    "        return 0\n",
    "    h = float('inf')\n",
    "    for b in branches(t):\n",
    "        # Still works fine!\n",
    "        h = min(h, 1 + min_depth(b))\n",
    "    return h"
   ]
  },
  {
   "cell_type": "markdown",
   "metadata": {
    "id": "CbqXeBKvENv8"
   },
   "source": [
    "**Móviles**\n",
    "\n",
    "Estamos haciendo un planetario móvil. Un móvil es un tipo de escultura colgante. Un móvil binario consta de dos brazos. Cada brazo es una varilla de cierta longitud, de la que cuelga un planeta u otro móvil. Por ejemplo, el siguiente diagrama muestra los brazos izquierdo y derecho del Móvil A y lo que cuelga en los extremos de cada uno de esos brazos."
   ]
  },
  {
   "cell_type": "markdown",
   "metadata": {
    "id": "7_xUNbfWEdk4"
   },
   "source": [
    "![image.png](data:image/png;base64,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)"
   ]
  },
  {
   "cell_type": "markdown",
   "metadata": {
    "id": "756sxwGZEeN7"
   },
   "source": [
    "Representaremos un móvil binario utilizando las abstracciones de datos a continuación:\n",
    "\n",
    "+ Un móvil debe tener un brazo izquierdo y un brazo derecho.\n",
    "+ Un brazo tiene una longitud positiva y debe tener algo colgando al + final, ya sea un móvil o un planeta.\n",
    "+ Un planeta tiene un tamaño positivo y nada cuelga de él.\n",
    "\n",
    "**Pregunta 1:** Pesos\n",
    "\n",
    "Implemente la abstracción de datos de planetas completando el constructor de planetas y el selector de tamaño para que un planeta se represente usando una lista de dos elementos donde el primer elemento es la cadena 'planeta' y el segundo elemento es su tamaño."
   ]
  },
  {
   "cell_type": "code",
   "execution_count": 173,
   "metadata": {
    "id": "8EBOV8uBLUIJ"
   },
   "outputs": [],
   "source": [
    "def mobile(left, right):\n",
    "    \"\"\"Construct a mobile from a left arm and a right arm.\"\"\"\n",
    "    assert is_arm(left), \"left must be a arm\"\n",
    "    assert is_arm(right), \"right must be a arm\"\n",
    "    return ['mobile', left, right]\n",
    "\n",
    "def is_mobile(m):\n",
    "    \"\"\"Return whether m is a mobile.\"\"\"\n",
    "    return type(m) == list and len(m) == 3 and m[0] == 'mobile'\n",
    "\n",
    "def left(m):\n",
    "    \"\"\"Select the left arm of a mobile.\"\"\"\n",
    "    assert is_mobile(m), \"must call left on a mobile\"\n",
    "    return m[1]\n",
    "\n",
    "def right(m):\n",
    "    \"\"\"Select the right arm of a mobile.\"\"\"\n",
    "    assert is_mobile(m), \"must call right on a mobile\"\n",
    "    return m[2]"
   ]
  },
  {
   "cell_type": "code",
   "execution_count": 174,
   "metadata": {
    "id": "MiR6u58jFJKH"
   },
   "outputs": [],
   "source": [
    "def arm(length, mobile_or_planet):\n",
    "    \"\"\"Construct a arm: a length of rod with a mobile or planet at the end.\"\"\"\n",
    "    assert is_mobile(mobile_or_planet) or is_planet(mobile_or_planet)\n",
    "    return ['arm', length, mobile_or_planet]\n",
    "\n",
    "def is_arm(s):\n",
    "    \"\"\"Return whether s is a arm.\"\"\"\n",
    "    return type(s) == list and len(s) == 3 and s[0] == 'arm'\n",
    "\n",
    "def length(s):\n",
    "    \"\"\"Select the length of a arm.\"\"\"\n",
    "    assert is_arm(s), \"must call length on a arm\"\n",
    "    return s[1]\n",
    "\n",
    "def end(s):\n",
    "    \"\"\"Select the mobile or planet hanging at the end of a arm.\"\"\"\n",
    "    assert is_arm(s), \"must call end on a arm\"\n",
    "    return s[2]"
   ]
  },
  {
   "cell_type": "code",
   "execution_count": 175,
   "metadata": {
    "id": "OksgEtpdNjOa"
   },
   "outputs": [],
   "source": [
    "def planet(size):\n",
    "    \"\"\"Construct a planet of some size.\"\"\"\n",
    "    assert size > 0\n",
    "    return ['planet', size]\n",
    "\n",
    "def size(w):\n",
    "    \"\"\"Select the size of a planet.\"\"\"\n",
    "    assert is_planet(w), 'must call size on a planet'\n",
    "    return w[1]\n",
    "\n",
    "def is_planet(w):\n",
    "    \"\"\"Whether w is a planet.\"\"\"\n",
    "    return type(w) == list and len(w) == 2 and w[0] == 'planet'"
   ]
  },
  {
   "cell_type": "code",
   "execution_count": 176,
   "metadata": {
    "id": "YvgDC1EKNjsR"
   },
   "outputs": [],
   "source": [
    "def examples():\n",
    "    t = mobile(arm(1, planet(2)),\n",
    "               arm(2, planet(1)))\n",
    "    u = mobile(arm(5, planet(1)),\n",
    "               arm(1, mobile(arm(2, planet(3)),\n",
    "                              arm(3, planet(2)))))\n",
    "    v = mobile(arm(4, t), arm(2, u))\n",
    "    return (t, u, v)"
   ]
  },
  {
   "cell_type": "markdown",
   "metadata": {
    "id": "GvwC9UGDNmMC"
   },
   "source": [
    "El ejemplo de total_weight se proporciona para demostrar el uso de las abstracciones de móvil, brazo y planeta."
   ]
  },
  {
   "cell_type": "code",
   "execution_count": 177,
   "metadata": {
    "id": "-71K60IfNvCl"
   },
   "outputs": [],
   "source": [
    "def total_weight(m):\n",
    "    \"\"\"Return the total weight of m, a planet or mobile.\n",
    "\n",
    "    >>> t, u, v = examples()\n",
    "    >>> total_weight(t)\n",
    "    3\n",
    "    >>> total_weight(u)\n",
    "    6\n",
    "    >>> total_weight(v)\n",
    "    9\n",
    "    >>> from construct_check import check\n",
    "    >>> # checking for abstraction barrier violations by banning indexing\n",
    "    >>> check(HW_SOURCE_FILE, 'total_weight', ['Index'])\n",
    "    True\n",
    "    \"\"\"\n",
    "    if is_planet(m):\n",
    "        return size(m)\n",
    "    else:\n",
    "        assert is_mobile(m), \"must get total weight of a mobile or a planet\"\n",
    "        return total_weight(end(left(m))) + total_weight(end(right(m)))\n",
    "    "
   ]
  },
  {
   "cell_type": "markdown",
   "metadata": {
    "id": "38G2KkanNvqn"
   },
   "source": [
    "**Pregunta 2:** Equilibrado\n",
    "\n",
    "Implemente la función `balanced`, que devuelve si m es un móvil balanceado. Un móvil está equilibrado si se cumplen las dos condiciones siguientes:\n",
    "\n",
    "+ El torque aplicado por su brazo izquierdo es igual al aplicado por su brazo derecho. El torque del brazo izquierdo es la longitud de la barra izquierda multiplicada por el peso total que cuelga de esa barra. Igualmente para la derecha. Por ejemplo, si el brazo izquierdo tiene una longitud de 5, y en el extremo del brazo izquierdo cuelga un móvil de peso 10, el par en el lado izquierdo de nuestro móvil es de 50.\n",
    "+ Cada uno de los móviles que cuelgan al final de sus brazos está equilibrado.\n",
    "\n",
    "Los planetas en sí mismos están equilibrados, ya que no hay nada colgando de ellos."
   ]
  },
  {
   "cell_type": "code",
   "execution_count": 178,
   "metadata": {
    "id": "tHgXuqsTOH-y"
   },
   "outputs": [
    {
     "data": {
      "text/plain": [
       "True"
      ]
     },
     "execution_count": 178,
     "metadata": {},
     "output_type": "execute_result"
    }
   ],
   "source": [
    "def balanced(m):\n",
    "    \"\"\"Devuelve si m está equilibrado.\n",
    "\n",
    "    >>> t, u, v = examples()\n",
    "    >>> balanced(t)\n",
    "    True\n",
    "    >>> balanced(v)\n",
    "    True\n",
    "    >>> w = mobile(arm(3, t), arm(2, u))\n",
    "    >>> balanced(w)\n",
    "    False\n",
    "    >>> balanced(mobile(arm(1, v), arm(1, w)))\n",
    "    False\n",
    "    >>> balanced(mobile(arm(1, w), arm(1, v)))\n",
    "    False\n",
    "    >>> from construct_check import check\n",
    "    >>> # checking for abstraction barrier violations by banning indexing\n",
    "    >>> check(HW_SOURCE_FILE, 'balanced', ['Index'])\n",
    "    True\n",
    "    \"\"\"\n",
    "    if is_planet(m):\n",
    "        return True\n",
    "    \n",
    "    else:\n",
    "        return (total_weight(end(left(m))) * length(left(m))) == (total_weight(end(right(m)))) * length(right(m)) and balanced(end(left(m))) and balanced(end(right(m)))\n",
    "    \n",
    "t, u, v = examples()\n",
    "balanced(t)\n",
    "balanced(v)"
   ]
  },
  {
   "cell_type": "markdown",
   "metadata": {
    "id": "brd1IGZ0O89g"
   },
   "source": [
    "**Pregunta 3:**Totales\n",
    "\n",
    "Implemente totals_tree, que toma un móvil o un planeta y devuelve un árbol cuya raíz es el peso total de la entrada. Para un planeta, totals_tree debería devolver una hoja. Para un móvil, totals_tree debe devolver un árbol cuya etiqueta sea el peso total de ese móvil y cuyas ramas sean totals_trees para los extremos de sus brazos. Como recordatorio, la descripción de la abstracción de datos del árbol se puede encontrar aquí."
   ]
  },
  {
   "cell_type": "code",
   "execution_count": 179,
   "metadata": {
    "id": "HSF-YGCgRvan"
   },
   "outputs": [
    {
     "name": "stdout",
     "output_type": "stream",
     "text": [
      " 6\n",
      "   1\n",
      "   5\n",
      "     3\n",
      "     2\n"
     ]
    }
   ],
   "source": [
    "def totals_tree(m):\n",
    "    \"\"\"Devuelve un árbol que representa el móvil con su peso total en la raíz.\n",
    "\n",
    "    >>> t, u, v = examples()\n",
    "    >>> print_tree(totals_tree(t))\n",
    "    3\n",
    "      2\n",
    "      1\n",
    "    >>> print_tree(totals_tree(u))\n",
    "    6\n",
    "      1\n",
    "      5\n",
    "        3\n",
    "        2\n",
    "    >>> print_tree(totals_tree(v))\n",
    "    9\n",
    "      3\n",
    "        2\n",
    "        1\n",
    "      6\n",
    "        1\n",
    "        5\n",
    "          3\n",
    "          2\n",
    "    \"\"\"\n",
    "    \"*** YOUR CODE HERE ***\"\n",
    "    if is_planet(m): return tree(total_weight(m))\n",
    "    \n",
    "    return tree(total_weight(m), [totals_tree(end(left(m))), totals_tree(end(right(m)))])\n",
    "    \n",
    "    \n",
    "t, u, v = examples()\n",
    "print_tree(totals_tree(u))\n",
    "\n"
   ]
  },
  {
   "cell_type": "markdown",
   "metadata": {
    "id": "4jsS2_rqU07z"
   },
   "source": [
    "**Pregunta 4:** Reemplaza a Loki en hoja\n",
    "\n",
    "Defina replace_loki_at_leaf, que toma un árbol t y un valor lokis_replacement. replace_loki_at_leaf devuelve un nuevo árbol que es igual a t excepto que cada etiqueta de hoja igual a \"loki\" ha sido reemplazada por lokis_replacement"
   ]
  },
  {
   "cell_type": "code",
   "execution_count": 199,
   "metadata": {
    "id": "KjwPVh2BVKt3"
   },
   "outputs": [
    {
     "name": "stdout",
     "output_type": "stream",
     "text": [
      " odin\n",
      "   balder\n",
      "     freya\n",
      "     freya\n",
      "   frigg\n",
      "     freya\n",
      "   freya\n",
      "     sif\n",
      "     freya\n",
      "   freya\n"
     ]
    }
   ],
   "source": [
    "def replace_loki_at_leaf(t, lokis_replacement):\n",
    "    \"\"\"Returns a new tree where every leaf value equal to \"loki\" has\n",
    "    been replaced with lokis_replacement.\n",
    "\n",
    "    >>> yggdrasil = tree('odin',\n",
    "    ...                  [tree('balder',\n",
    "    ...                        [tree('loki'),\n",
    "    ...                         tree('freya')]),\n",
    "    ...                   tree('frigg',\n",
    "    ...                        [tree('loki')]),\n",
    "    ...                   tree('loki',\n",
    "    ...                        [tree('sif'),\n",
    "    ...                         tree('loki')]),\n",
    "    ...                   tree('loki')])\n",
    "    >>> laerad = copy_tree(yggdrasil) # copy yggdrasil for testing purposes\n",
    "    >>> print_tree(replace_loki_at_leaf(yggdrasil, 'freya'))\n",
    "    odin\n",
    "      balder\n",
    "        freya\n",
    "        freya\n",
    "      frigg\n",
    "        freya\n",
    "      loki\n",
    "        sif\n",
    "        freya\n",
    "      freya\n",
    "    >>> laerad == yggdrasil # Make sure original tree is unmodified\n",
    "    True\n",
    "    \"\"\"\n",
    "    if label(t) == 'loki': \n",
    "        t[0] = lokis_replacement\n",
    "        \n",
    "    for b in branches(t):\n",
    "        if label(b) == 'loki':\n",
    "            b[0] = lokis_replacement\n",
    "            \n",
    "        if is_leaf(b) == False:\n",
    "            x = replace_loki_at_leaf(b, lokis_replacement)\n",
    "    return t\n",
    "    \n",
    "p = tree('odin',[tree('balder',[tree('loki'),tree('freya')]),tree('frigg',[tree('loki')]),tree('loki',[tree('sif'),tree('loki')]),tree('loki')])\n",
    "print_tree(replace_loki_at_leaf(yggdrasil, 'freya'))"
   ]
  },
  {
   "cell_type": "markdown",
   "metadata": {
    "id": "adhOoyxfVLEX"
   },
   "source": [
    "**Pregunta 5:** Tiene camino\n",
    "\n",
    "Escriba una función has_path que tome un árbol t y una palabra de cadena. Devuelve True si hay una ruta que comienza desde la raíz donde las entradas a lo largo de la ruta deletrean la palabra, y False en caso contrario. (Esta estructura de datos se llama trie y tiene muchas aplicaciones geniales, como autocompletar). Puede suponer que la etiqueta de cada nodo es exactamente un carácter.\n",
    "\n"
   ]
  },
  {
   "cell_type": "code",
   "execution_count": 302,
   "metadata": {
    "id": "uOmGwgUzWMxk"
   },
   "outputs": [
    {
     "name": "stdout",
     "output_type": "stream",
     "text": [
      "\n",
      "iell\n",
      "iel\n",
      "ie\n",
      "None\n"
     ]
    }
   ],
   "source": [
    "def has_path(t, word):\n",
    "    \"\"\"Return whether there is a path in a tree where the entries along the path\n",
    "    spell out a particular word.\n",
    "\n",
    "    >>> greetings = tree('h', [tree('i'),\n",
    "    ...                        tree('e', [tree('l', [tree('l', [tree('o')])]),\n",
    "    ...                                   tree('y')])])\n",
    "    >>> print_tree(greetings)\n",
    "    h\n",
    "      i\n",
    "      e\n",
    "        l\n",
    "          l\n",
    "            o\n",
    "        y\n",
    "    >>> has_path(greetings, 'h')\n",
    "    True\n",
    "    >>> has_path(greetings, 'i')\n",
    "    False\n",
    "    >>> has_path(greetings, 'hi')\n",
    "    True\n",
    "    >>> has_path(greetings, 'hello')\n",
    "    True\n",
    "    >>> has_path(greetings, 'hey')\n",
    "    True\n",
    "    >>> has_path(greetings, 'bye')\n",
    "    False\n",
    "    >>> has_path(greetings, 'hint')\n",
    "    False\n",
    "    \"\"\"\n",
    "    assert len(word) > 0, 'no path for empty word.'\n",
    "    hol = ''\n",
    "    if label(t) == word[0] and len(word) == 1:\n",
    "        return True   \n",
    "    def tree_str(t, hol): \n",
    "        for k in branches(t):\n",
    "            \n",
    "            hol += label(k)\n",
    "            \n",
    "            if is_leaf(k) == False:\n",
    "                tree_str(k,hol)\n",
    "                print(hol)\n",
    "        \n",
    "    print(hol) \n",
    "        \n",
    "        \n",
    "    \n",
    "    LISTONGO = tree_str(t, hol)\n",
    "    print(LISTONGO)\n",
    "    \n",
    "        \n",
    "    \n",
    "greetings = tree('h', [tree('i'), tree('e', [tree('l', [tree('l', [tree('o')])]),tree('y')])])\n",
    "#print_tree(greetings)\n",
    "has_path(greetings, 'hi')"
   ]
  },
  {
   "cell_type": "code",
   "execution_count": null,
   "metadata": {},
   "outputs": [],
   "source": [
    "for k in branches(t):\n",
    "        hol += label(k)\n",
    "        for z in branches(k):\n",
    "            hol += label(z)\n",
    "            for w in branches(z):\n",
    "                hol += label(w)\n",
    "                for m in branches(w):\n",
    "                    hol += label(m)"
   ]
  }
 ],
 "metadata": {
  "colab": {
   "collapsed_sections": [],
   "provenance": []
  },
  "kernelspec": {
   "display_name": "Python 3 (ipykernel)",
   "language": "python",
   "name": "python3"
  },
  "language_info": {
   "codemirror_mode": {
    "name": "ipython",
    "version": 3
   },
   "file_extension": ".py",
   "mimetype": "text/x-python",
   "name": "python",
   "nbconvert_exporter": "python",
   "pygments_lexer": "ipython3",
   "version": "3.9.7"
  }
 },
 "nbformat": 4,
 "nbformat_minor": 1
}
