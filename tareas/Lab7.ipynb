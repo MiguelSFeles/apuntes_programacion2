{
 "cells": [
  {
   "cell_type": "markdown",
   "metadata": {
    "id": "bgpk0ZQFeDL-"
   },
   "source": [
    "# Laboratorio 7: Programación Orientada a Objetos\n",
    "# Miguel Feles\n",
    "\n",
    "**Instrucciones**\n",
    "\n",
    "Responda las siguientes preguntas según el enunciado de cada una.\n",
    "\n",
    "Al terminar guarde su archivo con los apellidos de cada uno en el grupo separados por el símbolo _ por ejemplo: apellido1_apellido2.jpynb.\n",
    "\n",
    "El laboratorio se calificará al final de la clase. \n",
    "\n",
    "\n",
    "Usted puede trabajar en parejas, la copia será tratada de acuerdo al reglamento estudiantil."
   ]
  },
  {
   "cell_type": "markdown",
   "metadata": {
    "id": "qIF9eiaJpvXx"
   },
   "source": [
    "**Pregunta 1:** Carros clásicos\n",
    "\n",
    "A continuación se muestra la definición de una clase de automóvil que usaremos en las siguientes preguntas."
   ]
  },
  {
   "cell_type": "markdown",
   "metadata": {
    "id": "5GUBFYHvp-rk"
   },
   "source": [
    "\n",
    "\n",
    "```\n",
    "class Car:\n",
    "    num_wheels = 4\n",
    "    gas = 30\n",
    "    headlights = 2\n",
    "    size = 'Tiny'\n",
    "\n",
    "    def __init__(self, make, model):\n",
    "        self.make = make\n",
    "        self.model = model\n",
    "        self.color = 'No color yet. You need to paint me.'\n",
    "        self.wheels = Car.num_wheels\n",
    "        self.gas = Car.gas\n",
    "\n",
    "    def paint(self, color):\n",
    "        self.color = color\n",
    "        return self.make + ' ' + self.model + ' is now ' + color\n",
    "\n",
    "    def drive(self):\n",
    "        if self.wheels < Car.num_wheels or self.gas <= 0:\n",
    "            return 'Cannot drive!'\n",
    "        self.gas -= 10\n",
    "        return self.make + ' ' + self.model + ' goes vroom!'\n",
    "\n",
    "    def pop_tire(self):\n",
    "        if self.wheels > 0:\n",
    "            self.wheels -= 1\n",
    "\n",
    "    def fill_gas(self):\n",
    "        self.gas += 20\n",
    "        return 'Gas level: ' + str(self.gas)\n",
    "```\n",
    "\n"
   ]
  },
  {
   "cell_type": "markdown",
   "metadata": {
    "id": "vz4ifXvzqBw4"
   },
   "source": [
    "Para las preguntas posteriores, haremos referencia a la clase MonsterTruck a continuación.\n",
    "\n",
    "\n",
    "```\n",
    "class MonsterTruck(Car):\n",
    "     size = 'Monster'\n",
    "\n",
    "     def rev(self):\n",
    "         print('Vroom! This Monster Truck is huge!')\n",
    "\n",
    "     def drive(self):\n",
    "         self.rev()\n",
    "         return Car.drive(self)\n",
    "```\n",
    "\n"
   ]
  },
  {
   "cell_type": "markdown",
   "metadata": {
    "id": "nWmKBccYqQke"
   },
   "source": [
    "**Importante:** Para las siguientes preguntas escriba Función si cree que la respuesta es <función...>, Error si falla y Nada si no se muestra nada.\n",
    "\n",
    "\n",
    "```\n",
    ">>> deneros_car = Car('Tesla', 'Model S')\n",
    ">>> deneros_car.model\n",
    "'Model S'\n",
    "\n",
    ">>> deneros_car.gas = 10\n",
    ">>> deneros_car.drive()\n",
    "'Tesla Model S goes vroom!'\n",
    "\n",
    ">>> deneros_car.drive()\n",
    "'Cannot drive!'\n",
    "\n",
    ">>> deneros_car.fill_gas()\n",
    "'Gas level: 20'\n",
    "\n",
    ">>> deneros_car.gas\n",
    "20\n",
    "\n",
    ">>> Car.gas\n",
    "30\n",
    "\n",
    "```\n",
    "\n"
   ]
  },
  {
   "cell_type": "markdown",
   "metadata": {
    "id": "lqZYnGjNqbc_"
   },
   "source": [
    "\n",
    "\n",
    "```\n",
    ">>> deneros_car = Car('Tesla', 'Model S')\n",
    ">>> deneros_car.wheels = 2\n",
    ">>> deneros_car.wheels\n",
    "2\n",
    "\n",
    ">>> Car.num_wheels\n",
    "4\n",
    "\n",
    ">>> deneros_car.drive()\n",
    "'Cannot drive!'\n",
    "\n",
    ">>> Car.drive()\n",
    "Error\n",
    "\n",
    ">>> Car.drive(deneros_car)\n",
    "'Cannot drive!'\n",
    "\n",
    "```\n",
    "\n"
   ]
  },
  {
   "cell_type": "markdown",
   "metadata": {
    "id": "6ZvDmeKuqe2P"
   },
   "source": [
    "\n",
    "\n",
    "```\n",
    ">>> deneros_car = MonsterTruck('Monster', 'Batmobile')\n",
    ">>> deneros_car.drive()\n",
    "Vroom! This Monster Truck is huge!\n",
    "'Monster Batmobile goes vroom!'\n",
    "\n",
    ">>> Car.drive(deneros_car)\n",
    "'Monster Batmobile goes vroom!'\n",
    "\n",
    ">>> MonsterTruck.drive(deneros_car)\n",
    "Vroom! This Monster Truck is huge!\n",
    "'Monster Batmobile goes vroom!'\n",
    "\n",
    "\n",
    ">>> Car.rev(deneros_car)\n",
    "Error\n",
    "```\n",
    "\n"
   ]
  },
  {
   "cell_type": "markdown",
   "metadata": {
    "id": "a6PQjs8HshA4"
   },
   "source": [
    "---\n",
    "Cuentas\n",
    "\n",
    "Digamos que nos gustaría modelar una cuenta bancaria que pueda manejar interacciones como depositar fondos o ganar intereses sobre fondos actuales. En las siguientes preguntas, construiremos a partir de la clase Cuenta. Aquí está nuestra definición actual de la clase:"
   ]
  },
  {
   "cell_type": "code",
   "execution_count": 65,
   "metadata": {
    "id": "G_pijX9xeBjf"
   },
   "outputs": [],
   "source": [
    "class Account:\n",
    "    \"\"\"An account has a balance and a holder.\n",
    "    >>> a = Account('John')\n",
    "    >>> a.deposit(10)\n",
    "    10\n",
    "    >>> a.balance\n",
    "    10\n",
    "    >>> a.interest\n",
    "    0.02\n",
    "    >>> a.time_to_retire(10.25) # 10 -> 10.2 -> 10.404\n",
    "    2\n",
    "    >>> a.balance               # balance should not change\n",
    "    10\n",
    "    >>> a.time_to_retire(11)    # 10 -> 10.2 -> ... -> 11.040808032\n",
    "    5\n",
    "    >>> a.time_to_retire(100)\n",
    "    117\n",
    "    \"\"\"\n",
    "    max_withdrawal = 10\n",
    "    interest = 0.02\n",
    "\n",
    "    def __init__(self, account_holder):\n",
    "        self.balance = 0\n",
    "        self.holder = account_holder\n",
    "\n",
    "    def deposit(self, amount):\n",
    "        self.balance = self.balance + amount\n",
    "        return self.balance\n",
    "\n",
    "    def withdraw(self, amount):\n",
    "        if amount > self.balance:\n",
    "            return \"Insufficient funds\"\n",
    "        if amount > self.max_withdrawal:\n",
    "            return \"Can't withdraw that amount\"\n",
    "        self.balance = self.balance - amount\n",
    "        return self.balance\n"
   ]
  },
  {
   "cell_type": "markdown",
   "metadata": {
    "id": "Rz1v2fqYspdT"
   },
   "source": [
    "**Pregunta 2:**Jubilación\n",
    "\n",
    "Agregue un método time_to_retire a la clase Cuenta. Este método toma una cantidad y devuelve cuántos años tendría que esperar el titular para que el saldo actual crezca al menos a la cantidad, asumiendo que el banco suma el saldo multiplicado por la tasa de interés al saldo total al final de cada año. ."
   ]
  },
  {
   "cell_type": "code",
   "execution_count": 66,
   "metadata": {
    "id": "J66E4iV_sxjF"
   },
   "outputs": [],
   "source": [
    " def time_to_retire(self, amount):\n",
    "        \"\"\"Return the number of years until balance would grow to amount.\"\"\"\n",
    "        assert self.balance > 0 and amount > 0 and self.interest > 0\n",
    "        time = 0\n",
    "        value = self.balance\n",
    "        while value < amount:\n",
    "            value += value*interest\n",
    "        return time"
   ]
  },
  {
   "cell_type": "markdown",
   "metadata": {
    "id": "XbDDlAAHszg1"
   },
   "source": [
    "**Pregunta 3:** FreeChecking\n",
    "\n",
    "Implemente la clase FreeChecking, que es como la clase Cuenta de la conferencia, excepto que cobra una tarifa de retiro después de 2 retiros. Si un retiro no tiene éxito, aún cuenta para el número de retiros gratuitos restantes, pero no se cobrará ninguna tarifa por el retiro."
   ]
  },
  {
   "cell_type": "code",
   "execution_count": 101,
   "metadata": {
    "id": "cAimLDDcs6ux"
   },
   "outputs": [],
   "source": [
    "class FreeChecking(Account):\n",
    "    \"\"\"A bank account that charges for withdrawals, but the first two are free!\n",
    "    >>> ch = FreeChecking('Jack')\n",
    "    >>> ch.balance = 20\n",
    "    >>> ch.withdraw(100)  # First one's free\n",
    "    'Insufficient funds'\n",
    "    >>> ch.withdraw(3)    # And the second\n",
    "    17\n",
    "    >>> ch.balance\n",
    "    17\n",
    "    >>> ch.withdraw(3)    # Ok, two free withdrawals is enough\n",
    "    13\n",
    "    >>> ch.withdraw(3)\n",
    "    9\n",
    "    >>> ch2 = FreeChecking('John')\n",
    "    >>> ch2.balance = 10\n",
    "    >>> ch2.withdraw(3) # No fee\n",
    "    7\n",
    "    >>> ch.withdraw(3)  # ch still charges a fee\n",
    "    5\n",
    "    >>> ch.withdraw(5)  # Not enough to cover fee + withdraw\n",
    "    'Insufficient funds'\n",
    "    \"\"\"\n",
    "    withdraw_fee = 1\n",
    "    free_withdrawals = 2\n",
    "        \n",
    "    def withdraw(self, amount):\n",
    "        if self.free_withdrawals > 0:\n",
    "            self.free_withdrawals -= 1\n",
    "            return super().withdraw(amount)\n",
    "            \n",
    "        else: return super().withdraw(amount + self.withdraw_fee)\n"
   ]
  },
  {
   "cell_type": "code",
   "execution_count": 102,
   "metadata": {},
   "outputs": [
    {
     "data": {
      "text/plain": [
       "'Insufficient funds'"
      ]
     },
     "execution_count": 102,
     "metadata": {},
     "output_type": "execute_result"
    }
   ],
   "source": [
    "ch = FreeChecking('Jack')\n",
    "ch.balance = 20\n",
    "ch.balance\n",
    "ch.withdraw(100)\n"
   ]
  },
  {
   "cell_type": "code",
   "execution_count": 103,
   "metadata": {},
   "outputs": [
    {
     "data": {
      "text/plain": [
       "17"
      ]
     },
     "execution_count": 103,
     "metadata": {},
     "output_type": "execute_result"
    }
   ],
   "source": [
    "ch.withdraw(3)"
   ]
  },
  {
   "cell_type": "code",
   "execution_count": 104,
   "metadata": {},
   "outputs": [
    {
     "data": {
      "text/plain": [
       "13"
      ]
     },
     "execution_count": 104,
     "metadata": {},
     "output_type": "execute_result"
    }
   ],
   "source": [
    "ch.withdraw(3)"
   ]
  },
  {
   "cell_type": "code",
   "execution_count": 100,
   "metadata": {},
   "outputs": [
    {
     "data": {
      "text/plain": [
       "9"
      ]
     },
     "execution_count": 100,
     "metadata": {},
     "output_type": "execute_result"
    }
   ],
   "source": [
    "ch.withdraw(3)"
   ]
  },
  {
   "cell_type": "code",
   "execution_count": 112,
   "metadata": {},
   "outputs": [],
   "source": [
    "ch2 = FreeChecking('John')\n",
    "ch2.balance = 10"
   ]
  },
  {
   "cell_type": "markdown",
   "metadata": {
    "id": "tG0XcNOJs8uF"
   },
   "source": []
  },
  {
   "cell_type": "code",
   "execution_count": 113,
   "metadata": {},
   "outputs": [
    {
     "data": {
      "text/plain": [
       "7"
      ]
     },
     "execution_count": 113,
     "metadata": {},
     "output_type": "execute_result"
    }
   ],
   "source": [
    "ch2.withdraw(3) # No fee"
   ]
  },
  {
   "cell_type": "code",
   "execution_count": 114,
   "metadata": {},
   "outputs": [
    {
     "data": {
      "text/plain": [
       "4"
      ]
     },
     "execution_count": 114,
     "metadata": {},
     "output_type": "execute_result"
    }
   ],
   "source": [
    "ch2.withdraw(3)"
   ]
  },
  {
   "cell_type": "code",
   "execution_count": 115,
   "metadata": {},
   "outputs": [
    {
     "data": {
      "text/plain": [
       "'Insufficient funds'"
      ]
     },
     "execution_count": 115,
     "metadata": {},
     "output_type": "execute_result"
    }
   ],
   "source": [
    "ch2.withdraw(4)"
   ]
  },
  {
   "cell_type": "markdown",
   "metadata": {
    "id": "3-MH8h-MsplY"
   },
   "source": []
  }
 ],
 "metadata": {
  "colab": {
   "provenance": []
  },
  "kernelspec": {
   "display_name": "Python 3 (ipykernel)",
   "language": "python",
   "name": "python3"
  },
  "language_info": {
   "codemirror_mode": {
    "name": "ipython",
    "version": 3
   },
   "file_extension": ".py",
   "mimetype": "text/x-python",
   "name": "python",
   "nbconvert_exporter": "python",
   "pygments_lexer": "ipython3",
   "version": "3.9.7"
  }
 },
 "nbformat": 4,
 "nbformat_minor": 1
}
