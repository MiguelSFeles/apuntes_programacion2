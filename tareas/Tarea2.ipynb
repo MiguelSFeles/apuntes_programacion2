{
 "cells": [
  {
   "cell_type": "markdown",
   "metadata": {
    "id": "BLKVKZHkZ1Xc"
   },
   "source": [
    "# Tarea 2 : Juego Hog"
   ]
  },
  {
   "cell_type": "markdown",
   "metadata": {
    "id": "VBe0XoWwZ4xi"
   },
   "source": [
    "**Instrucciones**\n",
    "\n",
    "+ Responda las siguientes preguntas según el enunciado de cada una. \n",
    "\n",
    "+ Al terminar guarde su archivo con los apellidos de cada uno en el grupo separados por el símbolo _ por ejemplo: **apellido1_apellido2.jpynb** y **ENVIE ESTE ARCHIVO NO SU ENLACE.**\n",
    "\n",
    "+ Envíe la tarea al correo: german.combariza@uexternado.edu.co antes de las 11:59pm de la fecha dada. Tareas enviadas después de la hora no se reciben.\n",
    "\n",
    "+ **Secciones:**\n",
    "Para esta tarea ud puede consultas las siguientes secciones del libro: \n",
    " Seccion 1.2 a 1.6 de: http://composingprograms.com/\n",
    "\n",
    "+ Usted puede trabajar en grupo, pero por favor cada uno escriba sus propias solucinoes, **la copia será tratada de acuerdo al reglamento estudiantil**.  "
   ]
  },
  {
   "cell_type": "markdown",
   "metadata": {
    "id": "fY9Y5uwRaV3A"
   },
   "source": [
    "En Hog, dos jugadores alternan turnos tratando de ser los primeros en terminar un turno con al menos 100 puntos en total. En cada turno, el jugador actual elige una cantidad de dados para tirar, hasta 10. La puntuación de ese jugador para el turno es la suma de los resultados de los dados. A continuación las reglas de nuestro juego:\n",
    "\n",
    "+ **Siembra Triste:** Si alguno de los resultados de los dados es 1, la puntuación del jugador actual para el turno es 1\n",
    "+ **Piggy quisquilloso:** Si un jugador que elige tirar cero dados obtiene el enésimo dígito de la expansión decimal de 1/7 (0.14285714...), donde n es el puntaje del oponente. Como caso especial, si n es 0, el jugador obtiene 7 puntos.\n",
    "+ **Pila de Hog:** Después de agregar los puntos del turno al puntaje del jugador actual, si los puntajes de los jugadores son los mismos, el puntaje del jugador actual se duplica.\n"
   ]
  },
  {
   "cell_type": "code",
   "execution_count": 45,
   "metadata": {
    "id": "6_P5wmGhZziM"
   },
   "outputs": [],
   "source": [
    "\"\"\"Funciones que simulan tiradas de dados.\n",
    "\n",
    "Una función de dado no acepta argumentos y devuelve un número del 1 al n \n",
    "(inclusive), donde n es el número de caras del dado.\n",
    "\n",
    "\"\"\"\n",
    "\n",
    "from random import randint\n",
    "\n",
    "\n",
    "def make_dice(sides):\n",
    "    \"\"\"Devuelva un dado que devuelva 1 a los LADOS con la misma probabilidad.\"\"\"\n",
    "    assert type(sides) == int and sides >= 1, 'Valor ilegal para lados'\n",
    "\n",
    "    def dice():\n",
    "        return randint(1, sides)\n",
    "    return dice\n",
    "six_sided = make_dice(6)"
   ]
  },
  {
   "cell_type": "markdown",
   "metadata": {
    "id": "aIGSS2LAADA_"
   },
   "source": [
    "**Paso 1:**\n",
    "Entender la función six_side()."
   ]
  },
  {
   "cell_type": "code",
   "execution_count": 46,
   "metadata": {
    "id": "f9c5dk8urzTf",
    "scrolled": true
   },
   "outputs": [
    {
     "data": {
      "text/plain": [
       "2"
      ]
     },
     "execution_count": 46,
     "metadata": {},
     "output_type": "execute_result"
    }
   ],
   "source": [
    "six_sided()"
   ]
  },
  {
   "cell_type": "code",
   "execution_count": 47,
   "metadata": {},
   "outputs": [
    {
     "data": {
      "text/plain": [
       "0.14285714285714285"
      ]
     },
     "execution_count": 47,
     "metadata": {},
     "output_type": "execute_result"
    }
   ],
   "source": [
    "1/7"
   ]
  },
  {
   "cell_type": "markdown",
   "metadata": {
    "id": "r_fFkVoKAJHk"
   },
   "source": [
    "**Paso 2:** Implemente la función `roll_dice`, la cual toma dos argumentos: un número entero positivo llamado `num_rolls` que da el número de dados a tirar y una función de `dados`. Esta función devuelve la cantidad de puntos obtenidos al lanzar ese número de dados: ya sea la suma de los resultados o 1. Por ejemplo:\n",
    "\n",
    "+ Ejemplo 1: El jugador actual lanza 7 dados, 5 de los cuales son 1. la función devuelve 1 punto por turno.\n",
    "\n",
    "+ Ejemplo 2: El jugador actual lanza 4 dados, todos los cuales son 3. Como Siembra Triste no ocurrió, obtiene 12 puntos por el turno.\n",
    "\n",
    "Recuerde llamar a la función de dado exactamente num_rolls veces incluso si Siembra Triste ocurre en medio de la tirada. De esta manera, simula correctamente tirar todos los dados juntos.\n",
    "\n"
   ]
  },
  {
   "cell_type": "code",
   "execution_count": 82,
   "metadata": {
    "id": "3vtBEJlmAs94"
   },
   "outputs": [
    {
     "data": {
      "text/plain": [
       "32"
      ]
     },
     "execution_count": 82,
     "metadata": {},
     "output_type": "execute_result"
    }
   ],
   "source": [
    "def roll_dice(num_rolls, dice=six_sided):\n",
    "    puntaje = 0\n",
    "    siembra_triste = False\n",
    "    for i in range(num_rolls):\n",
    "        lanzamiento = six_sided()\n",
    "        if lanzamiento == 1:\n",
    "            siembra_triste = True\n",
    "        puntaje += lanzamiento        \n",
    "        \n",
    "    if siembra_triste == True:\n",
    "        puntaje = 1\n",
    "        return puntaje\n",
    "    \n",
    "        \n",
    "    return puntaje\n",
    "    \n",
    "roll_dice(9)"
   ]
  },
  {
   "cell_type": "markdown",
   "metadata": {
    "id": "86HqFEbkD9_x"
   },
   "source": [
    "**Paso 3:**\n",
    "Implemente picky_piggy, que toma la puntuación actual del oponente y devuelve la cantidad de puntos obtenidos al tirar 0 dados.\n",
    "\n",
    "Recuerde que en Piggy quisquilloso (picky_piggy) un jugador queno lanzar el dado o lanzar cero dados obtiene el enésimo dígito de la expansión decimal de 1/7 (0.14285714...), donde n es el puntaje del oponente. Como caso especial, si n es 0, el jugador obtiene 7 puntos.\n",
    "\n",
    "Por ejemplo si el oponente tiene una puntuación de 3. El tercer dígito de la expansión decimal de 1/7 es 2: 0.14[2]85714285714285, el jugador actual recibirá 2 puntos.\n",
    "\n",
    "Condición: su código no debe usar str, listas ni contener corchetes [ ] en su implementación. Aparte de esta restricción, puede implementar esta función como le guste.\n",
    "\n",
    "Ayuda: La expansión decimal de 1/7 es un decimal periódico de 6 dígitos con los dígitos 142857.\n"
   ]
  },
  {
   "cell_type": "code",
   "execution_count": 3,
   "metadata": {
    "id": "7_S2-jYVA8ir"
   },
   "outputs": [
    {
     "data": {
      "text/plain": [
       "2"
      ]
     },
     "execution_count": 3,
     "metadata": {},
     "output_type": "execute_result"
    }
   ],
   "source": [
    "def picky_piggy(score):\n",
    "    if score == 0:\n",
    "        return 7\n",
    "    if score%6==1:\n",
    "        return 1\n",
    "    if score%6==2:\n",
    "        return 4\n",
    "    if score%6==3:\n",
    "        return 2\n",
    "    if score%6==4:\n",
    "        return 8\n",
    "    if score%6==5:\n",
    "        return 5\n",
    "    \n",
    "picky_piggy(3)"
   ]
  },
  {
   "cell_type": "code",
   "execution_count": null,
   "metadata": {},
   "outputs": [],
   "source": []
  },
  {
   "cell_type": "markdown",
   "metadata": {
    "id": "nSWZhwbHBAV7"
   },
   "source": [
    "**Paso 4:** Implemente la función take_turn, que devuelve la cantidad de puntos obtenidos en un turno al lanzar los dados dados num_rolls veces.\n",
    "\n",
    "Su implementación de take_turn debería llamar tanto a roll_dice como a picky_piggy cuando sea posible.\n",
    "\n"
   ]
  },
  {
   "cell_type": "code",
   "execution_count": null,
   "metadata": {
    "id": "pP3o8kRoCBG3"
   },
   "outputs": [],
   "source": [
    "def take_turn(num_rolls, opponent_score, dice=six_sided, goal=GOAL_SCORE):\n",
    "    \"\"\"Simula un turno tirando NUM_ROLLS dados, que puede ser 0 en el caso de \n",
    "    un jugador que use Picky Piggy.\n",
    "    Devuelve los puntos anotados en el turno por el jugador actual.\n",
    "\n",
    "    num_rolls:       El número de lanzadas de dados que se realizarán.\n",
    "    opponent_score:  La puntuación total del oponente.\n",
    "    dice:            Una función que simula el resultado de una sola tirada de dados.\n",
    "    goal:            El puntaje objetivo del juego.\n",
    "    \"\"\"\n",
    "    # Deje estas afirmaciones aquí; ayudan a comprobar si hay errores.\n",
    "    assert type(num_rolls) == int, 'num_rolls debe ser un número entero.'\n",
    "    assert num_rolls >= 0, 'No se puede lanzar un número negativo de dados.'\n",
    "    assert num_rolls <= 10, 'No se pueden más de 10 veces.'\n",
    "    assert opponent_score < goal, 'El juego terminó.'\n",
    "    \n",
    "    if num_rolls == 0:\n",
    "        puntaje = picky_piggy(opponent_score)\n",
    "    else:   \n",
    "        puntaje = roll_dice(num_rolls)\n",
    "    \n",
    "    return puntaje\n",
    "    \n",
    "    "
   ]
  },
  {
   "cell_type": "markdown",
   "metadata": {
    "id": "VcB19-eDLa-4"
   },
   "source": [
    "**Paso 5:**\n",
    "Implemente hog_pile (Pila de Hog), que toma las puntuaciones del jugador actual y del oponente y devuelve los puntos que el jugador actual recibirá debido a Pila de Hog. Si Pila de Hog no es aplicable, el jugador actual también podría recibir 0 puntos adicionales.\n",
    "\n",
    "Recuerde que en Pila de Hog después de agregar los puntos del turno al puntaje del jugador actual, si los puntajes de los jugadores son los mismos, el puntaje del jugador actual se duplica.\n",
    "\n",
    "Por ejemplo:\n",
    "\n",
    "+ Ambos jugadores comienzan en con puntajes (0, 0).\n",
    "+ El jugador 1 tira 2 dados y obtiene 5 puntos. (5, 0).\n",
    "+ El jugador 2 tira 1 dado y obtiene 5 puntos. La puntuación del jugador 1 se duplica. (5, 10)\n",
    "+ El jugador 1 tira 2 dados y obtiene 6 puntos. (11, 10).\n",
    "+ El jugador 2 tira 8 dados y obtiene 1 punto. La puntuación del jugador 1 se duplica. (11, 22)."
   ]
  },
  {
   "cell_type": "code",
   "execution_count": 54,
   "metadata": {
    "id": "Bzu8xLUgYz-d"
   },
   "outputs": [
    {
     "data": {
      "text/plain": [
       "(10, 5)"
      ]
     },
     "execution_count": 54,
     "metadata": {},
     "output_type": "execute_result"
    }
   ],
   "source": [
    "def hog_pile(player_score, opponent_score):\n",
    "    \"\"\"Devuelve los puntos anotados por el jugador debido a Hog Pile.\n",
    "\n",
    "    player_score:   La puntuación total del jugador actual.\n",
    "    opponent_score: La puntuación total del otro jugador.\n",
    "    \"\"\"\n",
    "    if player_score == opponent_score:\n",
    "        player_score = 2 * player_score\n",
    "    return (player_score, opponent_score)\n",
    "        \n",
    "hog_pile(5, 5)"
   ]
  },
  {
   "cell_type": "code",
   "execution_count": null,
   "metadata": {},
   "outputs": [],
   "source": []
  }
 ],
 "metadata": {
  "colab": {
   "collapsed_sections": [],
   "name": "Tarea2.ipynb",
   "provenance": []
  },
  "kernelspec": {
   "display_name": "Python 3",
   "language": "python",
   "name": "python3"
  },
  "language_info": {
   "codemirror_mode": {
    "name": "ipython",
    "version": 3
   },
   "file_extension": ".py",
   "mimetype": "text/x-python",
   "name": "python",
   "nbconvert_exporter": "python",
   "pygments_lexer": "ipython3",
   "version": "3.7.11"
  }
 },
 "nbformat": 4,
 "nbformat_minor": 1
}
