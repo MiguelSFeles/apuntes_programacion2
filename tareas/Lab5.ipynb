{
 "cells": [
  {
   "cell_type": "markdown",
   "metadata": {
    "id": "wp0pm8W39nKd"
   },
   "source": [
    "# Laboratorio 5:\n",
    "\n",
    "**Instrucciones**\n",
    "\n",
    "Responda las siguientes preguntas según el enunciado de cada una.\n",
    "\n",
    "Al terminar guarde su archivo con los apellidos de cada uno en el grupo separados por el símbolo _ por ejemplo: apellido1_apellido2.jpynb.\n",
    "\n",
    "El laboratorio se calificará al final de la clase. \n",
    "\n",
    "\n",
    "Usted puede trabajar en parejas, la copia será tratada de acuerdo al reglamento estudiantil."
   ]
  },
  {
   "cell_type": "markdown",
   "metadata": {
    "id": "nL90xATC9xE0"
   },
   "source": [
    "---\n",
    "# Listas"
   ]
  },
  {
   "cell_type": "markdown",
   "metadata": {
    "id": "NsFyUY2H94MR"
   },
   "source": [
    "**Pregunta 1:** Lista de factores\n",
    "\n",
    "Escribe lista_factores, que toma un número n y devuelve una lista de sus factores en orden ascendente."
   ]
  },
  {
   "cell_type": "code",
   "execution_count": 21,
   "metadata": {
    "id": "3Br8XXGU8S7i"
   },
   "outputs": [],
   "source": [
    "def factors_list(n):\n",
    "    \"\"\"Return a list containing all the numbers that divide `n` evenly, except\n",
    "    for the number itself. Make sure the list is in ascending order.\n",
    "\n",
    "    >>> factors_list(6)\n",
    "    [1, 2, 3]\n",
    "    >>> factors_list(8)\n",
    "    [1, 2, 4]\n",
    "    >>> factors_list(28)\n",
    "    [1, 2, 4, 7, 14]\n",
    "    \"\"\"\n",
    "    all_factors = [x for x in range(1,n) if n % x == 0]"
   ]
  },
  {
   "cell_type": "markdown",
   "metadata": {
    "id": "0OqpQ9tLzEub"
   },
   "source": [
    "**Pregunta 2:**Aplanar\n",
    "\n",
    "Escriba una función `flatten` que tome una lista y la \"aplane\". La lista podría ser una lista profunda, lo que significa que podría haber varias capas de anidamiento dentro de la lista.\n",
    "\n",
    "Por ejemplo, un caso de uso de flatten podría ser el siguiente:\n",
    "\n",
    "\n",
    "\n",
    "```\n",
    ">>> lista = [1, [[2], 3], 4, [5, 6]]\n",
    ">>> flatten(lst)\n",
    "[1, 2, 3, 4, 5, 6]\n",
    "```\n",
    "\n",
    "Asegúrese de que su solución no mute la lista de entrada.\n",
    "\n",
    "Sugerencia: puede verificar si algo es una lista utilizando la función de type incorporada. Por ejemplo:\n",
    "\n",
    "\n",
    "```\n",
    "\n",
    ">>> type(3) == lista\n",
    "False\n",
    ">>> type([1, 2, 3]) == lista\n",
    "True\n",
    "```\n",
    "\n",
    "\n",
    "\n"
   ]
  },
  {
   "cell_type": "code",
   "execution_count": 22,
   "metadata": {
    "id": "TJ1kCUDUz07K"
   },
   "outputs": [],
   "source": [
    "def flatten(s):\n",
    "    \"\"\"Returns a flattened version of list s.\n",
    "\n",
    "    >>> flatten([1, 2, 3])     # normal list\n",
    "    [1, 2, 3]\n",
    "    >>> x = [1, [2, 3], 4]     # deep list\n",
    "    >>> flatten(x)\n",
    "    [1, 2, 3, 4]\n",
    "    >>> x # Ensure x is not mutated\n",
    "    [1, [2, 3], 4]\n",
    "    >>> x = [[1, [1, 1]], 1, [1, 1]] # deep list\n",
    "    >>> flatten(x)\n",
    "    [1, 1, 1, 1, 1, 1]\n",
    "    >>> x\n",
    "    [[1, [1, 1]], 1, [1, 1]]\n",
    "    \"\"\"\n",
    "    \"*** YOUR CODE HERE ***\"\n",
    "    lista = []\n",
    "    for x in s:\n",
    "        if type(x) == list: lista = lista + flatten(x)\n",
    "        else: lista.append(x)\n",
    "    return lista\n",
    "        \n"
   ]
  },
  {
   "cell_type": "markdown",
   "metadata": {
    "id": "fQaC1jbmz691"
   },
   "source": [
    "---\n",
    "# Datos abstractos\n",
    "\n",
    "Digamos que tenemos un tipo de datos abstracto para ciudades. Una ciudad tiene un nombre, una coordenada de latitud y una coordenada de longitud.\n",
    "\n",
    "Nuestra abstracción de datos tiene un constructor:\n",
    "\n",
    "+ make_city(name, lat, lon): crea un objeto de ciudad con el nombre, la latitud y la longitud proporcionados.\n",
    "\n",
    "También disponemos de los siguientes selectores para obtener la información de cada ciudad:\n",
    "\n",
    "+ get_name(city): Devuelve el nombre de la ciudad\n",
    "+ get_lat(city): Devuelve la latitud de la ciudad\n",
    "+ get_lon(ciudad): Devuelve la longitud de la ciudad\n",
    "\n",
    "Así es como usaríamos el constructor y los selectores para crear ciudades y extraer su información:\n",
    "\n",
    "\n",
    "\n",
    "```\n",
    ">>> berkeley = make_city('Berkeley', 122, 37)\n",
    ">>> get_name(berkeley)\n",
    "'Berkeley'\n",
    ">>> get_lat(berkeley)\n",
    "122\n",
    ">>> new_york = make_city('New York City', 74, 40)\n",
    ">>> get_lon(new_york)\n",
    "40 \n",
    "```\n",
    "Todas las funciones de selector y constructor se pueden a continuación (si tiene curiosidad puede ver su implementación). Sin embargo, el objetivo de la abstracción de datos es que no necesitamos saber cómo se implementa un tipo de datos abstracto, sino cómo podemos interactuar y usar el tipo de datos.\n"
   ]
  },
  {
   "cell_type": "code",
   "execution_count": 26,
   "metadata": {
    "cellView": "form",
    "id": "ZnL0sQiC99wN"
   },
   "outputs": [],
   "source": [
    "#@title Funciones selector y constructor\n",
    "def make_city(name, lat, lon):\n",
    "    \"\"\"\n",
    "    >>> city = make_city('Berkeley', 0, 1)\n",
    "    >>> get_name(city)\n",
    "    'Berkeley'\n",
    "    >>> get_lat(city)\n",
    "    0\n",
    "    >>> get_lon(city)\n",
    "    1\n",
    "    \"\"\"\n",
    "    #if change_abstraction.changed:\n",
    "    #    return {\"name\": name, \"lat\": lat, \"lon\": lon}\n",
    "    #else:\n",
    "    return [name, lat, lon]\n",
    "\n",
    "\n",
    "def get_name(city):\n",
    "    \"\"\"\n",
    "    >>> city = make_city('Berkeley', 0, 1)\n",
    "    >>> get_name(city)\n",
    "    'Berkeley'\n",
    "    \"\"\"\n",
    "   # if change_abstraction.changed:\n",
    "     #   return city[\"name\"]\n",
    "   # else:\n",
    "    return city[0]\n",
    "\n",
    "\n",
    "def get_lat(city):\n",
    "    \"\"\"\n",
    "    >>> city = make_city('Berkeley', 0, 1)\n",
    "    >>> get_lat(city)\n",
    "    0\n",
    "    \"\"\"\n",
    "    #if change_abstraction.changed:\n",
    "      #  return city[\"lat\"]\n",
    "    #else:\n",
    "    return city[1]\n",
    "\n",
    "\n",
    "def get_lon(city):\n",
    "    \"\"\"\n",
    "    >>> city = make_city('Berkeley', 0, 1)\n",
    "    >>> get_lon(city)\n",
    "    1\n",
    "    \"\"\"\n",
    "   # if change_abstraction.changed:\n",
    "   #     return city[\"lon\"]\n",
    "   # else:\n",
    "    return city[2]\n",
    "\n"
   ]
  },
  {
   "cell_type": "markdown",
   "metadata": {
    "id": "GM2ldA98z1gb"
   },
   "source": [
    "**Pregunta 3:** Distancia\n",
    "\n",
    "Ahora implementaremos la función distancia, que calcula la distancia entre dos objetos de la ciudad. Recuerda que la distancia entre dos pares de coordenadas $(x_1, y_1)$ y $(x_2, y_2)$ se puede encontrar calculando \n",
    "$$\n",
    "\\sqrt{(x_1-x_2)^2 + (y_1-y_2)^2}.\n",
    "$$\n",
    "Ya hemos importado sqrt para su comodidad. Utilice la latitud y la longitud de una ciudad como sus coordenadas; ¡Necesitarás usar los selectores para acceder a esta información!"
   ]
  },
  {
   "cell_type": "code",
   "execution_count": 27,
   "metadata": {
    "id": "J0CD3fNHG7Vt"
   },
   "outputs": [],
   "source": [
    "from math import sqrt\n",
    "def distance(city_a, city_b):\n",
    "    \"\"\"\n",
    "    >>> city_a = make_city('city_a', 0, 1)\n",
    "    >>> city_b = make_city('city_b', 0, 2)\n",
    "    >>> distance(city_a, city_b)\n",
    "    1.0\n",
    "    >>> city_c = make_city('city_c', 6.5, 12)\n",
    "    >>> city_d = make_city('city_d', 2.5, 15)\n",
    "    >>> distance(city_c, city_d)\n",
    "    5.0\n",
    "    \"\"\"\n",
    "    \"*** YOUR CODE HERE ***\"\n",
    "    return (sqrt(((get_lat(city_a) - get_lat(city_b))**2)+((get_lon(city_a) - get_lon(city_b))**2)))"
   ]
  },
  {
   "cell_type": "code",
   "execution_count": 29,
   "metadata": {},
   "outputs": [
    {
     "data": {
      "text/plain": [
       "5.0"
      ]
     },
     "execution_count": 29,
     "metadata": {},
     "output_type": "execute_result"
    }
   ],
   "source": [
    "city_c = make_city('city_c', 6.5, 12)\n",
    "city_d = make_city('city_d', 2.5, 15)\n",
    "distance(city_c, city_d)"
   ]
  },
  {
   "cell_type": "markdown",
   "metadata": {
    "id": "Wx85s6pyHCZ1"
   },
   "source": [
    "**Pregunta 4:**Ciudad más cercana\n",
    "\n",
    "A continuación, implemente close_city, una función que toma una latitud, una longitud y dos ciudades, y devuelve el nombre de la ciudad que está relativamente más cerca de la latitud y la longitud proporcionadas.\n",
    "\n",
    "Solo puede usar los selectores y constructores presentados anteriormente y la función de distancia que acaba de definir para esta pregunta.\n",
    "\n",
    "*Pista:* ¿Cómo puedes usar tu función de distancia para encontrar la distancia entre la ubicación dada y cada una de las ciudades dadas?"
   ]
  },
  {
   "cell_type": "code",
   "execution_count": 55,
   "metadata": {
    "id": "GH23m2bgHO82"
   },
   "outputs": [],
   "source": [
    "def closer_city(lat, lon, city_a, city_b):\n",
    "    \"\"\"\n",
    "    Devuelve el nombre de city_a o city_b, el que esté más cerca de\n",
    "    coordenada (lat, lon). Si las dos ciudades están a la misma distancia\n",
    "    a partir de la coordenada, considere city_b como la ciudad más cercana.\n",
    "\n",
    "    >>> berkeley = make_city('Berkeley', 37.87, 112.26)\n",
    "    >>> stanford = make_city('Stanford', 34.05, 118.25)\n",
    "    >>> closer_city(38.33, 121.44, berkeley, stanford)\n",
    "    'Stanford'\n",
    "    >>> bucharest = make_city('Bucharest', 44.43, 26.10)\n",
    "    >>> vienna = make_city('Vienna', 48.20, 16.37)\n",
    "    >>> closer_city(41.29, 174.78, bucharest, vienna)\n",
    "    'Bucharest'\n",
    "    \"\"\"\n",
    "    \"*** YOUR CODE HERE ***\"\n",
    "\n",
    "    if (abs(lat - get_lat(city_a)) + abs(lon - get_lon(city_a))) < (abs(lat - get_lat(city_b)) + abs(lon - get_lon(city_b))):\n",
    "        return get_name(city_a)\n",
    "    else:\n",
    "        return get_name(city_b)\n"
   ]
  },
  {
   "cell_type": "markdown",
   "metadata": {
    "id": "ETcN1G0u0G_b"
   },
   "source": [
    "---\n",
    "# Árboles"
   ]
  },
  {
   "cell_type": "markdown",
   "metadata": {
    "id": "dbIIXWig0Mz6"
   },
   "source": [
    "**Pregunta 5:**¡Encontrando bayas!\n",
    "\n",
    "¡Las ardillas necesitan tu ayuda! Hay muchos árboles  y a las ardillas les gustaría saber cuáles contienen bayas. Defina la función berry_finder, que toma un árbol y devuelve True si el árbol contiene un nodo con el valor 'berry' y False en caso contrario.\n",
    "\n",
    "Sugerencia: para iterar a través de cada una de las ramas de un árbol en particular, puede considerar usar un bucle for para obtener cada rama."
   ]
  },
  {
   "cell_type": "code",
   "execution_count": 39,
   "metadata": {
    "id": "clEULOouKLjz"
   },
   "outputs": [],
   "source": [
    "def tree(label, branches = []):\n",
    "    return [label] + branches\n",
    "def label(tree):\n",
    "    return tree[0]\n",
    "def branches(tree):\n",
    "    return tree[1:]\n",
    "def is_leaf(tree):\n",
    "    return len(branches(tree)) == 0\n",
    "def print_tree(t, indent = 0):\n",
    "    print(indent * \" \", label(t))\n",
    "    for b in branches(t):\n",
    "        print_tree(b, indent + 2)\n",
    "\n",
    "\n",
    "def berry_finder(t):\n",
    "    \"\"\"Returns True if t contains a node with the value 'berry' and \n",
    "    False otherwise.\n",
    "\n",
    "    >>> scrat = tree('berry')\n",
    "    >>> berry_finder(scrat)\n",
    "    True\n",
    "    >>> sproul = tree('roots', [tree('branch1', [tree('leaf'), tree('berry')]), tree('branch2')])\n",
    "    >>> berry_finder(sproul)\n",
    "    True\n",
    "    >>> numbers = tree(1, [tree(2), tree(3, [tree(4), tree(5)]), tree(6, [tree(7)])])\n",
    "    >>> berry_finder(numbers)\n",
    "    False\n",
    "    >>> t = tree(1, [tree('berry',[tree('not berry')])])\n",
    "    >>> berry_finder(t)\n",
    "    True\n",
    "    \"\"\"\n",
    "    \"*** YOUR CODE HERE ***\"\n",
    "    x = False\n",
    "    \n",
    "    if label(t) == 'berry': return True\n",
    "    for b in branches(t):\n",
    "        if label(b) == 'berry': return True\n",
    "        if is_leaf(b) == False:\n",
    "            x = berry_finder(b)\n",
    "    return x"
   ]
  },
  {
   "cell_type": "markdown",
   "metadata": {
    "id": "SD4EGiOrKMKT"
   },
   "source": [
    "**Pregunta 6:** Brotes de hojas\n",
    "\n",
    "Defina una función sprout_leaves que tome un árbol, t, y una lista de hojas, hojas. Produce un nuevo árbol que es idéntico a t, pero donde cada nodo de hoja antiguo tiene nuevas ramas, una para cada hoja en hojas.\n",
    "\n",
    "Por ejemplo, digamos que tenemos el árbol \n",
    "`t = árbol(1, [árbol(2), árbol(3, [árbol(4)])]):`"
   ]
  },
  {
   "cell_type": "markdown",
   "metadata": {
    "id": "nJ1h7sGlKcWO"
   },
   "source": [
    "![image.png](data:image/png;base64,iVBORw0KGgoAAAANSUhEUgAAAEIAAABzCAYAAAAsctTgAAAABHNCSVQICAgIfAhkiAAAABl0RVh0U29mdHdhcmUAZ25vbWUtc2NyZWVuc2hvdO8Dvz4AAAAmdEVYdENyZWF0aW9uIFRpbWUAbWFyIDI2IGp1bCAyMDIyIDEwOjM5OjI2zq8AYwAABPFJREFUeJzt239M1HUcx/HX9w5O5cQ0ZgGFUA7JDeJHkdj6wSKHOR1w4B+ZAaPpCcI0paHm1khkyxQsdoM7zfFjS4KGMqatbqWyNkucijCLmFOgieYQIy5+yH2//eGb/vAP7rjv93v3dXs//uKf+34+PPkcd/e+O8HhcEhg0Pl6A1rBIQiHIByCcAjCIQiHIByCcAiibghxFNdaLchOTccL+26pupRcqoa42WJDdW8I4qL0ai6jCFVDRGTtQFWxCatCDVig5kIK4P8RhEMQDkE4BOEQhEMQgUd1D/GJIByCcAjCIQiHIByCcAjCIQiHIByCKBpCd9+O7RtacEVyfdnxnw8iq7wH/wqCklvwmKIhemqP4tugcCzTuX75Yox8DnOqv0HdsDbmmcqFGD+HmmNPI69oBQIk1yGcwetg3ngVNmu/YluQQ7EQd5obcPrFTGyLcrp3A8mAlM1r8czhJjSO+/5UKBJCki7BanEiZUcKgtw4DdMml2bBnHEGNXV3lNiGLIqEGGlrQHNwFkpedvM0EEGcjzVbU/DAcgJ2+PZUyA4h6npRb72N+MJ3ECbOfsYjxK6HOf40LI0OuVuRRXYI3Zl61I6k4cNUP89uPxWC7E2JGLCcxGW9757WyFpZ9BtEva0bIdvTEe8UPb6O9Pp7yF3Qisrvp+RsRxZ5f4KLzbB2rcGezABZlxGkcJjzl+BqxXcY0PnmCZZn55lIxljkVcbhVXh+Gqb5rytA+d37sq/jKZ5iE37RRTgE4RCEQxAOQTgE4RCEQxAOQTgE4RDEZYgHf57D/kIzEpJMiEjahPSKLgx5YQTvuNaCwpw8RL1hwpLkEhTbR1Rdb8YQktiN8lwrOhJ3w/7rCfTb8xH3Yyk2nhxTdVMAMNc/CMlFFehpb8HvBxejM/0Yjk+pN86b8WW4oItGse0QxpeGIkiSIAYmIDPJiaZLt4G0CNU2BQD6yDeRRT/PS4hFBM6i3yEAT6iznsu7hvH5kP8n05J+CL/1jiMsMlid3TxCmPgHfb2X0bi3CZ3Za7Fh0eyGw7Mxq8HMxE9forLHhLKvjADU29Q0/5s/4LOqX/BHjxHRReEIUnFy4vZgxtlthWnzAFbWfYpdkd59sBHGzmN3qg33LA2oiVFnrunWbyR21cG0dQCv2Uq9HgEARGMMVi6/gRudo6qt4fK3GuuwIiO/D28fLcVH0d55E0bSjeLCgUqUXXz46OS83oav25cj5qX5qq05411D1HdjX1IhKoefRCB980QnGRCY8jG6y2NU2xQA3LIfQUlVO87+5YDOEI7UgmIcfvdZt95g9gQPbwk/xSYcgnAIwiEIhyAcgnAIwiEIhyAcgmg6hKQfQn1OBnLtsj7P4hZNh/AmDkE4BOEQhEMQDkE4BOEQhEMQDkE4BOFxPuETQTgE4RCEQxAOQTgE4RCEQxAOQR6LEH+f2oVXlh1R9fvjmg+hu9eGbaUdGFb5w76aDiH6DaKxpBlDaclYNE/dtTQd4m59GfZPfYDa1QEwqPzSULMh/PqPY8uhMBQfeAuhevlfuXZFkyEkoQ/VO1sxsbcA7y9W/6POgEbnEXMvfIFo83lMPmUAAAiToxi8DgSHrcDOU3uQs1D5OJoM8ag5Vz5H4vqF+KR3C1ap9GF4Td41fOGxOBHewCeCcAjCIQiHIByCcAjCIQiHIByCcAjyH5XcY/CPh0d9AAAAAElFTkSuQmCC)"
   ]
  },
  {
   "cell_type": "markdown",
   "metadata": {
    "id": "vlMdVt4CKcwL"
   },
   "source": [
    "Si llamamos a `sprout_leaves(t, [5, 6])`, el resultado es el siguiente árbol:\n"
   ]
  },
  {
   "cell_type": "markdown",
   "metadata": {
    "id": "Pc389717Ki5o"
   },
   "source": [
    "![image.png](data:image/png;base64,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)"
   ]
  },
  {
   "cell_type": "code",
   "execution_count": 50,
   "metadata": {
    "id": "LiB6bCJbKwk0"
   },
   "outputs": [],
   "source": [
    "def sprout_leaves(t, leaves):\n",
    "    \"\"\"Sprout new leaves containing the data in leaves at each leaf in\n",
    "    the original tree t and return the resulting tree.\n",
    "\n",
    "    >>> t1 = tree(1, [tree(2), tree(3)])\n",
    "    >>> print_tree(t1)\n",
    "    1\n",
    "      2\n",
    "      3\n",
    "    >>> new1 = sprout_leaves(t1, [4, 5])\n",
    "    >>> print_tree(new1)\n",
    "    1\n",
    "      2\n",
    "        4\n",
    "        5\n",
    "      3\n",
    "        4\n",
    "        5\n",
    "\n",
    "    >>> t2 = tree(1, [tree(2, [tree(3)])])\n",
    "    >>> print_tree(t2)\n",
    "    1\n",
    "      2\n",
    "        3\n",
    "    >>> new2 = sprout_leaves(t2, [6, 1, 2])\n",
    "    >>> print_tree(new2)\n",
    "    1\n",
    "      2\n",
    "        3\n",
    "          6\n",
    "          1\n",
    "          2\n",
    "    \"\"\"\n",
    "    \"*** YOUR CODE HERE ***\"\n",
    "    c = []\n",
    "    for b in branches(t):\n",
    "        print(b)\n",
    "        if is_leaf(b) == True:\n",
    "            c.append(tree(label(b), [tree(i) for i in leaves]))\n",
    "            \n",
    "                     \n",
    "    return tree(label(t), c)"
   ]
  },
  {
   "cell_type": "code",
   "execution_count": 51,
   "metadata": {},
   "outputs": [
    {
     "name": "stdout",
     "output_type": "stream",
     "text": [
      " 1\n",
      "   2\n",
      "   3\n"
     ]
    }
   ],
   "source": [
    "t1 = tree(1, [tree(2), tree(3)])\n",
    "print_tree(t1)"
   ]
  },
  {
   "cell_type": "code",
   "execution_count": 52,
   "metadata": {},
   "outputs": [
    {
     "name": "stdout",
     "output_type": "stream",
     "text": [
      "[2]\n",
      "[3]\n",
      " 1\n",
      "   2\n",
      "     4\n",
      "     5\n",
      "   3\n",
      "     4\n",
      "     5\n"
     ]
    }
   ],
   "source": [
    "new1 = sprout_leaves(t1, [4, 5])\n",
    "print_tree(new1)"
   ]
  },
  {
   "cell_type": "code",
   "execution_count": null,
   "metadata": {},
   "outputs": [],
   "source": []
  },
  {
   "cell_type": "code",
   "execution_count": 53,
   "metadata": {},
   "outputs": [
    {
     "name": "stdout",
     "output_type": "stream",
     "text": [
      " 1\n",
      "   2\n",
      "     3\n"
     ]
    }
   ],
   "source": [
    "t2 = tree(1, [tree(2, [tree(3)])])\n",
    "print_tree(t2)"
   ]
  },
  {
   "cell_type": "code",
   "execution_count": null,
   "metadata": {},
   "outputs": [],
   "source": []
  },
  {
   "cell_type": "code",
   "execution_count": 54,
   "metadata": {},
   "outputs": [
    {
     "name": "stdout",
     "output_type": "stream",
     "text": [
      "[2, [3]]\n",
      " 1\n"
     ]
    }
   ],
   "source": [
    "new2 = sprout_leaves(t2, [6, 1, 2])\n",
    "print_tree(new2)\n"
   ]
  },
  {
   "cell_type": "code",
   "execution_count": 56,
   "metadata": {},
   "outputs": [
    {
     "ename": "IndentationError",
     "evalue": "unindent does not match any outer indentation level (<tokenize>, line 3)",
     "output_type": "error",
     "traceback": [
      "\u001b[1;36m  File \u001b[1;32m\"<tokenize>\"\u001b[1;36m, line \u001b[1;32m3\u001b[0m\n\u001b[1;33m    return tree(label(t), [sprout_leaves(b, leaves) for b in branches(t)])\u001b[0m\n\u001b[1;37m    ^\u001b[0m\n\u001b[1;31mIndentationError\u001b[0m\u001b[1;31m:\u001b[0m unindent does not match any outer indentation level\n"
     ]
    }
   ],
   "source": [
    "if is_leaf(t) == True: \n",
    "        return tree(label(t), [tree(i) for i in leaves])\n",
    "    return tree(label(t), [sprout_leaves(b, leaves) for b in branches(t)])"
   ]
  },
  {
   "cell_type": "code",
   "execution_count": null,
   "metadata": {},
   "outputs": [],
   "source": []
  },
  {
   "cell_type": "code",
   "execution_count": null,
   "metadata": {},
   "outputs": [],
   "source": []
  }
 ],
 "metadata": {
  "colab": {
   "provenance": []
  },
  "kernelspec": {
   "display_name": "Python 3 (ipykernel)",
   "language": "python",
   "name": "python3"
  },
  "language_info": {
   "codemirror_mode": {
    "name": "ipython",
    "version": 3
   },
   "file_extension": ".py",
   "mimetype": "text/x-python",
   "name": "python",
   "nbconvert_exporter": "python",
   "pygments_lexer": "ipython3",
   "version": "3.9.7"
  }
 },
 "nbformat": 4,
 "nbformat_minor": 1
}
