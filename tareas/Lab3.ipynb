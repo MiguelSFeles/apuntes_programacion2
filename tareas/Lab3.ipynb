{
 "cells": [
  {
   "cell_type": "markdown",
   "metadata": {
    "id": "cLuTWV5sryvz"
   },
   "source": [
    "# Laboratorio 3:\n",
    "\n",
    "**Instrucciones**\n",
    "\n",
    "Responda las siguientes preguntas según el enunciado de cada una.\n",
    "\n",
    "Al terminar guarde su archivo con los apellidos de cada uno en el grupo separados por el símbolo _ por ejemplo: apellido1_apellido2.jpynb.\n",
    "\n",
    "El laboratorio se calificará al final de la clase. \n",
    "\n",
    "\n",
    "Usted puede trabajar en parejas, la copia será tratada de acuerdo al reglamento estudiantil."
   ]
  },
  {
   "cell_type": "markdown",
   "metadata": {
    "id": "Be-6nhVRnq6l"
   },
   "source": [
    "---\n",
    "# Preguntas sobre control"
   ]
  },
  {
   "cell_type": "markdown",
   "metadata": {
    "id": "Rz2f0LIHsL3J"
   },
   "source": [
    "**Pregunta 1:** Dígitos únicos:\n",
    "\n",
    "Escriba una función que devuelva el número de dígitos únicos en un entero positivo.\n",
    "\n",
    "**Sugerencias:** Puede usar // y % para separar un entero positivo en su dígito uno y el resto de sus dígitos.\n",
    "\n",
    "Puede resultarle útil definir primero una función has_digit(n, k), que determina si un número n tiene el dígito k."
   ]
  },
  {
   "cell_type": "code",
   "execution_count": null,
   "metadata": {
    "id": "c9Sq44cvrvPx"
   },
   "outputs": [],
   "source": [
    "def unique_digits(n):\n",
    "    \"\"\"Return the number of unique digits in positive integer n.\n",
    "\n",
    "    >>> unique_digits(8675309) # All are unique\n",
    "    7\n",
    "    >>> unique_digits(1313131) # 1 and 3\n",
    "    2\n",
    "    >>> unique_digits(13173131) # 1, 3, and 7\n",
    "    3\n",
    "    >>> unique_digits(10000) # 0 and 1\n",
    "    2\n",
    "    >>> unique_digits(101) # 0 and 1\n",
    "    2\n",
    "    >>> unique_digits(10) # 0 and 1\n",
    "    2\n",
    "    \"\"\"\n",
    "    \"*** YOUR CODE HERE ***\"\n",
    "\n",
    "def has_digit(n, k):\n",
    "    \"\"\"Returns whether K is a digit in N.\n",
    "    >>> has_digit(10, 1)\n",
    "    True\n",
    "    >>> has_digit(12, 7)\n",
    "    False\n",
    "    \"\"\"\n",
    "    \"*** YOUR CODE HERE ***\""
   ]
  },
  {
   "cell_type": "markdown",
   "metadata": {
    "id": "3CJM2Q1olyu2"
   },
   "source": [
    "**Pregunta 2:** Dígitos ordenados\n",
    "\n",
    "Implemente la función order_digits, que toma como entrada un entero positivo y devuelve True si sus dígitos, leídos de izquierda a derecha, están en orden no decreciente, y False en caso contrario. \n",
    "\n",
    "Por ejemplo los dígitos de 5, 11, 127, 1357 están ordenados, pero no los de 21 o 1375."
   ]
  },
  {
   "cell_type": "code",
   "execution_count": null,
   "metadata": {
    "id": "sY6kMiZwmwew"
   },
   "outputs": [],
   "source": [
    "def ordered_digits(x):\n",
    "    \"\"\"Return True if the (base 10) digits of X>0 are in non-decreasing\n",
    "    order, and False otherwise.\n",
    "\n",
    "    >>> ordered_digits(5)\n",
    "    True\n",
    "    >>> ordered_digits(11)\n",
    "    True\n",
    "    >>> ordered_digits(127)\n",
    "    True\n",
    "    >>> ordered_digits(1357)\n",
    "    True\n",
    "    >>> ordered_digits(21)\n",
    "    False\n",
    "    >>> result = ordered_digits(1375) # Return, don't print\n",
    "    >>> result\n",
    "    False\n",
    "\n",
    "    \"\"\"\n",
    "    k = n%10\n",
    "    n = n//10"
   ]
  },
  {
   "cell_type": "code",
   "execution_count": 9,
   "metadata": {
    "id": "ehS9Hv1GGolF"
   },
   "outputs": [
    {
     "data": {
      "text/plain": [
       "False"
      ]
     },
     "execution_count": 9,
     "metadata": {},
     "output_type": "execute_result"
    }
   ],
   "source": []
  },
  {
   "cell_type": "markdown",
   "metadata": {
    "id": "25OwgCMRmzj7"
   },
   "source": [
    "**Pregunta 3:** Corredor k\n",
    "\n",
    "Una secuencia creciente de un entero es una secuencia de dígitos consecutivos en la que cada dígito es mayor que el anterior. Por ejemplo, el número 123444345 tiene cuatro series crecientes: 1234, 4, 4 y 345. Cada serie se puede indexar desde el final del número, comenzando con el índice 0. En el ejemplo, la serie 0 es 345, la primera serie es 4, la segunda carrera es 4 y la tercera carrera es 1234.\n",
    "\n",
    "Implemente get_k_run_starter, que toma números enteros n y k y devuelve el dígito 0 de la ejecución creciente k dentro de n. El dígito 0 es el número más a la izquierda en la ejecución. Puede suponer que hay al menos k+1 series crecientes en n."
   ]
  },
  {
   "cell_type": "code",
   "execution_count": 11,
   "metadata": {},
   "outputs": [
    {
     "name": "stdout",
     "output_type": "stream",
     "text": [
      "12344434\n",
      "1234443\n",
      "123444\n",
      "12344\n",
      "1234\n",
      "123\n",
      "12\n",
      "1\n",
      "0\n"
     ]
    }
   ],
   "source": [
    "n = 123444345\n",
    "while n > 0:\n",
    "    n = n//10\n",
    "    print(n)\n"
   ]
  },
  {
   "cell_type": "code",
   "execution_count": null,
   "metadata": {
    "id": "E0B3EvVGngrB"
   },
   "outputs": [],
   "source": [
    "def get_k_run_starter(n, k):\n",
    "    \"\"\"\n",
    "    >>> get_k_run_starter(1234 4 4 345, 0) # example from description\n",
    "    3\n",
    "    >>> get_k_run_starter(1234 4 4 345, 1)\n",
    "    4\n",
    "    >>> get_k_run_starter(123444345, 2)\n",
    "    4\n",
    "    >>> get_k_run_starter(123444345, 3)\n",
    "    1\n",
    "    >>> get_k_run_starter(123412341234, 1)\n",
    "    1\n",
    "    >>> get_k_run_starter(1234234534564567, 0)\n",
    "    4\n",
    "    >>> get_k_run_starter(1234234534564567, 1)\n",
    "    3\n",
    "    >>> get_k_run_starter(1234234534564567, 2)\n",
    "    2\n",
    "    \"\"\"\n",
    "    i = 0\n",
    "    final = None\n",
    "    while ____________________________:\n",
    "        while ____________________________:\n",
    "            ____________________________\n",
    "        final = ____________________________\n",
    "        i = ____________________________\n",
    "        n = ____________________________\n",
    "    return final"
   ]
  },
  {
   "cell_type": "code",
   "execution_count": 1,
   "metadata": {},
   "outputs": [
    {
     "name": "stdout",
     "output_type": "stream",
     "text": [
      "[345]\n",
      "[345, 4]\n",
      "[345, 4, 4]\n",
      "[345, 4, 4, 1234]\n"
     ]
    }
   ],
   "source": []
  },
  {
   "cell_type": "code",
   "execution_count": 2,
   "metadata": {},
   "outputs": [
    {
     "name": "stdout",
     "output_type": "stream",
     "text": [
      "4\n"
     ]
    }
   ],
   "source": [
    "\n"
   ]
  },
  {
   "cell_type": "code",
   "execution_count": null,
   "metadata": {},
   "outputs": [],
   "source": [
    "def get_k_run_starter(n, k):\n",
    "    \"\"\"\n",
    "    >>> get_k_run_starter(1234 4 4 345, 0) # example from description\n",
    "    3\n",
    "    >>> get_k_run_starter(1234 4 4 345, 1)\n",
    "    4\n",
    "    >>> get_k_run_starter(123444345, 2)\n",
    "    4\n",
    "    >>> get_k_run_starter(123444345, 3)\n",
    "    1\n",
    "    >>> get_k_run_starter(123412341234, 1)\n",
    "    1\n",
    "    >>> get_k_run_starter(1234234534564567, 0)\n",
    "    4\n",
    "    >>> get_k_run_starter(1234234534564567, 1)\n",
    "    3\n",
    "    >>> get_k_run_starter(1234234534564567, 2)\n",
    "    2\n",
    "    \"\"\"\n",
    "    i = 0\n",
    "    n = 123444345\n",
    "    lista = []\n",
    "    while n > 0:\n",
    "        z = 0 \n",
    "        count = 1\n",
    "        while n > -1:\n",
    "            i = n % 10\n",
    "            n = n // 10\n",
    "            k = n % 10\n",
    "            if i > k:\n",
    "                z += i * (10** count)\n",
    "                count += 1\n",
    "            else:\n",
    "                z += i * (10** count)\n",
    "                z = int(z/10)\n",
    "                lista.append(z)\n",
    "                print(lista)\n",
    "        while lista[-1] > 0:\n",
    "            n = lista[-1] % 10\n",
    "            lista[-1] = lista[-1]//10\n",
    "            print(n)\n",
    "            break\n",
    "get_k_run_starter(123444345, 1)\n",
    "\n"
   ]
  },
  {
   "cell_type": "code",
   "execution_count": null,
   "metadata": {},
   "outputs": [],
   "source": [
    "i = 0\n",
    "n = 123444345\n",
    "lista = []\n",
    "while n > 0:\n",
    "    z = 0 \n",
    "    count = 1\n",
    "    while n > -1:\n",
    "        i = n % 10\n",
    "        n = n // 10\n",
    "        k = n % 10\n",
    "        if i > k:\n",
    "            z += i * (10** count)\n",
    "            count += 1\n",
    "        else:\n",
    "            z += i * (10** count)\n",
    "            z = int(z/10)\n",
    "            lista.append(z)\n",
    "            print(lista)\n",
    "            break"
   ]
  },
  {
   "cell_type": "markdown",
   "metadata": {
    "id": "-A44vaW0nwOl"
   },
   "source": [
    "---\n",
    "# Preguntas sobre funciones de orden superior\n",
    "\n",
    "Estas son algunas definiciones de funciones de utilidad que puede ver que se usan como parte de las pruebas de documentos para los siguientes problemas."
   ]
  },
  {
   "cell_type": "code",
   "execution_count": null,
   "metadata": {
    "id": "IkXFezCsrNDT"
   },
   "outputs": [],
   "source": [
    "from operator import add, mul\n",
    "\n",
    "square = lambda x: x * x\n",
    "\n",
    "identity = lambda x: x\n",
    "\n",
    "triple = lambda x: 3 * x\n",
    "\n",
    "increment = lambda x: x + 1"
   ]
  },
  {
   "cell_type": "markdown",
   "metadata": {
    "id": "cAJG-TZmny66"
   },
   "source": [
    "**Pregutna 4:**hacer repetidor\n",
    "\n",
    "Implemente la función make_repeater tal que make_repeater(func, n)(x) devuelva func(func(...func(x)...)), donde func se aplica n veces. Es decir, make_repeater(func, n) devuelve otra función que luego se puede aplicar a otro argumento. Por ejemplo, make_repeater(square, 3)(42) se evalúa como square(square(square(42)))."
   ]
  },
  {
   "cell_type": "code",
   "execution_count": null,
   "metadata": {
    "id": "bV0nqWj8rkxc"
   },
   "outputs": [],
   "source": [
    "def make_repeater(func, n):\n",
    "    \"\"\"Return the function that computes the nth application of func.\n",
    "\n",
    "    >>> add_three = make_repeater(increment, 3)\n",
    "    >>> add_three(5)\n",
    "    8\n",
    "    >>> make_repeater(triple, 5)(1) # 3 * 3 * 3 * 3 * 3 * 1\n",
    "    243\n",
    "    >>> make_repeater(square, 2)(5) # square(square(5))\n",
    "    625\n",
    "    >>> make_repeater(square, 4)(5) # square(square(square(square(5))))\n",
    "    152587890625\n",
    "    >>> make_repeater(square, 0)(5) # Yes, it makes sense to apply the function zero times!\n",
    "    5\n",
    "    \"\"\"\n",
    "    \"*** YOUR CODE HERE ***\"\n",
    "\n",
    "def composer(func1, func2):\n",
    "    \"\"\"Return a function f, such that f(x) = func1(func2(x)).\"\"\"\n",
    "    def f(x):\n",
    "        return func1(func2(x))\n",
    "    return f"
   ]
  },
  {
   "cell_type": "markdown",
   "metadata": {
    "id": "NpCSQvyQrlXT"
   },
   "source": [
    "**Pregunta 5::** Aplicar dos veces\n",
    "\n",
    "Usando make_repeater, defina una función apply_twice que tome una función de un argumento como argumento y devuelva una función que aplique la función original dos veces. Por ejemplo, si inc es una función que devuelve 1 más que su argumento, entonces double(inc) debería ser una función que devuelve dos más:"
   ]
  },
  {
   "cell_type": "code",
   "execution_count": null,
   "metadata": {
    "id": "ddlO2raDryLS"
   },
   "outputs": [],
   "source": [
    "def apply_twice(func):\n",
    "    \"\"\" Return a function that applies func twice.\n",
    "\n",
    "    func -- a function that takes one argument\n",
    "\n",
    "    >>> apply_twice(square)(2)\n",
    "    16\n",
    "    \"\"\"\n",
    "    \"*** YOUR CODE HERE ***\""
   ]
  }
 ],
 "metadata": {
  "colab": {
   "name": "Lab3.ipynb",
   "provenance": []
  },
  "kernelspec": {
   "display_name": "Python 3",
   "language": "python",
   "name": "python3"
  },
  "language_info": {
   "codemirror_mode": {
    "name": "ipython",
    "version": 3
   },
   "file_extension": ".py",
   "mimetype": "text/x-python",
   "name": "python",
   "nbconvert_exporter": "python",
   "pygments_lexer": "ipython3",
   "version": "3.7.11"
  }
 },
 "nbformat": 4,
 "nbformat_minor": 1
}
