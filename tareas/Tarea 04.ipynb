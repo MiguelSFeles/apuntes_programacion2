{
 "cells": [
  {
   "cell_type": "markdown",
   "metadata": {
    "id": "Gi-KGZkZsbsp"
   },
   "source": [
    "# Tarea 4: Recursión"
   ]
  },
  {
   "cell_type": "markdown",
   "metadata": {
    "id": "uwROUdCfskxA"
   },
   "source": [
    "**Instrucciones**\n",
    "\n",
    "+ Responda las siguientes preguntas según el enunciado de cada una. \n",
    "\n",
    "+ Al terminar guarde su archivo con los apellidos de cada uno en el grupo separados por el símbolo _ por ejemplo: **apellido1_apellido2.jpynb**. \n",
    "\n",
    "+ Envíe la tarea al correo: german.combariza@uexternado.edu.co antes de las 11:59pm de la fecha dada. Tareas enviadas después de la hora no se reciben.\n",
    "\n",
    "+ **Secciones:**\n",
    "Para esta tarea ud puede consultas las siguientes secciones del libro: \n",
    " Seccion 1.7 de: http://composingprograms.com/\n",
    "\n",
    "+ Usted puede trabajar en grupo, pero por favor cada uno escriba sus propias solucinoes, **la copia será tratada de acuerdo al reglamento estudiantil**.  "
   ]
  },
  {
   "cell_type": "markdown",
   "metadata": {
    "id": "quY-LJb7suGJ"
   },
   "source": [
    "**Pregunta 1**: Números Ochos:\n",
    "\n",
    "Escriba una función recursiva num_eights que tome un entero positivo pos y devuelva el número de veces que aparece el dígito 8 en pos.\n",
    "\n",
    "Importante: Use recursión!"
   ]
  },
  {
   "cell_type": "code",
   "execution_count": 96,
   "metadata": {
    "id": "Lf-lFefxsniw"
   },
   "outputs": [],
   "source": [
    "def num_eights(pos):\n",
    "    \"\"\"Returns the number of times 8 appears as a digit of pos.\n",
    "\n",
    "    >>> num_eights(3)\n",
    "    0\n",
    "    >>> num_eights(8)\n",
    "    1\n",
    "    >>> num_eights(88888888)\n",
    "    8\n",
    "    >>> num_eights(2638)\n",
    "    1\n",
    "    >>> num_eights(86380)\n",
    "    2\n",
    "    >>> num_eights(12345)\n",
    "    0\n",
    "    >>> from construct_check import check\n",
    "    >>> # ban all assignment statements\n",
    "    >>> check(HW_SOURCE_FILE, 'num_eights',\n",
    "    ...       ['Assign', 'AnnAssign', 'AugAssign', 'NamedExpr'])\n",
    "    True\n",
    "    \"\"\"\n",
    "    if(pos%10==8): return num_eights(pos//10) + 1\n",
    "    elif(pos<10): return 0\n",
    "    else: return num_eights(pos//10) + 0\n"
   ]
  },
  {
   "cell_type": "markdown",
   "metadata": {
    "id": "WWydMn-ksvAk"
   },
   "source": [
    "**Pregunta 2:** Ping pong\n",
    "\n",
    "La secuencia de ping-pong cuenta desde 1 y siempre cuenta hacia adelante o hacia atrás. En el elemento k, la dirección cambia si k es un múltiplo de 8 o contiene el dígito 8. Los primeros 30 elementos de la secuencia de ping-pong se enumeran a continuación, con cambios de dirección marcados con corchetes en el 8, 16, 18, 24, y 28 elementos:"
   ]
  },
  {
   "cell_type": "markdown",
   "metadata": {
    "id": "Wd_p6eLQs4j0"
   },
   "source": [
    "![image.png](data:image/png;base64,iVBORw0KGgoAAAANSUhEUgAAA1kAAADQCAYAAAD1Vqu+AAAABHNCSVQICAgIfAhkiAAAABl0RVh0U29mdHdhcmUAZ25vbWUtc2NyZWVuc2hvdO8Dvz4AAAAmdEVYdENyZWF0aW9uIFRpbWUAbWnpIDEzIGp1bCAyMDIyIDE3OjM1OjEymiUVFwAAIABJREFUeJzs3WdYFFcXwPH/7FJsYAFFwUrsJlZUrNh7L9Fo7CX2HuurYu+91yj23hN7LCSWWDCxEKMYC2JBERCl7rwfFkFiQ53dRT2/5+EDsztzzs7O3Lln5s6soqqqihBCCCGEEEIITegsnYAQQgghhBBCfE6kyBJCCCGEEEIIDUmRJYQQQgghhBAakiJLCCGEEEIIITQkRZYQQgghhBBCaMjqdRP9/PzMnYcQQgghhBBCfHJcXV1fmfbaIutNbxafLj8/P5N9p6Zc9uccx5yxJI55fEmf31I5fMmfPanETwo5WDr+h7B0zpaO/yEsnbOl4/+XpfOxdPyXJbVcXkeGCwohhBBCCCGEhqTIEkIIIYQQQggNSZElhBBCCCGEEBqSIksIIYQQQgghNCRFlhBCCCGEEEJoSIosIYQQQgghhNCQFFlCCCGEEEIIoSEpsoQQQgghhBBCQ1JkCSGEEEIIIYSGpMgSQgghhBBCCA1JkSWEEEIIIYQQGrKydAIA16aWo/n659iG1qLv36NpYumEhBCfPJVQDvYqwJDfM8RNy9xmG9t7ZnnnvOfGFKTzDpu4/+0qLebXyUVNkqcQwnTuedWhzux7cf9H5/fkiFcd0nzg8gz44tWgHnPv2AOgqDaUHObN3EafzzlrWWdCaOODi6xn276n/Dhf9FGu1F+3kaH5tUxLWIpKKDc39Kf7pLM8el6YlgeX0dNFq6UHcmHVbJbsOMG5gCDUZC7kKdqQNr3aUvHd/d4Pi3M7iHAbR3LkLkeDHn1pVSSFloHihO3vQf0hJ3iiKNgGVabv9Umaniz4b6f/BaXoBLwXV8VWs0iR3Pl1AUvX7ufo1XsEG9KTN38tmvfvTr3cek0i3F9chdqLn7zxdYP7NM7N9dAk1gsxdo5kTWVHFgfjOowJOMDaeavYfeYq14N0pEqbmVzuDWjTowVlHcHOMQfOziqRwf4Ehima5gLw/MpaFizcyf6/bhIYppA2ewmqfdePXg2yavhdGgVfmMXA3j9xLjQFhQZ5s/Tb2I5N8Ek2zJnH2qPX8A9RSOmUj4p1u9GlUzEyapwDD/Yzu8cgvPz0WFeYy4mp7oCp25s3xzX4bWH+oo0cPH2LO88U0mUugUfTHnRvnvODO5Kvoxr82D+iM8P2PsHKriMLD3ehsAI89WHbvCVsO3qRa4/CUFMZ28JO/dtSRuOV/8bv/4W7y+nTdBbeEdboohypMX8vo8uYIYcHP9G1xiz+0CXshuijXGnktZFBhbTNQbW2xyV9Kqyc7N6eF6Dizx+rF+O1/XfOBQRhSOFKwdLf0mlAE4rZ2WCXKRvOqo6we4GERGubJ7x+u8m0xPzt5vuss2CfFcxfupOjlwN4GK7gkKEwxaq2okvXUmTRWWadFVaARyfZMH8ZW3/7i+tBOlKmd6VYtY706VKBrK8eUj9C4vo3z69uYeHs1ez/8x4PopKTMVdx6rXpxw+VnbRMJlFtnOX7exboE74pjona5CRxJUtYnkogf29fy/rtG9l9MRx0iqYbh0oolyc1psOmsPiJEf5c/HUug/7wZ+zuYVRLpU0cn9FN6LTzadw03fNAbl7YxtxOD1H3zaS1w8fHSeDJbiZNOEqQrR1KZKTGCzd+N/73QgGtE39VwIaOtJ18iSeKAijoCOTqWS/GdghE/WU09TX4jt5Jp3WZATnqLWFrX2NrqsYcY3qnPmy4l9z4vxU8DfTj/O7pXDkbydydbSncdQc7u765uP0o/y6ka9tFXIyJL1qDrnuzcdQF/n62gaUtMrxl5sR7eGoFG7buYPvBWzxRrEhQKkb5sLBjF5beiN/Lw+5eYM/Cnpx9sITNwwpoUuzF3D7ApnU72LD7d24/i/+8pm5v3hQXgPtr6NtuMr+FWcdNenzTm+1TTuMTtoFNHTQ4uj+7wsH1G9i4+RfOPYhJ8JKKD4vatU2w7gmObQuv2rBkRwvyfXwGb//+43LxY+vwaXhHp8ZGH0l0lAaBE5tDwC1uoc2Jm8RQs/dj8bo6ZIzNa+4b8jLgj/eAJvQ78tLKiPDj3J6J/OiXjPWr6tB4wQEaxl6dmXdbw/bqLdvNO5mg3UzsOuPaDLp28eJqdOz3aQWP75zmwE+nOXt/MbtGF7XIOlOjTzGnfTu8/FPGTQu758sxrwH4+E1j60wPTU6qJLp/c3s5fdvP5ky4cd9XiOL+5UMs+9EXv0nrmVQ1uQbZ8M42bmOH5Bbv71VNZb4+4btzMV2brNm1WgN+rG+WEzc3N2ovOseZxV1oXsWdMmXq03rkAW4aXrwzkhs7h9OpngdlSlan6fDdXCXZK8tTDX4cWtCXVvU9KF3SDffq39N/+hFuRQIXJtLCrQhubm5U6nOUJwDX4qfVHHySN5/vEa+jcoejy+ex+2I4Do52757hPSnh+/HaFASASzVPlmzZzMK2ubBVQQ3dw/q9zzWKdJ3rQenJYG1NjnrTWL93F2u758RWBUPMBS75aBQmlkog+0ePZO9jF8p+Ww4ng6ptgNgYd+/aootypMq4gxw58Gvc3+HpGl7FCtvCjFk+BGOLSzVP5q7dzNaF/WlRoR7NOlcip0YdMKfvt7J/z74Ef5s8S+NkUFFsS9CzZ3FtAr2B4vs7J/2N67PkkEOcPfk7u37Mj60K0deOc/yuScNzbfMaLsboUVJWYeCKA+zbs4zBZXSo+lAuzvfihEZx7uyZxopDtwlNn540asLt8tkvc1jlZ4UuypEiPVayY+cyBnkkR1UiebhxCRseaZOD+uc6pm48yU01A44p43MwdXvzprgAtzct4LcwaxTbErSfuZVNq4dRwzkCVYnk9uo9+GixCz89yZa52zn3MAUO6RIuUPG/xv0UDiSPcabMiPVs37eGEZWNXVbD36fxCdcgPm///l+4v2YQ032SY9OgMeVitD9B9LYcou7f5ImioGbvz7pDR+LatENHltFH46tY75NXtPc0Rv8aic7ggnvvuazasolVw5tTs1or2jfJbtrE3rLdWLrdfNs6u/f7Ia5G69EbStBt4ynOntzLtCrGDn7IUW+uaH9YjPe2fe3EenbeSYE+ypXKY7eyb/9Ofupg7A+EHVrCiqvapJC4/k0kJxfO4ky4FYp1IZrP3MqudUOpnykcg86fw7M3cEWbdN7Zxp0jwOL9PXP1CROViwnbZJMMiA3cNpTeS//k1vNoIiL8ubJ7JAOXPgAg0nswPTx/5vzdMCJiHnHjF0+Gbw5KML8Bfw72bsKgZcfxvROFjb0d0Y98Obp2AG2GnCSoUH9GtzSe7Q07tIRl1+5zYNYKrqJHl6ohff/nrumQjy+BQma+qdSc1sPXsa77V9oHiP6Koo3K8XW64lTpXoci2bLj1tiD3MSgKpHEPNXmAK9QmCYzNvHzsX0sG+RBTkcH0tsZG3uryHzkyqtJmDhBuwYz+SjYl+nP0AraN1ZGtwm8q0fBnueXpzGoTzvadRnEiBUnuKvhCcGo3/bwW4QNVmoVvvvOwJnlExg15xh30+WnQo0KFEirUaAU9qRzcoj/U39lwfQjBEZlppLnNNrlMvHZ7SxZyGIVg6qLQIkKJjIqgsgIYyuqJHchs4kvGIZEBRtj6RxxyJgWBycX0tsZP7Ma7MMpjQ78TkWb0aTzVNbNb0wWDC+9Esmfp84QoYDepgrt2xbAxbkQTVtXwcmgEqO7wPlThjcu931Y5SpLg4aDmLR5LI1SxF9dNnV786a4AMkL1KNK0Yw4lmtNh7JZyZG3IbULGg/oytOnPNZgdKghQ37KVm3DoEXr8Cz1nysSLk0YufIQx4+uZnK9nGR2cCC1tfEManTWvOTTaJ9+8/cf6/ZyPBf8Q5R9c8b2KUoygzbfeWJzeHTvAREK2KTxY+e4HrTr1J6ew2axzi9G8yGz75PXxV8PGou/Qq1pn+EP1k0fzdQdt9F9VQKPul9rP5T2JW/dbizcbr5tnTlkzR1XeAVHRRARGULEi1Ed2VzJqP2I6zhvXWdh4TxHAYMNqTOnxyGdI47p7UiOSoytL+d/D9YmiUT0bwxc5g+f2HVSqDU9y2YlU65GdK5r3KKs//HhlEbpvKuNC0oK/T0z9QkTFceEbbJphgsG5qXb9pm0tF9Dn5qT8Y4Av3NXeI4e77U/c1+XCp2+BO1Wz6Gr42HGtO7LjoD4q1m6y0tZ6A0KduTruYQJdVMQtKY9bVcHErFnPbuGutO6xyQ6HWvOktu+bOz6HVsfp0KnuuDh2U+TS4xfGgVHSvcZRWkgZof2B1tSFabZ0Hk0Gxo/KejYQWNhHJOXQuVTaxvP2h778C30LTKa43prsCtBy0nj6ajl/R6BW5g45TSh1g3435iqON35XcOFx9M9esCdKGtirP34bY1f7NR/uXH9NH9et2X1XA9NDvyP/71FhAIxaS6wosee+HuRLv3BscN3mbKrFx4ajWZ4QSWQg+PGczjEhhSl+zFEq+ESb2Pfkv9NvMIAzz2cnNqI0lNjp6csRPMJ/Wj46oV1TX1doQ5Om/ZxP3Q9g2qsR7UCg60NKVSI0gVyNwDI/fFxnBv8j8EAAb4JpquE8DAwGHAk2tmFTC9eyJSVDIqB+7pQHj8IBTTYJ3O353/DwIAPS1+abPL25g1xARwrDmRixYFx/6sxx/A+bRwSmrxMcbR4vImOkrScVBKAE1ufwutO+9nbY3usD2X6ehOhQKoczek9tZPxPhINvOn7B+MwwfXDZ3DumStV53fHI7k3R7UJm+gcHt25D0CUzzbWvZj47w0unfDl+ZrV9DLhfd5v3jcC8b8TAjiiPvZi4NA7sUOn4cKfv3H8r2msnalNe/s6idpusEy7+bbv0qrCUCa2C2DwT6dY07I8awBQsHZpzvDxdUxamL51nZWqQpmUv3FY8WVr23JssQJdlA16OwWeQmBgIJq0c4nq3zwkMEAPOkjrkjnuRIKDS1bgCTHWgTy5r00672rj3EhLGkv398zVJ3yfOCZok01yJSsibzkqZwaDfQHyOcReZzNEonKHGzeMZzuU/A35Lpce0laldumEaTy+8hc39cbhM5fnN6d+zXq0XR0IQIx1II8fAdaF6TyuHbmJISYohAgFHKoNYVgFM3TSxEdT/57BkDnXiMSGnG096e5qgiBKegpUKkcRFz08Pc2uOUs5FKjNolUC2T9+PEeCnSk9bAh1TXn1I2UFOnv2o2PLboxYdZTfTu5jXQcX45CHfRvY/libMBGxzYE+2J/Ib0ax/sAJDi+obzzjE7SeDfu0GtL5ksvzWehtvNm9djdtxse/U7gP+7ce4+JzPYaULuQqlAfHlCpK2BUObzjE3xrfl/JfNqU8WTK6Ie45UmCrsyGVU1maDOlECYOJA4tXqPhzbIQnGx6ngNS16D7ETNvgC44FKVvGjZx2BsL8trJk1mH+NUPYexsHM/cvW5zrjGSEu2WOmS6NxjOoZ0va9l/EtqNnOLVjCDUdIzDofdmy+pxFcgJQYndD5VYIWTp68cvxI6zt/BW2Kjzb58Vuf4ulFs8S7eZbGG7vY/u+f3iiKOgy5aXg15lIrVeJ9j/Ipl2XLHf7RurGjFo0mCZFMmBvbYNNyryU+mEIbbI+ffe8H8Es/ZvE5mLpNo7ErQ9zrbN3xtG4TTbN8zN1tq+5y8ooQhcfMq5pf8OTZqzCCtFw0hxmT5sV9zdz9kAaZTe+/uzGLR6o8ct77h8o92J9Ah56j6VtFy/Ohmek6A9LmN87p6bDQ1RCueN9nL9iytNx2lyWbBhIuZgoQvzXs3q7NtfjlUf72HYkBoN1IMdHlcPNzQ23Dru4r1OISHuIiW5u1J1wTZNYJHOhSL3mNKpRg+r5UmJr5UCuWhXIpsRgSBbCM402esdMxiG4impD3mq1yJnWmpTFq1EqbTiqEskT/1BtAsWJ5PyWzcYTKk6VqF5Q48W/wb2N/2P6qWdYPy9B3007WLdsDXtXd+JrnvPwt2lM3WSCYjIBG5zr/I9Jc7dx+PTvHN0xk2E57nMLPYrBkYyaPlXpVQr2pHc0nr2zuutPwIsXAoztqRJjR7oMphr6moQ8u8KuH9vSf18I+qwN+d+y0TTW9gFfbxbuz7nDf3Ivf3smzV7I+tEepCaCR4eWsPayaUMb8GXfWh8iFLjzc2fKuLlR0m0Ie3TJMFgH8nNvN4o33MK9dy/qo6TJW5Wm9WpQy6MYWVKC3qUuVb+JACA0ROu2JnEU7HFwNg7wsXqaj5LNCpA+eSpy16xobG+TB3JHoxN1H84y7eabqARyePIY9gaAkqkHXjtXs3zFLnYNzoeNGsiV2dNZc9Ny+SXP14LBk73Y5v07Jw6tZmbnNDy6afyO02V01Dzem/s36XHMZBzOGOR/h4jY9z/yvwWAPsqRNFq3P5Zs42Ilpr9n6j5houKYqE02648UKGQmR2bjdTfVdw9r/GIg9AA//5bwcmW6fN/gZFAx2Phz52l+SnuUwc36EGvW/MrVqNTY22B8otvUYzxRFDKVK0FWxUDYxWmMXa/RoFahvQg/fp3cmO96b8M3dV06L1rPovYFSKPl41z9NzO8YSUa9h7EhAUnuf7gMX6/nuSqYmxUDVoNkLVKhkN2F5ydneP+XNIb7/1SVBvSujjjnF6bp9IZ/LYwsX0N6rQYyJTj9wkJu8vZzfuNl7v1mcnhrEkYUpSsjJsuGlWJ5OrubVx69JTH3gc4EZQMJcaOjJm1PSAZuMyZ342HGpu8hclnwnH7LwsNCTHG14Xgf/eZcdrN24QYFFQlkpCnpu3gxdzawvQ+tahRozdTfntC6BNfNs/fyk29DiVdCUqZ/KynDQVLumGrQkzkQZavuIT/3Qts8jrIfZ2C3lCIIiU/79+vCfZZxIDmrRnzq57CzaaxavUwGmQ2T+ynR4bRvGZduvYdy8K9t3gU6MfvJ67GDUtTTf7M39jHab/UdmXKbIdt7DMD9A4uZM1m2ruiVAI5s7gLDeu3pLPnFi4+iebxv1vYfdZ4ejb7V5Y69W9D8VLljQ/Bsffh6JpLPAx7xF979nJT1aOPcDH5SZB3sVS7+SYqEYSGxN4/E+6P/yPjiU7/O8YRRqpNKE8tdfb7qQ/bJrSiVo0m9Fls/C4vLpnPL0+TYRVWCPdyGt6m8I7+jY78FC9s7BMoZ72Y432LgH+2sniX8XRGtGtJSmqYjiXbOCBx/T1z9AkTEceUbbJZH+Guw4EKzSqR5swJnkR5M//bkswH0jm5APGPszLk70iXsrsY9XsgZ0bXpMJcW6IehxKhwKXnhSlXzY4/xw3n51Bb9Fa16DCmH+lGVaTfr6H8NX0CWypONHu1Lt7OgB/bO9dl/KXkoChw52cW/fAzi2JfT1ltMUfHf/zdEKpLUYqke8be28m5uq4HzV4M9tcp6HVVqFdTo1YsdWPGbm2ccNrpwVTpeoDnT8rxw1ntfidLl86WsNsPMehD2N63NttjpyuqDelatKKWVvcQZWhJjxYb+GFVIE/OTaBN9QmxL+hJ5tSQb2tr2/HWhV/neoAtWEGGHC4mv9n9hVw1GvL1Ki8u2vqyuWN5NlmBEg3odej0JahWXZtHqL+J3jacm+f9ea5/wPbeVeK+T12UI0X6taGUSaMbpajZk1ar2rL0RiDn57ah/lzjdEW1If23nWhm+l8LsJw/htC4y/7YA2ggPhv602KD8SXr4BK0OTWfLulMFz7V10XJquzimrUfu//XiN0vvabP1ZBGGtyP9zY6XGm84AAvt15q1B4GlxrCr1HOVB+xQ/PfyfovBXtSxwTwIExHxLkJtK3yoq2xQa+rQssWlqtk9LV+pMemb5l2Ef5Z2YaaK2NfUMCpRmuam3DbSAxLtZtvzAcXKtYtw/yLl3kStI1BNbahvmhTAeustSx2tU1NacuTC3/yIMaaB8vaUHNZ7AsKODbsTsts2sRJbP/GvUtv3I7O5kz4Bdb3acR6AJKhM7hQsW8DTX66AbB4G5eY9fHr+DRm6RMm6rvpZ7o22eynK1NWmsDcHyuT38EKm2QOfF11JAv65o07i2ZMyoW6UzYyuWUJ8mU08DQkAn2WvLg3GMnceXXIcHgEkw7pUFQbcrTpSINUaSj/Q2vj/VmGgywYdcDkQx3E+4okOMz095wouNJ4zmYmtylHPpeU2OjBJqULX3t0ZNS6sZ9m8Z2mDmPWTKNzta/IbGeNam1PppwlqNlnCcsGavN7RkY2FOiziWXDGuLxVRrsbVSsU7tQoHI/Jq7uhbvWp2SCHvJAb3wilrWdvcYLf4ucfVmw4kdaVMiJS1prlGiwTu3CV+Va879Vc+ig0YH3jZxaMnHJCNp5fIWjvfH7dMpfmRaTVzKzvsYPgHkT68J0WbqQgbXz4ZLWGvQ2pHQuRKUuc1mi0W9kJVnBwcYnjlmKY2MmrJlG55oF4ta9nYPx+LZ4+XfadbSSNBtydl3NmmE1cc+eFhs9WKV1TRLttKLk47v5Gxndtjz5XFLG3jdZiPKtpzJ/ShJ4crGl2s23SNNkPovHN6dqQSfsUqooqnGbLtloMDO92mr2MJf3pSj5aLdwJf9rVJivHFJhq7MhZZYSVOo6F6+xRTX8LhPZv8nSnhk/DaSlexYcU6rGY3nuyjSfsli738gCy7dxiVof5ukTJiqOKdtk9TWuX7/+usniE2bK79Rc28vnFsecsb7EOAY1RN3fM4tarFgxteH0Wx8U5+zob9RixYqpFX48q1leWkgKbbSlcviSP3tSiZ8Uckhs/ICVtdVixYqpRZrvUgM0jB+jXlF/qp9LdStaSu2+JSZR88g6+3zXmblYOh9Lx3/Zp5DL5z3wXgghgFtrGuLm5kaDObcT9f5zYwri5uZG5x3a3FcnhLAs3T+e1HFzo3Dr3R/1gCwDvqxokJsSbt8z907SuJJkKrLOhPg4Zr0nSwghzMk6bS7SORmbOcVgS4bUiSua7NJkxyVDBM8V43ypHD7rAXRCfLZs7DLikiGK57Gjp6wcP25fVrDBLn020kUZz1ErBltSpfzYLJMWWWdCaEOKLCHEZ0nBjgqjDlHhA+bN1XMnO3pqnZEQwtzSNVzKjobaLU/BlcZLEj445HMj60wIbchwQSGEEEIIIYTQkBRZQgghhBBCCKEhKbKEEEIIIYQQQkNSZAkhhBBCCCGEhqTIEkIIIYQQQggNSZElhBBCCCGEEBqSIksIIYQQQgghNCRFlhBCCCGEEEJoSIosIYQQQgghhNCQFFlCCCGEEEIIoSEpsoQQQgghhBBCQ4qqqup/J/r5+VkiFyGEEEIIIYT4pLi6ur4yzep93iw+XX5+fib7Tk257M85jjljSRzz+JI+v6Vy+JI/e1KJnxRysHT8D2HpnC0d/0NYOmdLx/8vS+dj6fgvS2q5vI4MFxRCCCGEEEIIDUmRJYQQQgghhBAakiJLCCGEEEIIITQkRZYQQgghhBBCaEiKLCGEEEIIIYTQkBRZQgghhBBCCKEhKbKEEEIIIYQQQkNSZAkhhBBCCCGEhqTIEkIIIYQQQggNSZElhBBCCCGEEBqSIksIIYQQQgghNGTaIuv5AcZWK0OLObdMGkYIIV4VybEfc+Pm5oabmxuFW+/myTvmUAlk1w/Z4+Yp2u0AEWbJVQhhCkEbmsTtz2XyjODnRMxzf3GVuHlKF57KYZNnmbS87zqL4QAji34dN0+7pcFmyVOIpO6DiywDPiyqlydup3Jzc8O9+vf0n3mCm4YXS7fHwSUzDg62H5WkSih/r/yBZq3WcgWI3tM+QdxipSrRuMM4Nv317KPiJFbIH5PpXXMgXo/MEs7MAvlzcTuq5+/GCo3bSZVQfDcNp1MjD8qUKE2F2h0YserSOzu+7y+SOwenMLRFFUqXdKO0R31ajdzMxRDNA8V7dozJDQpQuuC4RB3E39vvfahSrFiC7b54sdL02K51oEgCj81iaJsqVCpdDPeq39Jz3JH4fVoDz7Z9n+BzvPxXqtRsTmgXCoDcrdazb98+Ds6tThpANfjx65SuNKvhjlvJ0lSo240Ra67xBFBwpMa0M+zbt4+1P7honInRycE53/j5i/Y4qnk8w83dzB3QkBoexShargYteq7g8D3Nw7yRGr2FQYULvvJZPYaeM18Spt4/3+D51S3M6GFc98VKVaJxp6ls94sxXwIRfvwyrSPNqxi39SotBrPAW/sW9+0ieeg9lrZlS9Jvt5lDx1K+GcL2/fvYeepHar2YeP8YSwY2o2b5Uq8cI5y+38q+ffs4vKA+mfWq+RN+doVN/ctRtu4Krpg/OvCadfaWbUlPVX7cf5R9+3cysqR5+mGvSALr7G3bVNJi2X3SfH3BxDFlO231UXOrySjSaz3DSutRdZE89jvO+mm96PF8HbuG5ATbknT9acNHJ6ncXMr4rVloNaomrrHTkqVrztBFTckfYyAiwp/Lu2axoN0o2DeJpg4fHfKNDJxi5dhLZOwznJp2potjbiqh+B9ex7JlXhx66kBytO9gBm3vRveZKhX6TaR7oZSEX1jD7EndGKDfxNIWGTSLE7anL23HPKBQj+EsKJoRfeAp1k+ZSPeJruwfX5SPK/lfpRLIsVGe/JXLA8dbpjkgP7sfyFPXTsyZVINMhvgYqTJpGyfSezCdPcMp2XsMC/KlI+reKdbP+JE+c9axrXdOTWKkqDqJzd9EJphm0Pmxf+T/2JutBPk0iRIvJrk9Dg7xjcL16W348Rc3Og1eyihXA8Hn1jB5SjdGpt/LrGo6rFM54pAK9MmtNc7EqHj//WzuqCSYpoQcYHrfjURWLaxtsMAtDO64nCdN+jCqfTbShl/jmNdkRg+ww3V1Y7JrG+21lICHBKoV6bC6PzWt4g9cMWkymyG6efbP17q7nL4dVhBYZSBD5+YmY9Q1ji2fzLQfUpF9fxcKK+9exMdQCeXU6BZ4XqrGD8P7MMrpGX67JjOtXw8iVq+mT27Txgd4cnkrm1Z6sfYPA6mtdaQzfcjXs7YnfTqHuLYg64Q8AAAgAElEQVRfjT7FnK692ev8I0MWliZbzGW2zRhLj+7JWLGqDtlT2OOQAgiyxtacNVa4P6d2LGb50iPctU+BzpKX0V9aZ4nZllI5OpCSUGxtNTwjlxhJZJ29c5uyTFqvSAr7pLn6goli4nb6o4osRU2OXbqcZI/te+VwzUO+0CPUmPEzJ4b0oiS+eDX4ljOtfZjbSIcBX7zq9ubfjj1I/cty9l29R7DyFe5N+zGoS1Eyvljwg/0smTSfLWduE6ykJ3M6AykabqJO4dQARAM6HMmRI1vshpuDnAWsuXOsC/v3edK0RXJUQvl3xyymrd7POf9orJ0KU6NxP7p+n5M0sWHOjynBCPtxdHy0kuUnrvMgKjV5indkwPAmfG1vfI9q8GPvjPGs/OUi/4SlwNnZmuAMAzhQPafmnXVLUgnh0iEfrKtNYW2Vq0yopu31BBU/dqy6inPX/QxvbPweyVkQxxvlaLXjOPdaNI7//j+STdlOeM51oqzbiwokDz2ue3Fo7w2CKKpZnBeCdg1m1rWOTBzoy4BDGi881qN790meowSlXLObJgBgwJe10y7xtecvDCofe5E7dx7GujUgIoW9doFSucS1GUaR3Fo+iO3RPZk5xj1u/zQFlUB8Lz/CqVYPfqj2lXFaTmfaHSrP8kv+UC2LCaMb6dO7kj39yzn5s7unF3erLWJ1/dQaRork0qLZXK+2jC0/vFjhucn9TVm+Ndij4Tf6dgH/cj99PkrlyUp2ExcWr2OO/fO1nKrT29ONtJULxrY5ucmt/4OdzW9wyQCF9aYNr4TsZMOeHHy3cTTtYwuqXHknE/xHPTbuuU2f3Kbf1oPPHsHX4Xsmb8jD+Xad8DV5xMR5/ssctt5uyciNLShvBZCdPlOCuFljIUtO12FcCQslpl7m5GE9xfp5MV0dTc2ZFsrjP5LCtvRGSWSdJdlt6j8svU+asy+YKCZupzW/J8s6pQ2655FvfoP+BnvGbyC4wSx2HD7B4YW1sN7cm+GrjWPTDPjyU7cB/Kx0ZPqmoxxcO4pmmZ9z+5eD/PuWuAqpsdEbCDcYYz/Z3I1Ok+6Suf0CNm/ezPwertxb2p7eyx/EzaMSzr0V41nn0IM5e05wYvtEqj+eTK8RR2MvW0ZyfuJ3eJ7MS9uFv/Dr/qWMrJgO24sH2Wep65omosOF6uPmM7RNKTJba38mSsGVxp5TGVw7YScylYMtSkwk4RrGsk5d+KUCC6IfHGP74TCyVSiu/c57ezlDZ6ak9vQW5LaO0nrpce7ce4h9zGGGtK9NpVKl8WjYjTHbb2l6v5Au4AjH75TDPdNmJnSrRcXyxsv4g9ZcI0jDOK+4vZyJCx2oO7EFeU3cCVdwpKB7Zp4f38YvN8IgJpIH59aw29eV/CVNMzzwXZ7vHMHCa9/zv4EFND1xY+Ayvx1PQ4lyIWwc1ooGFUtRqnJ9Oo/dzy0znu2NCXjAgzR3OTS4OTXLl8K96rd0m35U0yGob2Sm/fO19C7kiztwA2HX+X3PKZ6UKUdlExdYAKp9PXrOHkzzl65YKdiTKq2BqHDzbADZWs1m2sAmFEtvxiGS7xTJnyf/IsKjLKVfOs1scKhAufw3uHTqtuVSS16V3otG0LlmNmxVCwxTfIOksC29UZJYZ0l4m/oPS++T5uwLJoqJ22lNi6yn9w6wdPU5lPJlKfqW99nXH4JnjazYAslztaBzDfA5dpoIQPf4BH9c+Zpy3eqQP0MqUjqXpEmHKqT68zRn37RNRAdydcsCdt11o3Sp1BjwYfWya2TvNYHBNQvg7OxMgcoDGD8wFwHLvBLe85G1MxN7u5PVBkhTmO/alsH6uDfnAAN+/Hn6OYXrdqdGzrTY27lStEd7Sked4cwlbdbZl8T+m3IUSBv/vwF/fj8SgEOx4ia5lB7DAcaVLECpmoM5kH40k37IqunyVfUKPw3agNJrNB2yabrohHEIJPDeE+5fDSR709HMWL6Q0U1t8RnTnf8dea5doICb3HHyZX2/VfxbcBAT5y9kYqfM3F/Zld6LH7x7/g+gEsrJuSu4Xb8HHU24Dl+WpdMsOqVdyfCmHriVLE2dThu4W3k0A0qb/2GrBk6xbP51XPu1oZDGoxNV/Ll7T4/P4sGsjahJt5mLWTqsERn+nES3/gcw121Z/vfvYLjnx+PCXZi4cAXLBpcj5YEBdJt6yaQPFTHX/vnOPAjkQLesuHk0Y+j5SoycWMcsZ2oV7HAtXyhBLCXsKMf/ykSesq5vnO9zpxJCYGAUjuldEpzU0JEe50wRBAU8tFhuSZVsS2+XFLepqGehhIbG/z0NecvFD1OIiUwQPzQ0lKjYBt/cfcG35fKCqdrpjxouqOqCOObphpun8X9FtSGr+0Ame7pjC7z+RGUycuRMeNeFXbrU6MMjeA5Yp8tPvkyzOLrhHN8PKkoG1Z8jW4/xOGcr8r9UVcY8mksrt7lx/9vYFaL6mPF0/QoIucSNO3kpVC5hpZzSvSy5npzirwdQKnbYp1WuHAm/VIc02IaHEw4ouJAjr56fDm7nYoPv+No+knvbdnLO8A1N877/+hIvi+T22n4s+LcFA2dpc6/Pf+lwp6PXFuo9ucLheSPpOdaBTSO0uSdLJZRL0/qyK8solms6xOtVCo7UnPwbpXHB4UWofJOw9y1Lh43eRFSoqtkVEKu7V3hQYwk7usSup68LkuPxWZqs24pvpy6aX2lSQnay4WA+amzV9irOm6gEcnJkNxY8b06/afUp6mLgyeUD/DR7EAPWrjH7ePDoo17sCm/O5CrJTbJ8VXeV63d6sHhZi9ix5d8w1uEmTb/dys4HVelsho+btf1adjZMjXP62Coyfx4mhJ+n6tBf+G1gASqZIKY59893UXCkzJD9rH0cyOVtkxnfyRGHrW1Nfk/Wf6n4c8BzOufzDWFxOfn1lhgbS2fw6ZJt6fWSyjYVwykW1m/LyqCUcdNsHpWl08WZtEv5lhk19GxneyqOSzgYMV2dlez3LPCfd5q+L5iYXEzVTmv34Au9LfbpnOM7gW+R7C1RdZSk3dCy7B3QiVrbbbHRQ4qvGjFgTtsEN8QrDs0ZHfvgC0Py1Li4pPugTloy3at7RbLYK84Kdnj0HUDhbyfSruIcrG3BkLYk384YSWsTPlzjc6cSylWvnvRbnIkWPw2mqoluwlGwwylPXpzIyzeGY/zS+WcOjSga/3Spj1n2s50sWxPADft+1PSInRYdSaQOxnj8zPhvJnBorod2xU9qFxJucjZkypmBFH+FEATanBnPlI0MioHo/F8lyNvJNStW9x/hp4DW5xaeHfqFPzLXoreZrjQoAZtZuikHzfYOo8WLmDkLUpDL1Ji6nhMtelHKPKkAkZzb701MtW4m6XAruODiFEX0V/kSLj/XV2SxvkBQAGCOmtLKEef0/5mUIxsZgh4SEAOYYOicuffPd0mRJS+5s0CuAvc5WWQ52/9sS+FCZgqO8d7i/UM7M/HfVkxennRuwrcEBXscHa0J8vcngixx24CBh9wNsCWtW/q3zv+lk23pVUltm9JThG9nrqdC5EsNv86OrMnMl0MKj1H8lD0swTRrx4RP2zFXXzAxuYBp2mlNH3yhBQO+bJ7zDwWmHGZHcR3PbO2wf82RMOGDL/6zDPsC5Mg8lwvHg6F5fNUXdtKbf9Lk4/tEdywiObdsCXerreXgoKzon9mSyj6JnKr4RKkGP/aP6sWMP0vRZfUwGmTXePn4sL7tCLzrrmJe4/jvPjokknAbBc3amBRNGbG7Ij++1IbZXpzOd0P1/LC2L+4pHDTrwKn4sbt7b/ZWWh33mVRC+ffv2+DiSNp3zJ9YhkwV8MgynZXnr/Dk+/gHUNz3u0VMxhLk0ChOvEj+Pn+BVN8MMd+BOuwJEa8paGxVFV1YKBoOvnwnA5f580JyCnbT+nmKRjry41YuDVaHL3Ay2gP3F639P9e5HZWBvBo/mfL1Irn6U2tG+vZhxST3uH3i2d//cN+lBK6mujfJjPvn66iEcm5ma8YFDGL5pPh9SQkJIYRk2JvmwZWv92A/s/tP4Lh9P2avrMs3KcwYO0myoaD7N1hP8ub3aHcqxu4XukdHOH45BwW6W/AhDkmdbEtvkNS2KRucChTCycxRE0j3Fd+85dGFpu4LJiYXc7TTH3clyyRuc+OunojwYIINabF9FsrTiPcrbnQUpknbXGyfP4Tp6fvRrGAKnvtuZs70f3DqNDLRZ6pVQrh78wHPs4Ty9IlCan0EoaER2NjZfVZPFjSXmDu7mTpwAkfTdGLw1Brk0d0l4BagtyWdi1adnq/IkzuEaTO6Mza6O3WKpsP6zjFWzDxNmrorKKNJDAAb0ro4Jyxw7lmTzJCS5C4ZNX0AvkJmcriG4DN7CNPtulE7s4Hbvy1k5i+5qb6onGbboo68NOlVjU0DRtJ35gC6VnDC8O8WFi5/SI72tTR/tLqBh9y4aSBTOfM8yhvAkLMGlfOv5afBU0nbpQZFXQwEXT3AunlnSVa9h4bbx7spUf74+TuTPruphtvYULRDL0rtncWofvb0a12MdKHn2TZ7FwGVx1PPLCMjbXB2dSF01ngG5O1Ph7IZMVzdzaK5/+DcYrwJrxqab/98HQU78uZ3IcJrJH2detCuah4yRl3j4NLF+OT6gV6mqatf8fD4ZP436gAx1T0Z0zw3aQLvEgCotvY4O6UyTxJJUPKaPWnyUxem9HFG6V2aHOGX2TZjHufzDmVFEnkKXFIj29LbyTaVeObpC76bOdrpJFdkKRShUsUg+o9sRPWXptvaleW7adPoUTRxpz4zNpvHPN1k5i5sz7c3jY9wL99mAaNaJf7hBwqOFK3mRvj47tTfHn9KVLV1oVTPOcxtru2DFD53pxf2YdPVNMBcBjSLv5/ONqgy3a5OoqUGZ7UV7Cg6dDNLXWezdNMIus0Kw9bOlaLVpzCrj3nu+9GeDQX6r2WyzVjmTO7I2lAd6bKWo8aUkfQrrm0HPVWl6SyeMJkJS8fQd2001unzUaLDcoa2M0WPPJSQYD12dub7wTkdhWm3aDFWc+azYewWpocopHLMR9E6s1jcRfvfUHsbJfQBoc9S42LKW4acWjJxmcKsyauZ2H0Oz1J8xTcVRrCwb1WzPSY3lccEFo+dzIRlw+m28Bk2joUo2XwBozp93u1nymrTWZHyJ+atWMjI7UFEKOnJ49aTyYtN/xRNAAM+bBu/jLNP7GBDf1q99JOVSpYh7Npm5kclJyGKVUl6LZhF8unTmdRmGsHWmclVth9zB8nwt9eRbendZJtKPHP0BRPL5O20+hrXr19/3WSziDjSTa1Yf4F6OuSliVEP1bPjPNQy3Y+o4eZMJni12sftB3WeX/TLGaqBe3qodUpPUX83Zy4fyZTfqbm2l88tjjljfZlxItSjA3Kp3y66/0ExglY1Vot03f9ebU7S+vyfZw5f8mdPKvGTQg6Jjf94fWPVrdP77cdx/pmgfl9ksnroQ+Z9jc99nRnUEHVf3zxq2yVP3j+5N/hU1pm5WDofS8d/2aeQS5J7LIyi2qIE+3Lm7D/cefKU0CePuPnXcQ78pSNTEVezX4lQre5w6fcLXL//lNCnj7j772m8f/+X59/kNcE9KkIIIYQQQohPXZIbLmhVYRTzHk5m7txurLodRITOnnRZC1KqzhyWtDLzzYP2LRkz8ynTFg2n4+J7hIbbkjK9K8XLdmbmQPP81okQ4uNcX9aA0ivAqsAodi6pytseYKQSyMGe1Rh5NhnEREIxc2UphDAV9cJIKpYeiU1EbQaeHfbOJ8zeW9mURov8QYkEQ3Oz5JjUvM86i+EAE0sPZg+2EJOKPPnNlqYQSVqSK7IU7MjbdAxzm1o6EyO7kj/gWfIHS6chhHhvNpQe/Cu7ehoHVqvJ07+1wALjfZgVPXfxdVj8PJ/mfXxCCIC0tRayq1TsD7EqdrzlgWdxMjZawJaK7zfP5+R915keD7pt2kX7GOP/1on5LR8hvgBJrsgSQgitWDm4kOk9f9PuQ+YRQiRRdo5ket9n63zIPJ+T9/78xqd5CiESSnL3ZAkhhBBCCCHEp0yKLCGEEEIIIYTQkBRZQgghhBBCCKEhKbKEEEIIIYQQQkNSZAkhhBBCCCGEhixaZMVwirkepRh0yJJZCCGEEEIIIYR2PqjIMuDDorqF6LQ6+JXXVEI5OrgIHoNPEvHR6QkhhBBCCCHEp+WDiiwdhalZ14mLuw5y7z+vKeH7+fmIM2UbucuPeAohhBBCCCG+OB88XDBr3Ubk+3sPW24mnP7swDZOJqtL0+Kg4s9vc7rSrIY7biVLU/W7ESw98+ztC742g9a5B7ImJn6SAV9+alKQjhsNcdNUgx+HZ3SjWQ13ypSqSO32U9n01zuWLYQQQgghhBAm9sFFliFTXRoVPcmhrbfjp+HP4W3ncKhfm8JKJNdntKffofTUHbmBnVt/YkjxS6zqPJEdTz8uaZVAjg1tiedpV1pN2MCmDTPp53aeJe1GsenRxy1bCCGEEEIIIT7GBxdZOlyo1KAUT3fswUeNnRawi63n3Kn4bRbABtfGw5gyZTTfl8qGs0seKvRtTwXOcP76xyWtBGxm5d58tJ46gDpFsuGctRAVu02mXd6f2b3r1fvEhBBCCCGEEMJcrD5m5uQ1G+E+aR67/+hC4RJwf9dmfPP1YbyL8XVd1vKUjw7k2onT+Fz+mwu+pzlpsKJczNuX+06X/uRv/Z/4Ni3N8pcmR0bakumbECD1RwYQQgghhBBCiA/zUUWWYl2VhpVH0Wf7OfqXSMH2n59S9PvKZIx9PfzCTHr3W8cdlwqUKJaXwtVL8OjAhz2vPTIm4UU3XaqGDPHqQBHFkGC6TWrnD1q+EEIIIYQQQmjho4ossKFIg9o4dTrEibZWePtVpUmN5IDxvqmDsxZzt8pOtg7JaXzSYPgW/ohR375I2+TYqKGEPQIyGCfpQs5y5bZN/HvyFCRX8GmuW2Wklkv85Cd+/iSXi1hCCCGEEEIIC/roHyM2FK1P5cx78Jp+mFu1alMjVfxrtikNhN2+wLWHjwn69zhrhi3msC6GxwHBhESAgi3W9s+4ffEad+/e5WEkGLIUoVC2E+yZuZtzdwK49/dBlv24itM28fWgmqUJbatcYdOAqew+f5O7ATc4tbEvHVoOZJ7fx34iIYQQQgghhPhwH11k6ShMg9pWXPlNl+C3sRQcqfTjOKpFLaNH4zo06LWCi2VGMel7K/4a04Bx3sZ567UpwfMt39K84UJ+jwQdJem4YCBF/WfQo3FdGvRawZUynvQrHhIXU8GR8uPW4FnCj1VDmlGvQUuGb7KhzMR59HP92E8khBBCCCGEEB/uI4cLGjl1Psipzq9O12dtzOAljRmcYOpuKv4Y/1+mJkvY1iThfMlztWDkyhaMfHli64skeJutK5X6zqdS349MXgghhBBCCCE09NFXsoQQQgghhBBCxJMiSwghhBBCCCE0JEWWEEIIIYQQQmhIiiwhhBBCCCGE0JAUWUIIIYQQQgihISmyhBBCCCGEEEJDUmQJIYQQQgghhIakyBJCCCGEEEIIDUmRJYQQQgghhBAakiJLCCGEEEIIITQkRZYQQgghhBBCaEiKLCGEEEIIIYTQkBRZQgghhBBCCKEhRVVV9b8T/fz8LJGLEEIIIYQQQnxSXF1dX5n22iJLCCGEEEIIIcSHkeGCQgghhBBCCKEhKbKEEEIIIYQQQkNSZAkhhBBCCCGEhqTIEkIIIYQQQggNSZElhBBCCCGEEBqSIksIIYQQQgghNCRFlhBCCCGEEEJoSIosIYQQQgghhNCQFFlCCCGEEEIIoSEpsoQQQgghhBBCQ1JkCSGEEEIIIYSGpMgSQgghhBBCCA1JkSWEEEIIIYQQGpIiSwghhBBCCCE0ZPW6iX5+fubOQwghhBBCCCE+Oa6urq9Me22R9aY3CyHE2/j5+UnbkYTI95E4sp4ST9ZV4sm6Slrk+0g8WVfv500Xp2S4oBBCCCGEEEJoSIosIYQQQgghhNCQFFlCCCGEEEIIoSEpsoQQQgghhBBCQ1JkCSGEEEIIIYSGpMgSQgghhBBCCA1JkSWEEEIIIYQQGpIiSwghhBBCCCE0JEWWEEIIIYQQQmhIiiwhhBBCCCGE0NAXWmQFcuXg3zyxdBpvoOLPuSM3iLB0IkIIIYQQQoj3liSKrGtTy+Hm5kaZPCPYbOJYKv4cHfYtrQe1o9Oy2yaO9hpP/bly4DR/R73pDZFcmtaCH/q35Lup55JsISjEh1IJ5UCvrLi5ucX9NZij3b54bkzBBMuuOPCcZssWQggtxXCccSULxLVXJb+pz2iNmiwDvqxokDtu2cWLlabHVoM2CxdCvJPVh874bNv3lB/niz7KlfrrNjI0v5ZpmUokt3/qytC9IahpatG2ThazRn+8rSNNJ57n+YNydLpYgjzWr3uXDfm+bUvpnTM5sWoow3JsYF7j1GbNUwhzibFzJGsqO7I42ABg8NvC/EUbOXj6FneeKaTLXAKPpj3o3jwnaf47893l9Gk6C+8Ia3RRjtSYv5fRZcDOMQfOziqRwf4Ehilm/0yfpkAurJrNkh0nOBcQhJrMhTxFG9KmV1sqxjaT0Xva4zHiTyL+s0ptIhvyvz+HUcv8SVvAu9cTAE982LZsCdsOXeR6YBRWGfPhXrc7/TsUJUOSOLVpDpEEHlvA3FX7OXr1HsFqanLkqkytTt3p4J4GLoyidrud3Ne9fh+1tm7N9BO9KGXmrC1J7+BCJmsX0iSDd66/WME+K5i/dCdHLwfwMFzBIUNhilVtRZeupciis8EuUzacVR1h9wIJibbYR/ukJOY49PzKWhYs3Mn+v24SGKaQNnsJqn3Xj14NsmJr0ezN7KkP2+YtYdvRi1x7FIaaytgmdurfljIZjW9R8efsoiks2nOey/eiiEmdmYJlW9Grb12+trds+qb2wUXWJ+nRJqYvvUlUdCYqDx5CbSfzho96+C/BMQo273ifPks7PHseps6EK5ydOpd9tYdRPZlZUhTCrHLUW8LWvrG90/tr6NtuMr+FxZ99eHzTm+1TTuMTtoFNHeJ7sSp+bB0+De/o1NjoI4l+6cpwrq472NnVeEWr84537W1CJZTLkxrTYVNY/MQIfy7+OpdBf/gzdvcwqqWCR/cfvFJgfUkSu554dozJbbuy8U7y+LfdvcDhhT24Hb6etT2zmj95C3h6uB9tBpyILaIUdIRw88I2FvW4QOCS9Qz6YorNxNFFOVJlzA7GlTD+/871V0QH12bQtYsXV6P1xpms4PGd0xz46TRn7y9m1+iiNF5wgIb44tWgHvNuf1Hd/w+TmOPQvwvp2nYRF2P0ce8Juu7NxlEX+PvZBpa2yGCJzM1OxYdF7dqy9MZLpURwbJt41YYlO1qQl1B8Rreky86n8e8J8uPcrlF0/uspyzd9R97P+LiiWTNnwI/1zXLi5uZG7UXnOLO4C82ruFOmTH1ajzzAzbgr1JHc2DmcTvU8KFOyOk2H7+Yqr1YQqsGPQwv60qq+B6VLuuFe/Xv6Tz/CrUjgwkRauBXBzc2NSn2OGofUXYufVnPwydcOs7u38ye8I6xRMjanbVXjAVAllBs7xtKvZRUqlS5GkYo1aN57Ib/cfOmUz/1jrPJsTf2qpShTqiJVm/Vh6uZ/4mP82pUyxdwo/c0ItvjtZGL7SpQuXRqPhoOZe+YZBvzZ2tKV2ouNc0Q6eDPPw43iRSoy6NDr12eahp2omSqcmMg97Nr9/L2/DyE+Nbc3LeC3MGsU2xK0n7mVTauHUcM5AlWJ5PbqPfio8e+9v2YQ032SY9OgMeViIi2X9GdACd+P16YgAFyqebJky2YWts2FrQpq6B7W7zW2P/7+twDI1HAl+w7+ypEDxr/93j9+EVexErueri0axsY7yVFsS9Bi0no2blvO5PZVqNq0E41L2HwR99oa8Gf/yp+5r1OwytaaMeu2sGFyTXITgwE/tq85DQX7seqX/ezfsy/ub/fKHpRJHYWCI4UHNv+irmK9LFHrD7j3+yGuRuvRG0rQbeMpzp7cy7QqxuIg5Kg3V9S3RRGvk5jj0LXNa7gYo0dJWYWBKw6wb88yBpfRoepDuTjfixOW/hBmovhf434KB5LHOFNmxHq271vDiMrGisnw92l8wkEJWMPsHcEAOFbwxGvHZpb/YGw3o64vZsGBz3v4qknOJQVuG0rvpX9y63k0ERH+XNk9koFLHwAQ6T2YHp4/c/5uGBExj7jxiyfDNwclmN+APwd7N2HQsuP43onCxt6O6Ee+HF07gDZDThJUqD+jWxrPFIQdWsKya/c5MGsFV9GjS9WQvv9zf2VokQF/fvP2AyBDhbLki51+y6sD34/ezrG/nxCMLSlCArn221JGNZ/E/qfA8wOM6diNWbsvc/exgqoLJei6NxsmtHnlnq5o3WkW9RjFjuvhREZGEnb7IKt7zuBnrLBO54y9TXyLZ2VvRyqH9KR+w4klRe9O+RKRqEokPscufBEHZvFlS16gHlWKZsSxXGs6lM1KjrwNqV3Q2HFVnj7l8YuzXbeX47ngH6LsmzO2T1GSGT7vRtrkor+iaKNyfJ2uOFW616FItuy4NfYgNzGoSiQxTyNRCeVRgPEkkU34IaYM6Uy7H7rQf9IW/gj+Qq4WJmI9GfDl0K/GY12G71tT/M4qZo+bgddlazIUqkydkhm/iKFECrZkKd8U95xpcfuuEzVzZSNHpcZUSP8MgOinEUQodqRzcoj7S5vhAb9OmcZvwdZkbDiNmQ2/jKsBr5Oo9Qc4ZM1NGtXYrwiOiiAiMoSIyNiTTtlcyfgZXyEwlcQch0KijEWDonPEIWNaHJxcSG9nvKqlBvtw6qrF0jcvlyaMXHmI40dXM7leTjI7OJDa2nhVKzprXvLZwrMz3vyl6NFH5KVG5zrkd8nONx3aU9k6AlUfypXfr1j4Q5iWaZx1DKsAAB/PSURBVIYLBual2/aZtLRfQ5+ak/GOAL9zV3iOHu+1P3NflwqdvgTtVs+hq+NhxrTuy46A+KtZustLWegNCnbk67mECXVTELSmPW1XBxKxZz27hrrTusckOh1rzpLbvmzs+h1bH6dCp7rg4dnPOGTjP1TucONGMhTVhvS5XIzTDAdYvegSEUpyUhT2ZNXiOmQ6NZQGvc+S2s0OQyDcOzaLHQHJ0Ee5UmvFekYUCeBAv3oMPRbJnXlL+KXtaGrGxjBYB5KihBcbPHPjP60KbdeFoT67wIWrTgyb402JxVWovfgJNo/K0unoTNqlfNtKtCGHazb4NYiImzcIwJ3sWn0/QiRBjhUHMrHiwLj/1ZhjeJ82duCTlylOUYzDBNcPn8G5Z65Und8dj+Te/2/vvqOiOt4Gjn93gV1FmoCiYMUSxIYGO/buqxF7r1Fi71HR2DvGTiyxxN5iLyTY20+jSYyJjRhDbGAJSFOkyN73j0URFV3iSn0+53iO3PrssMy9z8zcuZxMp3izDAs3Ooz7hg7jkhaFnTqib7RKcKF8LWsUAggK1tfRt39Yz+3E7f4J/JPfzocw128UtXO+eegsxYByggsE3zMDNcT5T2L4vdDELS9z9X9nuBKWPYYSqbCn0udzqPR50jL1zeOc+NcclaLBzcPtjWTz4YYv8b2sxTRnR0aNKJ0tktGUGFp+Sp1xzO51n7HfnWdTl1psStzbzKkjE2Y2J1/6hJ+pGXIdMq/THIfv/XkYtZUxTbaimIJOq8FcgXh1CMH3gZLpE3+6sLJCe2oYNYafIVYFFkU7MvTrvrip4M59faOTSbw91vpbbxR1HpzyxkGwlrAHIcRClv17/yg9WbEuNalfAHRWpSllF6NfqItLTHT0rS4q11Z0KmECuRvyf9WTh/H4+mVum+i7Xq8t7UjLpp/Rc2MIAAlmITwOBczc8JrRi5IkkBAWSawK7Bp5M75OSlf6SOLC9M06Njn026juXuFqrP6Pp1St+hRWg6baZLYd82fLkiE0KRLHjcv6Jgm1uQeNKqhR4YRHXX0/mC4hgIt/J51BHW9PuYalyY0ZLi7FXi43/Y+j/SzN9bGpnkUQLt3+IhtRCOLUxMlse2wO1s0Y6F0bG+DB9rH4Xtbi2HwSE6tm9bv69KH8uQDvJTeJQ0PxnpMZ6AwqnGgwYjYje3VhkM9Ojp47i98ST30vTuQutmXxIR9v87ZyUkgauhpxOw+ei45w9tR2JlVHP5Ro5a5kw16zjehTLB63nhuYYF52JCO7vDaZU9xhVq2+RRwaCnfvnvUT9tRKofx0d/3Z4/8X4SoV6vwulCuTH2sThedBR/h+/1WZnfgDpXQd0lSbzMqpraha1BytWoOFgwdtvftSWZfitNFZn305PGq4U9xSx9PAXaxcdIxbr21inh5xpbOP05Ol1r7lKSu9WHVSQvWyHk1hxhvTp+Vp4duHuqZJF3CVzhKnIvr/R/9zh0eKGhK7xJ8FhRAOb85CBkAOFHMgBmJ0Ol7PL3UvS0KD5VuCVwwYEaPSaTE14sUhNkH/wVSqHGil219kF9HX2T9pCFOPR2JSqBXe88fj6aCfjth/8yViVVbc8/Oihl/i9uocoA7Bb6g7PxT0Zv/uNtKC+x/9e2Y6oybs5FpMPip+MY85XsUTWxgtKVCrNZ6O13nkXBhrNSRUa0hFq83ciDThaUQsr9ToWV5K5aTDCfv8CfAQVHkb0KaGDRpsqF/XhSlnAzC5H0qwCtzS+wOkoYSgncwYOov9/+TEodo4Fvg0p+Rr17Pnh7fww5McmESXor5n1u/pS42Uyk8hhGM+0/jxvgWq/INYv68nLir9zM8NpwdwffF8NjVbzcDC6f0JMqkUrkN6Ghybf8WcSv0xdbDT15F/zqYNJqh09uRL24mr01dMEBfPhuJYrzdzFveG08NpMOwUoUdXsvlaQ4blzws8JsEshPtBQElQ6f4l6JH+pjp3Pvss24sFafyeLBUFKFpAX7sqAQfZFJgAUYfx+1/yVlDbUmVx0CnoNEHce+JK9do1cDc7yqZNx7kRb42VBgg/wJyvTxGuUpG/ZmUKqXQ8vTKP6VsjUjh3HpzyxKOo4gh9oO8VUwqWobRW3/L457Gj3NZBwu2F9GzQgh5jluN3T8MnpfR9vkr4GQ79pkMhiDPH9WNI1SYuuKdmoihTffaWYBFCRBCQEEdcAnB7B7P7daTzwOUcDUnaPOTBQ33sDvbkT8VphMisIi6tYFTH7kw7boJbh3ls2DgezwIv1iZOR+zo+PJf/gKWaBN7BkzsnChUOCtX1x9RbCDHfdrQaehuAqxb4LViKyt6l8bmRQPYk0ts/6odzTv1Zuw3VwmJiuL+4R2cC8uBOt6ews7ZJMF6TzmpccWjqiUAyqMj7D72kMgnAfgd+ROA54WdKJpesacxhSgCdoyma8cZ7A1xofHo9Wxe1JySbzRYxvHzhYv6mSvzlqes5FjA+8tPIZaoyMSe05gggkL1+wTd04/sUTRRPJGurP/k3dchSLizk/nDmtGkyVDm/i+cqPAAdizdxW0TNSrbylRzTr/Y09KTE+Pp2LQF/YdPZ/mPdwgNCeTsuRuEqxLv803B3N2DskoCCdoADi09wLWgW1xevYaj8VpUCZaUql7qPWfJ3NJ0Cnc1dtTpUA+bX84RHn+Gpe2rsBSwdXACQl9up3PtQz+P/Uw5G8IvU5tSx1dL/OMoYlVw9ZkbNRtZ8seMCfhFaTExbcbn00ZgO6UuI45HcXn+LHbWnU0bh9fP7YxL6ZxwD+7/ep1w8mKjrk23PsXw8w0m+tJkWtWZT47YSOISQH36Fk9Hg0O7oXhuH86ekED29/PgRI5Yop6qUCkaCvftk6qp1R1KlMBGuU+4NoANPeqxT2uG+xR/vC4uYscvz4CbbPfrQf3uOdERyOXfwwAb8pQun0LvnBBZyM/etOl3KLGCDuHStpF03qZfZRZRmR7nl9Jv2WHavLKLEn+QsdW8OR7vSOOJe5laIz0Cz9x0BLLHqwUzr+YElQru+bHiCz9WJK7P1ehbTsy0weTfW0QoChHretBkXeJKEzWaYj3oXD29ok87hpTTyZkVqdB3NPWOT+VYZAC7Rv8fuxLXqxIsqdyrFVn7liLJTd+2dF0bCqhREcCPczvy41z9OhO7Qaz170kpQMc9bv39BLAhpmD2SULfx5Dyq9uiBkuvXCM8bDdjmuxGMQVVYsJvVqgZjculW/iZlyHXIW0Mt38L4pnJI/YMbcCexF3V8fZUGNEj28yKaVGmIoVU+7lpFsiBr1pz4JV1JiVa0bokKHRhSMut9N33hEdnJtP9TOIGKtAU86J/w6z9Loc0/3S56s3C98v6uNqZoslhR5mGk1g23OVla7Q+KCdazN2OT5fKlMqn40lkLCYFXajqOQnfb5qT99hE5hxVo1I0FO3RB08LG2p90V3/fJbuCMumHObBG2fWULFpfWwUhdhfd7MvVL+sYK9NbJzoSa1PbLB5HoGS055iNbszbuMM2tkBlg35at1ShjZxxclKITLOmtzFPPD8cj3L+6fyfSc1xzOlZ2WK2+hzW9M8bpTInUCBem341NoETe4G1K2hbxFW397Lvr8tMYl1oX6r7NT3LLKtiAieIeNi014cEU/f/SyBCmfaLN6GT5fKuDqYgokG8wL6OvnbNVn7PSdJ3l9OAORry6x18/BqWhqn3GYoGg25i3nQftI6vu6YfV4sHxf52MAtI4kK1c/MZmZuRe6PF1KmYkj52bRdyrczO9KwnAOWuRRUigZLOxeqtB7LwvU9ccsWf5dGZsh1yKELs1dOpFftYthbmaGYWeHgWp/OPutY2DL7/I1j34ZZm5LqOkz0378X14VS6Cewc5u4ieV9PSjllAuNCZjmdqZCy7HZ4tqhUhTljcdwAwMDcXbOev2dCoFs7dmSeVe0ONT2ZdO8N6d6zwgUAjno1Z7JF8Gm6jx2+NbOkHEK8TpD6g6FKI4MKY332bwU6rI76WXERvbiZcSW9b7luE/Fj3KOjC6r1uXGJuVkOCkrwxlSVgmcZnaVfuyNKUjDlT++fBmxMelevozYnirjz+DbOmv3HqREvruGk7JKnZTKK1v9palwptPMsdSwjufRMW8Gr72T3iG9RRw3ffsz61dQ5W7FmOmSYIms686mVri7u+O55O77NzbQxWnlcHd3x2tvNnl/kxAi09OZheA/wJ0qZVsy9aKRjkkAaz1LUtm9K773rIxzUCGEwdL0mawMwbELC5fH8dXUv3FvkMrhfmlCQ7HGraj667/UnzaehpJhiSzILHcJbB301Y9KpyWvtfESIkubIjjljeWZSn9sCzuZDEMIkVFpsHcqiG1s4uttFHtsTYxzZBUaLPMUxjZe356u0mmxeOf7OYUQxpSthgsKIT4uqTsyFvl9GEbKyXBSVoaTsspY5PdhOCmr1JHhgkIIIYQQQgiRBiTJEkIIIYQQQggjkiRLCCGEEEIIIYxIkiwhhBBCCCGEMCJJsoQQQgghhBDCiCTJEkIIIYQQQggjkiRLCCGEEEIIIYxIkiwhhBBCCCGEMCJJsoQQQgghhBDCiCTJEkIIIYQQQggjkiRLCCGEEEIIIYxIpSiK8vrCwMDA9IhFCCGEEEIIITIVZ2fnN5aZpmZjIYR4l8DAQKk7MhD5fRhGyslwUlaGk7LKWOT3YTgpq9RJqXNKhgsKIYQQQgghhBFJkiWEEEIIIYQQRiRJlhBCCCGEEEIYkSRZQgghhBBCCGFEkmQJIYQQQgghhBFJkiWEEEIIIYQQRiRJlhBCCCGEEEIYkSRZQgghhBBCCGFEkmQJIYQQQgghhBFJkiWEEEIIIYQQRiRJlhBCCCGEEEIY0cdNsp4dZnqjGnRecuejnibrieOkd0kaTfs7vQMR4iOI49SXJXF3d8fd3R237gcI/8AjKoSw/4siL49ZccBhYo0SqxBCfDwJnObrWq4v6y7PJXcN2OcwkyqWeblPr1URaRCpECK1/nOSpeMSKz775OUfubu7O1Ubd2XkwnPc1r04uhV2TgWws9N+UJAKUfy57gs6dNvMdeD5wd7JzvtptXq0+XwG31+O/qDzGCryZx+GNh3N+tDX18RxbpIb9YadfOsNXvTurtSus5xLShoEKUQGV7LbVvz9/Tni2xibVO6r/LmAnlUqUMlLn0ypsKfJvF/w9/dn8xdOHyPc7C3iJ7ZN60vLhtVwr1KdRu3GMP/ow/SOKsOJ/HUF43o0oF71T6lWtz1eU/ZzI20uS5lP9HW+H1kTjxZruZ7esaQzVcInNJ1/BH9/f9Z7FQRA0QVybMEAOjaoqr/H6fs1ewITADChIV8eOon/oX1MqiJfsLQVwh/f9qKx6wDWSm77brGB/DCvDx0bVMW9SnUadB7LsjMf2qSauZh+0N5KDioM2cr46iYo6jgeB55m67whDHq2hf3exUFbhf7fbfvgIFW3VzFzV0G6TWmKc+KyHLYdGbeiHa4JOmJjg7i2fxHLek0B/zm0s/vgU6ZIx3nWTb9KvmETaGr5+loN1TybYdHDjz1Pa9Mh16v7BfHjnt+wazkLN9XHi0+IzCIhpxV2dv/hjzX2PEvGnsSiTjEIS1psZmGPnQWY5DQzXpAChUus/dyLTRZ9GD59CCVyPePmocUsHDUFqwNL6SM5rd6t5QwdtBM6jGHWmMJYPDzJdwum0m+cFbsW1k51Q0KWFRPE+b3fsmbVCYKtzFFLlzMAFtY2vKgOFaI4P6Ez3lcbMXj6BmrYh/H7xunM6x6J+sBUPrMBC3s7chGFVqt794GFUShEEXRsC6tXr+foEztyIhXfuyhEcX5qZyZfbcQXE4YxxSGawP0+zBsxiNiNGxlWMr0jTBsflGSplJxY2hanSHH9z0WdP6FU1AmaLPDjnPcQqhDAes/2/NL9Er6t1egIYH2LodzqMwjrH9bgf+MBEapiVG03gjH9KpLvxYEfHWLlnKXs/OUuEao8FLDVYd7qe5q7WQPwHFBjT9GihSmiPzPFS5tx71Q/DvlPpl3nnChEcWvvIuZtPMTFoOeYObjRpM0I+nct/vJi99u0yky0mkGf0HWsOfc3j+Kt+aRSH0ZNaEsZK/02ii6QHxfMZN0PV/jrqTmOjmZE5B3F4cbFeVv/nK5Ce5oX6seRvc/o0Dnny+Xq+/s58HsV6s4sCMQRfMCHmesO8dvt55jmK0XNLt5M6PD2Y4J+SMGC2hN5NPU4PrWTll+dWYk+j5dw7uuq+niJ4vYuH77ecpKLQc+xyF+ZBr1GMLR5oRSPLURmoRDCTzPG4l9lHgttvOkc9v59xIcqRoNR31DJtebLerF4mR6c3zybO7dA7jX0rm5bzd1Pv2bHsMSEyrUkX3ONJgP8OJpQmzYm6R1hBqFc46djJnw6Yj3zlak0XZjeAWU8qrub+PZAAVpumUpXV/2ywpN9CLvSnjUb+vLZ4ILpG2A2pBDJ1aOXMGs0l80NbjCr0bn0DilDU0XuY9vBonTaPpXeiQlVCRcfIn7+jO0H7zKsZPb4Dhv9mSyzXBrUz+JS3sDkHw7O3EaE5yL2HjvHseXNMNsxlAkb9f2uOgL4bsAo/FR9mP/9SY5snkKHAs+4+8MRbr3jvCqs0ZjoiNHpzx2+YwB95wRToPcyduzYwdJBzjxY1Zuhax693EchhgdrZ7LFbhBLDp7j3J7ZNH7sw5CJJxOfEYnjt9mdmPyTCz2X/8DxQ6uYVNcW7ZUj+KfQ46nGjSafWfGHnx8PXll+d89OAkq1pp0TxJ0ZS9/p/5Cn+zI27NrEMi87rvsMZ8rPH94iFb5jAJ8vCqVYnzXs2LaJhb3zcG3WQL468eyDjy1EenvsN4W5f/Rg5siK5FCkBTctqLCkYNWkBIv4SG4f2M9F07p4lE/X0DKU0j2WMKl/jeQ9VrY2aJ9BXHx6RZUB5WzI0BUT8WpaGK0iY+ffJvrSGW5a16JZqaRlalxoUMeKR2d//+BnWEXqqXGi8YyljOtRjQJmcu15H8XqMwYvHkvHV3qsVFhhkVtHfEz26b42apL15MFhVm28iKqWBxXfsZ1VS28mN9H3rOQs0RmvJnDp1AViAfXjc/x8vQw1BzTHNa8FuRyr0PbzBlj8cYFfE1I44PMQbuxcxv5gd6pXs0bHJTauvkmRIbMY27Q0jo6OlK4/ipmjS3B/9XqStT8U8mL20KoU0gA2bnTqWQOz02e4COgI5I8Lz3BrMZAmxXNjZelMxUG9qR7/C79cTfnzFWrRmtJXDvJ9kP5nHZf44WAUFdvUJx+gqdiXEQunM6lFaZwLFMWl+VA6uwVy60KIwWX9Ni8+d6nB8xjeuDiOBYvi+n/j+aptOOe3XJCJAETGlhBHVFRUsn/xr35pgzcxbX48Leb1pLyMCDSu95V9oodrmuNerR7tvn5OY98RNLJI+1DT1bvKKV9VapZ+dXBIHH+dPktohcpUy5Eewaa/55HJyyrqSXpHlDmE3H9EfH4n8r32aIG9Q2FMQu5xP33Cyjbio5N/b59EvqPjILuLj3yjrOIS9I1zzrXKJ41QA1RPT3L6cn4+8XBO8XBZzQcNF1TUYZya7I77ZP3PKkVDoaqj8ZlcFS3w9lw/B0WLl0q2xNLWGpOYWJ4BZraulMq/iJPbLtJ1TEXyKkGc2HWKx8W74frKcIuEUF+6ufu+/FljWZ7G02bSvxgQeZV/7rlQvqZ1svPkqupBifDzXH4E1fImFkCJoolDDhPZ2aCNiSEGUOFEURcTvjuyhyuenShjFceD3fu4qCtLO5eUy0WXvwWtqyxm1a67DB5cEPXv+zh8ryFdmyQOHzQvRb2qUTy8cprzV/7gxrWf+d81LYrbh6VB6sirBD6I5tz8+lSf/8qKhDhiioYQBsm+8EJkJNH7elN3RkCyZbbN13FocmkU5Tpbx6wjvv/39CqWTgFmYe8q+1fZeS5mU/UQHv68hUVDx5F720K6FEjLSNOXoeUEEPPHAmZusqTx4lbJrzHZxd3l9PVcwWVV0oVbnXck2/06Zc/yMBL182yasaeRBM6zvGVP1oUlPVSvCfWg75WF9Mr1jh2zqZ8mVGTQkaT+e1WCJTVmHWdhk+TbKQRxePJ8fivlzbc1s8/bo4w38YWJFitbR+ys379bjnecVU0Veo3z4MdRfWm2R4vGBMyLtWbUkp68mpqp7DoyNXHiC11Oa5ycbP/TM0c51Jo3lyWOYFBhSe3ho3BrP5tedZdgpgVd7iq0XzCJ7u94Xl+NE3VbVmPRgoP8NrgP7DvAoyaLafKi1TfsMHO/mIzfs/J8Wr0s5Su0pvbtPzjxH+KPTUiemKliXOmwYiHd8iXv9lNy5pEES2Ro5rWn8F2Rp8mWmdnrxxqoTi7B99pjdHeaUm2xfp3qeRzK80nUqTWTcr33sKKnAZWPeKt3lf2rTG2d+cTWmRIuToQcacSOvY/oMjBvWoWZ7gwtp8iffRg96jS5R69mQqXsc0ORTP62jFtVnZhXFuksCpA/3QLKPOzz58XsfhAPFJL1ZoU8vE18Pnspw4/IhAq0X7iVOnGvFLzakkKS275Vuf47+K5D8jou92sdVYoukEPjvJh9qxs+a5pnq0YWo058YQw6Atix5C9Kzz3G3kpqorWWWL0le0o+8cVrx7AqTdECvvx+OgI6Jt14Pf3pDH/ZlKKrwfcEcVxcvZLgRps5MqYQJtFaLKzeTMrexrxha6pPW83ev0phecgOj3lVXyaBd76fyx7dILbs7URhtX5Y4rad7xu0r0FrFkZ0qI4Xozx1BHLjSjQUfOVzF/HlzztW5K+cNOmGLvhvQuxkfJXI4GyLUdY2hXU1ZvP9/uRjjR5s7Ez/PwazcW41rK0kwfog7yj7J0fG47W4IGN29ntlmGYUkREmaLXZbDqdd31HSZx4aOt4Rix/gvvUjYyrnY3nFDS1p0QF+/SOIlMyd/egeMQR/K4PwS1x4gsdARw5EUne2uVlpsqPSoND6fI4pHcYmYR5YTfKFn7HBo8OsXjkLE5bjWDxuhaUNU+z0DKEDNjEdpd/gk2IjYkgQgfq6NSPh1XjRtueJfhnmTfzj94k6N9gbp5ezLj5f+HQtz3VDDyOQiTBtx/xTIniSbgKEmKJiooy6NkmlVlDPBve43ef9ZxQt6RdpaR1mhwaeBrIb/+E8fhBAGeXT2f1dQ26sH8JeQqgwcpMS/TdS/x9P5igx6DGlXLuKi5s8+XHGw8IvvM7J+dNYN39PG987utLRrLA/ybBwcHcPLWSMb17Mn6zvNBBZGJmVjg6Oib7l8fSDJ25FQXyO2Ivwzg+GgvXYuQJX4P30LUc+PkGfwZcwH/uV2x6UI96n0ly+1L0dfZ5t6b3BhtazZ1Er6LR3L8TzP07wUTKA7EiFZT8XfBqfo+94yay8ae/+OfmBfbNGM2aB5707pY9ZmUTmd+/p334ovNcLpebzLSx7tiH6OvD4IfZ5+HMDxsu+BGoqEC9umGMnNSaxq8s11p60GnePAZVNGwe3HwdvuEbtQ++y3vT/rZ+CvdaPZYxpVuhVMRiT8VG7sTMHEjLPUldx4rWiWqDl+Db8V3H0lChTXPieu1F221ysndj5Ws/nWE3ZrC2TzNmmxbEvW4fpk3Ni8/sgfQy28B+7+JUaD+QiiPm0LFlfprN3cuU2pbU9l7GkBmzWNRzHRFmBSheqw/jeqxl4rXkn9tXM5dvVvWm7Z1oNPblqdxhOXO7ys2QEOI/cOzNgg15WbViAyvHreDek5wUca1Pt5XD6ZZ9Rgq+V8LhuUw7HAb4sai/H4sSl6vj7amz+Mdkr94Q4l1UWFJl2mZmz5/Biq+6seCpOUXKNGPk+uF8Jt1YIhPQcYndM1fza7glbBtJt1demasq6M3+3W2yxSMsKkV5cw7VwMBAnJ3TZ/aPuJMDabKgLHM29KPSi5f9Pg/hok9bhgRP4ahv7bR731PkJobXP02J7d8woOiL5C6OUL+R9JxRmHH/G2Vwr5gQ2YFhdUccp74swzclzrDNy/h36eEb21Lv7BecW9ow278bLj3r8sxEyslwUlaGM6SsEjjNwhrzeb50N2NS+UoEhSgOj6jEFtfzfNdHGlLfR767hpOySp2UyivDDRdUKVpUEQH88utf3At/QlR4KLcvn+bwZTX5Kzin+U2TYnqPq2d/5++HT4h6EkrwrQucOXuLZ2VdKJrGsQghhBBCCCEyvgw3XNC0zhS++dcHX98BbLgbRqzaCttC5ajWfAkr03osslUXpi18wrwVE+jz7QOiYrTkyuNMJQ8vFo5uni26OoX4WP5e7Un1tWBaegr7Vjb8oIe5FUI4MrgRk37NAQlx8KmxohRCiI9LMfmT7f2rs0/RUqDXtvf28CdwmNnVx3IQLSRY8IlrGgUqhEiVDDdcUAiReRladzwPDeLfp/oHFZWceXDM8+GzX36MY2Z2UpcbRsrJcFJWhjN0+HR00L9EJOjrLo21Ia/CiSMsKISYxDe1mNnJ5D+GkO+u4aSsUiel8spwPVlCiKzP1M6J/O9411xGOaYQQnxcGsydnEjdzNYacjs5fqR4hBDGkuGeyRJCCCGEEEKIzEySLCGEEEIIIYQwIkmyhBBCCCGEEMKIJMkSQgghhBBCCCOSJEsIIYQQQgghjEiSLCGEEEIIIYQwIkmyhBBCCCGEEMKIJMkSQgghhBBCCCOSJEsIIYQQQgghjEilKIry+sLAwMD0iEUIIYQQQgghMhVnZ+c3lr01yRJCCCGEEEII8d/IcEEhhBBCCCGEMCJJsoQQQgghhBDCiCTJEkIIIYQQQggjkiRLCCGEEEIIIYxIkiwhhBBCCCGEMCJJsoQQQgghhBDCiCTJEkIIIYQQQggjkiRLCCGEEEIIIYxIkiwhhBBCCCGEMKL/B9zmmckmE32UAAAAAElFTkSuQmCC)"
   ]
  },
  {
   "cell_type": "markdown",
   "metadata": {
    "id": "ahAQPROvs8CF"
   },
   "source": [
    "Implemente una función pingpong que devuelva el enésimo elemento de la secuencia de ping-pong sin usar ninguna instrucción de asignación. (Se le permite usar definiciones de funciones).\n",
    "\n",
    "Puede usar la función num_eights, que definió en la pregunta anterior.\n",
    "\n",
    "Importante: use recursión!"
   ]
  },
  {
   "cell_type": "code",
   "execution_count": 97,
   "metadata": {
    "id": "vFcCDSAstFlT"
   },
   "outputs": [],
   "source": [
    "def pingpong(n):\n",
    "    \"\"\"Return the nth element of the ping-pong sequence.\n",
    "\n",
    "    >>> pingpong(8)\n",
    "    8\n",
    "    >>> pingpong(10)\n",
    "    6\n",
    "    >>> pingpong(15)\n",
    "    1\n",
    "    >>> pingpong(21)\n",
    "    -1\n",
    "    >>> pingpong(22)\n",
    "    -2\n",
    "    >>> pingpong(30)\n",
    "    -2\n",
    "    >>> pingpong(68)\n",
    "    0\n",
    "    >>> pingpong(69)\n",
    "    -1\n",
    "    >>> pingpong(80)\n",
    "    0\n",
    "    >>> pingpong(81)\n",
    "    1\n",
    "    >>> pingpong(82)\n",
    "    0\n",
    "    >>> pingpong(100)\n",
    "    -6\n",
    "    >>> from construct_check import check\n",
    "    >>> # ban assignment statements\n",
    "    >>> check(HW_SOURCE_FILE, 'pingpong',\n",
    "    ...       ['Assign', 'AnnAssign', 'AugAssign', 'NamedExpr'])\n",
    "    True\n",
    "    \"\"\"\n",
    "    if(n<=8): return n\n",
    "    elif(num_eights(n) or n%8==0): return ( pingpong(n-1)  + (-1**num_eights(n)) ) * (-1**num_eights(n))\n",
    "    else: return pingpong(n-1) -1**num_eights(n)\n"
   ]
  },
  {
   "cell_type": "markdown",
   "metadata": {
    "id": "Hzc8MMD1tJNo"
   },
   "source": [
    "**Pregunta 3:**Dígitos faltantes\n",
    "\n",
    "Escriba la función recursiva missing_digits que toma un número n que está ordenado en orden no decreciente (por ejemplo, 12289 es válido pero 15362 y 98764 no lo son). Devuelve el número de dígitos que faltan en n. Un dígito faltante es un número entre el primero y el último dígito de n de a que no está en n.\n",
    "\n",
    "Importante: Utilice la recursividad; las pruebas fallarán si usa algún bucle."
   ]
  },
  {
   "cell_type": "code",
   "execution_count": 98,
   "metadata": {
    "colab": {
     "base_uri": "https://localhost:8080/",
     "height": 367
    },
    "id": "F9psi5WysadE",
    "outputId": "93fcfe76-7e34-4677-c171-57976f643ae9"
   },
   "outputs": [],
   "source": [
    "def missing_digits(n):\n",
    "    \"\"\"Given a number a that is in sorted, non-decreasing order,\n",
    "    return the number of missing digits in n. A missing digit is\n",
    "    a number between the first and last digit of a that is not in n.\n",
    "    >>> missing_digits(1248) # 3, 5, 6, 7\n",
    "    4\n",
    "    >>> missing_digits(19) # 2, 3, 4, 5, 6, 7, 8\n",
    "    7\n",
    "    >>> missing_digits(1122) # No missing numbers\n",
    "    0\n",
    "    >>> missing_digits(123456) # No missing numbers\n",
    "    0\n",
    "    >>> missing_digits(3558) # 4, 6, 7\n",
    "    3\n",
    "    >>> missing_digits(35578) # 4, 6\n",
    "    2\n",
    "    >>> missing_digits(12456) # 3\n",
    "    1\n",
    "    >>> missing_digits(16789) # 2, 3, 4, 5\n",
    "    4\n",
    "    >>> missing_digits(4) # No missing numbers between 4 and 4\n",
    "    0\n",
    "    >>> from construct_check import check\n",
    "    >>> # ban while or for loops\n",
    "    >>> check(HW_SOURCE_FILE, 'missing_digits', ['While', 'For'])\n",
    "    True\n",
    "    \"\"\"\n",
    "    if n < 10:\n",
    "        return 0\n",
    "    elif ((n//10)%10) + 1 == n%10 or ((n//10)%10)  == n%10:\n",
    "        return (missing_digits(n//10)) + 0\n",
    "    elif ((n//10)%10) + 1 < n%10:\n",
    "        return missing_digits(n-1) + 1\n",
    "    return 0\n"
   ]
  },
  {
   "cell_type": "markdown",
   "metadata": {
    "id": "NkX-0W7jtbXa"
   },
   "source": [
    "**Pregunta 4:**\n",
    "\n",
    "Un cambio (o vueltas) es un entero positivo que es un conjunto de monedas a dar por cambio si la suma de los valores de las monedas es corresponde. Aquí usaremos valores estándar de monedas de EE. UU.: 1, 5, 10, 25. Por ejemplo, los siguientes conjuntos dan cambio por 15:\n",
    "\n",
    "+ 15 monedas de 1 centavo\n",
    "+ 10 monedas de 1 centavo, 1 de 5 centavos\n",
    "+ 5 monedas de 1 centavo, 2 de 5 centavos\n",
    "+ 5 monedas de 1 centavo, 1 de 10 centavos\n",
    "+ 3 monedas de 5 centavos\n",
    "+ 1 moneda de 5 centavos, 1 de 10 centavos\n",
    "\n",
    "Por lo tanto, hay 6 formas de dar cambio por 15. Escriba una función recursiva `count_coins` que tome un entero positivo y devuelva el número de formas de dar cambio por cambio usando monedas de EE. UU.\n",
    "\n",
    "Puede usar cualquiera de las funciones que se le han dado a continuación:\n",
    "\n",
    "+ `ascending_coin` devolverá la siguiente denominación de moneda más grande de la entrada, es decir, moneda_ascendente(5) es 10.\n",
    "+ `descending_coin` devolverá la siguiente denominación de moneda más pequeña de la entrada, es decir, descending_coin(5) es 1.\n",
    "\n",
    "Hay dos formas principales en las que puede abordar este problema. Una forma usa moneda_ascendente y otra usa moneda_descendente.\n",
    "\n",
    "Importante: Utilice la recursividad; las pruebas fallarán si usa bucles."
   ]
  },
  {
   "cell_type": "code",
   "execution_count": 99,
   "metadata": {
    "id": "eYNhu86LreTk"
   },
   "outputs": [],
   "source": [
    "def ascending_coin(coin):\n",
    "    \"\"\"Returns the next ascending coin in order.\n",
    "    >>> ascending_coin(1)\n",
    "    5\n",
    "    >>> ascending_coin(5)\n",
    "    10\n",
    "    >>> ascending_coin(10)\n",
    "    25\n",
    "    >>> ascending_coin(2) # Other values return None\n",
    "    \"\"\"\n",
    "    if coin == 1:\n",
    "        return 5\n",
    "    elif coin == 5:\n",
    "        return 10\n",
    "    elif coin == 10:\n",
    "        return 25\n",
    "\n",
    "def descending_coin(coin):\n",
    "    \"\"\"Returns the next descending coin in order.\n",
    "    >>> descending_coin(25)\n",
    "    10\n",
    "    >>> descending_coin(10)\n",
    "    5\n",
    "    >>> descending_coin(5)\n",
    "    1\n",
    "    >>> descending_coin(2) # Other values return None\n",
    "    \"\"\"\n",
    "    if coin == 25:\n",
    "        return 10\n",
    "    elif coin == 10:\n",
    "        return 5\n",
    "    elif coin == 5:\n",
    "        return 1\n",
    "\n",
    "def count_coins(change):\n",
    "    \"\"\"Return the number of ways to make change using coins of value of 1, 5, 10, 25.\n",
    "    >>> count_coins(15)\n",
    "    6\n",
    "    >>> count_coins(10)\n",
    "    4\n",
    "    >>> count_coins(20)\n",
    "    9\n",
    "    >>> count_coins(100) # How many ways to make change for a dollar?\n",
    "    242\n",
    "    >>> count_coins(200)\n",
    "    1463\n",
    "    >>> from construct_check import check\n",
    "    >>> # ban iteration\n",
    "    >>> check(HW_SOURCE_FILE, 'count_coins', ['While', 'For'])\n",
    "    True\n",
    "    \"\"\"\n",
    "    def cambio(change, valor = 1):\n",
    "        \n",
    "        if change == 0: return 1 \n",
    "        elif change < 0: return 0\n",
    "        elif valor == 25: return cambio(change-valor, valor) \n",
    "        else:\n",
    "            return cambio(change, ascending_coin(valor)) + cambio(change-valor, valor)\n",
    "    return cambio(change)"
   ]
  },
  {
   "cell_type": "code",
   "execution_count": null,
   "metadata": {},
   "outputs": [],
   "source": []
  }
 ],
 "metadata": {
  "colab": {
   "collapsed_sections": [],
   "provenance": []
  },
  "kernelspec": {
   "display_name": "Python 3 (ipykernel)",
   "language": "python",
   "name": "python3"
  },
  "language_info": {
   "codemirror_mode": {
    "name": "ipython",
    "version": 3
   },
   "file_extension": ".py",
   "mimetype": "text/x-python",
   "name": "python",
   "nbconvert_exporter": "python",
   "pygments_lexer": "ipython3",
   "version": "3.9.7"
  }
 },
 "nbformat": 4,
 "nbformat_minor": 1
}
