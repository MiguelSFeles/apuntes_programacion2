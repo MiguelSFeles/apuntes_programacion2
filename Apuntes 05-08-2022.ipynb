{
 "cells": [
  {
   "cell_type": "markdown",
   "id": "8f09dd01",
   "metadata": {},
   "source": [
    "# Miguel Feles - Apuntes 05/08/2022"
   ]
  },
  {
   "cell_type": "markdown",
   "id": "e16b5559",
   "metadata": {},
   "source": [
    "# def square_it(x):\n",
    "    x*x       \n",
    "    \n",
    "square_it(4)+4 # retorna error\n",
    "\n",
    "#Si no retorna nada retorna error"
   ]
  },
  {
   "cell_type": "markdown",
   "id": "bc1088db",
   "metadata": {},
   "source": [
    "## EFECTOS SECUNDARIOS (Side Effects)"
   ]
  },
  {
   "cell_type": "code",
   "execution_count": 28,
   "id": "dcbe6057",
   "metadata": {},
   "outputs": [
    {
     "name": "stdout",
     "output_type": "stream",
     "text": [
      "4\n"
     ]
    }
   ],
   "source": [
    "def square_n1(n):\n",
    "    return pow(n,2)\n",
    "\n",
    "def square_n2(n):\n",
    "    print(n ** 2) #no va a retornar\n",
    "\n",
    "x = square_n1(2) # x=4\n",
    "y = square_n2(2) #4 y = none   \n",
    "\n",
    "# Una función es pura si no tiene efectos secundarios.\n",
    "\n",
    "# Ejemplo efectos secundarios:\n",
    "    # abs(-2)\n",
    "    #pow(2,10)\n",
    "    #print(-2) #Tiene efectos secundarios porque imprime o muestra el ejercicio"
   ]
  },
  {
   "cell_type": "markdown",
   "id": "f4c35ac5",
   "metadata": {},
   "source": [
    "## Arugmentos por defecto"
   ]
  },
  {
   "cell_type": "code",
   "execution_count": 29,
   "id": "406c59e0",
   "metadata": {},
   "outputs": [
    {
     "name": "stdout",
     "output_type": "stream",
     "text": [
      "21\n"
     ]
    },
    {
     "data": {
      "text/plain": [
       "18"
      ]
     },
     "execution_count": 29,
     "metadata": {},
     "output_type": "execute_result"
    }
   ],
   "source": [
    "def calculate_dog_age(human_years, multiplier = 7):\n",
    "    return human_years * multiplier\n",
    "\n",
    "print(calculate_dog_age(3))\n",
    "calculate_dog_age(3,7)\n",
    "calculate_dog_age(3,6)"
   ]
  },
  {
   "cell_type": "code",
   "execution_count": 30,
   "id": "56c51907",
   "metadata": {},
   "outputs": [
    {
     "name": "stdout",
     "output_type": "stream",
     "text": [
      "**********************************************************************\n",
      "File \"__main__\", line 5, in __main__.divide_exact\n",
      "Failed example:\n",
      "    q \n",
      "Expected:\n",
      "    201\n",
      "Got:\n",
      "    202\n",
      "**********************************************************************\n",
      "File \"__main__\", line 7, in __main__.divide_exact\n",
      "Failed example:\n",
      "    r\n",
      "Expected:\n",
      "    1 \n",
      "Got:\n",
      "    1\n",
      "**********************************************************************\n",
      "1 items had failures:\n",
      "   2 of   3 in __main__.divide_exact\n",
      "***Test Failed*** 2 failures.\n"
     ]
    },
    {
     "data": {
      "text/plain": [
       "TestResults(failed=2, attempted=3)"
      ]
     },
     "execution_count": 30,
     "metadata": {},
     "output_type": "execute_result"
    }
   ],
   "source": [
    "def divide_exact(n,d):\n",
    "    \"\"\" esta función calcula el cociente y el residuo\n",
    "    \n",
    "    >>> q, r = divide_exact(2021,10)\n",
    "    >>> q \n",
    "    201\n",
    "    >>> r\n",
    "    1 \n",
    "    \"\"\"\n",
    "    quotient = n//d\n",
    "    remainder = n%d \n",
    "\n",
    "    return quotient, remainder\n",
    "import doctest\n",
    "doctest.testmod()"
   ]
  }
 ],
 "metadata": {
  "kernelspec": {
   "display_name": "Python 3",
   "language": "python",
   "name": "python3"
  },
  "language_info": {
   "codemirror_mode": {
    "name": "ipython",
    "version": 3
   },
   "file_extension": ".py",
   "mimetype": "text/x-python",
   "name": "python",
   "nbconvert_exporter": "python",
   "pygments_lexer": "ipython3",
   "version": "3.7.11"
  }
 },
 "nbformat": 4,
 "nbformat_minor": 5
}
