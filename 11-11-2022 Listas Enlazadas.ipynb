{
 "cells": [
  {
   "cell_type": "markdown",
   "id": "6200830c",
   "metadata": {},
   "source": [
    "# Miguel Santiago Feles Gómez\n",
    "# 11 de Noviembre de 2022\n",
    "# Listas Enlazadas"
   ]
  },
  {
   "cell_type": "code",
   "execution_count": 4,
   "id": "6e9c1ae6",
   "metadata": {},
   "outputs": [],
   "source": [
    " empty = 'empty'\n",
    "\n",
    "def is_link(s):\n",
    "        \"\"\"Verifica si s es una lista enlazada\"\"\"\n",
    "        return s == empty or (len(s) == 2 and is_link(s[1]))\n",
    "def link(first, rest):\n",
    "        \"\"\"Construye una lista\"\"\"\n",
    "        assert is_link(rest), \"rest debe ser una lista enlazada.\"\n",
    "        return [first, rest]\n",
    "def first(s):\n",
    "        \"\"\"Devuelve el primer eleento de una lista no vacia\"\"\"\n",
    "        assert is_link(s), \"first only applies to linked lists.\"\n",
    "        assert s != empty, \"empty linked list has no first element.\"\n",
    "        return s[0]\n",
    "def rest(s):\n",
    "        \"\"\"Devuelve el resto de una lista\"\"\"\n",
    "        assert is_link(s), \"rest only applies to linked lists.\"\n",
    "        assert s != empty, \"empty linked list has no rest.\"\n",
    "        return s[1]"
   ]
  },
  {
   "cell_type": "code",
   "execution_count": 5,
   "id": "86631d97",
   "metadata": {},
   "outputs": [
    {
     "data": {
      "text/plain": [
       "True"
      ]
     },
     "execution_count": 5,
     "metadata": {},
     "output_type": "execute_result"
    }
   ],
   "source": [
    "l = [1,\"empty\"]\n",
    "l2 = [2, l]\n",
    "is_link(l2)\n"
   ]
  },
  {
   "cell_type": "code",
   "execution_count": 9,
   "id": "4c6bac40",
   "metadata": {},
   "outputs": [
    {
     "data": {
      "text/plain": [
       "True"
      ]
     },
     "execution_count": 9,
     "metadata": {},
     "output_type": "execute_result"
    }
   ],
   "source": [
    "cuatro = link(1, link(2, link(3, link(4, empty))))\n",
    "is_link(cuatro)"
   ]
  },
  {
   "cell_type": "code",
   "execution_count": 11,
   "id": "073eeeb9",
   "metadata": {},
   "outputs": [],
   "source": [
    "def len_link(s):\n",
    "        \"\"\"Devuelve la longitud de la lista enlazada s\"\"\"\n",
    "        length = 0\n",
    "        while s != empty:\n",
    "            s, length = rest(s), length + 1\n",
    "        return length"
   ]
  },
  {
   "cell_type": "code",
   "execution_count": 12,
   "id": "94798663",
   "metadata": {},
   "outputs": [
    {
     "data": {
      "text/plain": [
       "4"
      ]
     },
     "execution_count": 12,
     "metadata": {},
     "output_type": "execute_result"
    }
   ],
   "source": [
    "len_link(cuatro)"
   ]
  },
  {
   "cell_type": "code",
   "execution_count": 10,
   "id": "b5ad8b13",
   "metadata": {},
   "outputs": [
    {
     "data": {
      "text/plain": [
       "3"
      ]
     },
     "execution_count": 10,
     "metadata": {},
     "output_type": "execute_result"
    }
   ],
   "source": [
    "def getitem_link(s, i):\n",
    "        \"\"\"Devuelde el elmento de s con índice i\"\"\"\n",
    "        while i > 0:\n",
    "            s, i = rest(s), i - 1\n",
    "        return first(s)\n",
    "getitem_link(cuatro, 2)"
   ]
  },
  {
   "cell_type": "code",
   "execution_count": 13,
   "id": "23667610",
   "metadata": {},
   "outputs": [],
   "source": [
    "def len_link_recursive(s):\n",
    "        if s == empty:\n",
    "            return 0\n",
    "        return 1 + len_link_recursive(rest(s))\n",
    "def getitem_link_recursive(s, i):\n",
    "        if i == 0:\n",
    "            return first(s)\n",
    "        return getitem_link_recursive(rest(s), i - 1)"
   ]
  },
  {
   "cell_type": "code",
   "execution_count": 14,
   "id": "980937ce",
   "metadata": {},
   "outputs": [
    {
     "data": {
      "text/plain": [
       "4"
      ]
     },
     "execution_count": 14,
     "metadata": {},
     "output_type": "execute_result"
    }
   ],
   "source": [
    "len_link_recursive(cuatro)"
   ]
  },
  {
   "cell_type": "code",
   "execution_count": 15,
   "id": "2f74ef1d",
   "metadata": {},
   "outputs": [
    {
     "data": {
      "text/plain": [
       "3"
      ]
     },
     "execution_count": 15,
     "metadata": {},
     "output_type": "execute_result"
    }
   ],
   "source": [
    "getitem_link_recursive(cuatro, 2)"
   ]
  },
  {
   "cell_type": "code",
   "execution_count": 3,
   "id": "788a70f0",
   "metadata": {},
   "outputs": [],
   "source": [
    "def keep_if_link(f,x):\n",
    "    \"\"\"Retorna una lisda de elementos de s para los cuales f(e) es verdadera.\"\"\"\n",
    "    assert is_link(s)\n",
    "    if s == empty:\n",
    "        return s\n",
    "    else:\n",
    "        kept = keep_if_link(f, rest(s))\n",
    "        if f(first(s)):\n",
    "            return link(first(s), kept)\n",
    "        else:\n",
    "            return kept"
   ]
  },
  {
   "cell_type": "code",
   "execution_count": 17,
   "id": "474b7500",
   "metadata": {},
   "outputs": [],
   "source": [
    "def join_link(s, separator):\n",
    "        \"\"\"Devuelve una cadena de todos los elementos en s separados por un separador.\"\"\"\n",
    "        if s == empty:\n",
    "            return \"\"\n",
    "        elif rest(s) == empty:\n",
    "            return str(first(s))\n",
    "        else:\n",
    "            return str(first(s)) + separator + join_link(rest(s), separator)"
   ]
  },
  {
   "cell_type": "code",
   "execution_count": 18,
   "id": "74520585",
   "metadata": {},
   "outputs": [
    {
     "data": {
      "text/plain": [
       "'1~2~3~4'"
      ]
     },
     "execution_count": 18,
     "metadata": {},
     "output_type": "execute_result"
    }
   ],
   "source": [
    "join_link(cuatro, \"~\")"
   ]
  },
  {
   "cell_type": "markdown",
   "id": "70d91b5b",
   "metadata": {},
   "source": [
    "# - - - - - - - - - - - - - - - - - - - - - - - - - - - - - - - - - - - - - - - - - - - - - - - - - - - - - - - - - - - - - - - - - - - - - - - - - - - - - - - - - - - - - - - -  #\n",
    "# Ejercicio"
   ]
  },
  {
   "cell_type": "code",
   "execution_count": 28,
   "id": "beafad99",
   "metadata": {},
   "outputs": [
    {
     "data": {
      "text/plain": [
       "2"
      ]
     },
     "execution_count": 28,
     "metadata": {},
     "output_type": "execute_result"
    }
   ],
   "source": [
    "class Link:\n",
    "    empty = 'empty'\n",
    "    def __init__(self, first, rest = empty):\n",
    "        assert rest is Link.empty or isinstance(rest, Link)\n",
    "        self.first = first\n",
    "        self.rest = rest\n",
    "    def __repr__( self ):\n",
    "        if self.rest is Link.empty :\n",
    "            return \"Link({})\".format(self.first)\n",
    "        else:\n",
    "            return \"Link({}, {})\".format(self.first,self.rest)\n",
    "    \n",
    "l = Link(1, Link(2, Link(3, Link(4))))\n",
    "l.rest.first"
   ]
  },
  {
   "cell_type": "code",
   "execution_count": 177,
   "id": "800ed3a1",
   "metadata": {},
   "outputs": [],
   "source": [
    "def shuffle(lst): \n",
    "    \"\"\" \n",
    "     shuffle(Link(1, Link(2, Link(3, Link(4))))) \n",
    "    Link(2, Link(1, Link(4, Link(3)))) \n",
    "\n",
    "    \"\"\"\n",
    "    if lst == empty or lst.rest == empty:\n",
    "        return lst\n",
    "\n",
    "    else: \n",
    "        return Link(lst.rest.first, Link(lst.first,(shuffle(lst.rest.rest)) ))\n",
    "    \n",
    "    "
   ]
  },
  {
   "cell_type": "code",
   "execution_count": 178,
   "id": "638f7396",
   "metadata": {},
   "outputs": [],
   "source": [
    "lista = Link(1, Link(2,Link(3)))"
   ]
  },
  {
   "cell_type": "code",
   "execution_count": 179,
   "id": "51f4131e",
   "metadata": {},
   "outputs": [
    {
     "data": {
      "text/plain": [
       "Link(2, Link(1, Link(4, Link(3))))"
      ]
     },
     "execution_count": 179,
     "metadata": {},
     "output_type": "execute_result"
    }
   ],
   "source": [
    "shuffle(Link(1, Link(2, Link(3, Link(4))))) "
   ]
  },
  {
   "cell_type": "code",
   "execution_count": 180,
   "id": "9b5737c1",
   "metadata": {},
   "outputs": [],
   "source": [
    "def trim(s, index):\n",
    "    \"\"\"\t\n",
    "    >>>  s1 = Link(1, Link(2, Link(3)))\t\n",
    "    >>>  trim(s1, 0) # Returns the trimmed part\n",
    "    Link(2, Link(3))\n",
    "    >>> s1\n",
    "    Link(1)\n",
    "    >>> s2 = Link(1, Link(2, Link(3)))\n",
    "    >>> trim(s2, 2) == Link.empty # No elements after index 2\n",
    "    True\n",
    "    >>> s2\n",
    "    Link(1, Link(2, Link(3)))\n",
    "    >>> s3 = Link(1, Link(2, Link(3)))\n",
    "    >>> trim(s3, 3) # s3 has no index 3 \n",
    "    Traceback (most recent call last):\t\t\t\t\n",
    "    ... \n",
    "    IndexError \n",
    "    \"\"\""
   ]
  },
  {
   "cell_type": "code",
   "execution_count": null,
   "id": "a97ad065",
   "metadata": {},
   "outputs": [],
   "source": []
  }
 ],
 "metadata": {
  "kernelspec": {
   "display_name": "Python 3",
   "language": "python",
   "name": "python3"
  },
  "language_info": {
   "codemirror_mode": {
    "name": "ipython",
    "version": 3
   },
   "file_extension": ".py",
   "mimetype": "text/x-python",
   "name": "python",
   "nbconvert_exporter": "python",
   "pygments_lexer": "ipython3",
   "version": "3.7.11"
  }
 },
 "nbformat": 4,
 "nbformat_minor": 5
}
