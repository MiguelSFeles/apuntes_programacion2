{
 "cells": [
  {
   "cell_type": "markdown",
   "id": "5b199199",
   "metadata": {},
   "source": [
    "# Miguel Santiago Feles Gómez\n",
    "# Apuntes de Programación 02/11/2022\n",
    "# Herencia"
   ]
  },
  {
   "cell_type": "code",
   "execution_count": 4,
   "id": "20fab79c",
   "metadata": {},
   "outputs": [],
   "source": [
    "class Animal:\n",
    "    species_name = \"Animal\"\n",
    "    scientific_name = \"Animalia\"\n",
    "    play_multiplier = 2\n",
    "    interact_increment = 1\n",
    "    \n",
    "    def __init__(self, name, age=0):\n",
    "        self.name = name\n",
    "        self.age = age\n",
    "        self.calories_eaten = 0\n",
    "        self.happiness = 0\n",
    "    \n",
    "    def play(self, hum_hours):\n",
    "        self.happiness += (num_hours * self.play_multiplier)\n",
    "        print(\"WHEEEPLAYTIME!\")\n",
    "        \n",
    "    def eat(self,food):\n",
    "        self.calories_eaten+=food.calories\n",
    "        print(f\"Omnomnomyummy{food.name}\")\n",
    "        \n",
    "        if self.calories_eaten>self.calories_needed:\n",
    "            self.happiness -= 1\n",
    "            print(\"Ugh so full\")\n",
    "            \n",
    "        def interact_with(self,animal2):\n",
    "            self.happiness += self.interact_increment\n",
    "            print (f\"Yay happy fun time with {animal2.name}\")"
   ]
  },
  {
   "cell_type": "code",
   "execution_count": 5,
   "id": "da670789",
   "metadata": {},
   "outputs": [],
   "source": [
    "class Panda(Animal): #Hereda de la clase Animal y cambia un método\n",
    "    species_name = \"Giant Panda\"\n",
    "    scientific_name = \"Ailuropoda melanoleuca\"\n",
    "    calories_needed = 6000\n",
    "    def interact_with(self, other):\n",
    "        print(f\"I'm a Panda, I'm solitary, go away {other.name}!\")"
   ]
  },
  {
   "cell_type": "code",
   "execution_count": 6,
   "id": "420eb3e9",
   "metadata": {},
   "outputs": [
    {
     "name": "stdout",
     "output_type": "stream",
     "text": [
      "I'm a Panda, I'm solitary, go away Spot!\n"
     ]
    }
   ],
   "source": [
    "panda1 = Panda(\"Pandeybear\", 6)\n",
    "panda2 = Panda(\"Spot\", 3)\n",
    "panda1.interact_with(panda2)"
   ]
  },
  {
   "cell_type": "code",
   "execution_count": 9,
   "id": "201bbba5",
   "metadata": {},
   "outputs": [],
   "source": [
    "class Lion(Animal):\n",
    "    species_name = \"Lion\"\n",
    "    scientific_name = \"Panthera\"\n",
    "    calories_needed = 3000\n",
    "    def eat(self, food):\n",
    "        if food.type == \"meat\":\n",
    "            super().eat(food) #Super método se refiere a la clase padre o de la cual hereda"
   ]
  },
  {
   "cell_type": "markdown",
   "id": "88e07b08",
   "metadata": {},
   "source": [
    "# - - - - - - - - - - - - - - - - - - - - - - - - - - - - - - - - - - - - - - - - - - - - - - - - - - - - - - - - - - - - - - - - - #"
   ]
  },
  {
   "cell_type": "markdown",
   "id": "aa56c6f4",
   "metadata": {},
   "source": [
    "## Overriding __init__ "
   ]
  },
  {
   "cell_type": "markdown",
   "id": "a6138501",
   "metadata": {},
   "source": [
    "es necesario utilizar el método super().__init__()"
   ]
  },
  {
   "cell_type": "code",
   "execution_count": 10,
   "id": "1fc4dbf2",
   "metadata": {},
   "outputs": [],
   "source": [
    "class Elephant(Animal):\n",
    "    species_name = \"Elephant\"\n",
    "    scientific_name = \"Loxodonta\"\n",
    "    calories_needed = 8000\n",
    "    def __init__(self, name, age=0):\n",
    "        super().__init__(name, age)\n",
    "        if age < 1:\n",
    "            self.calories_needed = 1000\n",
    "        elif age < 5:\n",
    "            self.calories_needed = 3000"
   ]
  },
  {
   "cell_type": "code",
   "execution_count": 11,
   "id": "4ab06bd9",
   "metadata": {},
   "outputs": [
    {
     "data": {
      "text/plain": [
       "3000"
      ]
     },
     "execution_count": 11,
     "metadata": {},
     "output_type": "execute_result"
    }
   ],
   "source": [
    "elly = Elephant(\"Ellie\", 3)\n",
    "elly.calories_needed"
   ]
  },
  {
   "cell_type": "markdown",
   "id": "bf09f574",
   "metadata": {},
   "source": [
    "                        OBJECT\n",
    "                           |\n",
    "                           V\n",
    "                        ANIMAL\n",
    "                          |\n",
    "         _________________|______________________________\n",
    "         |           |          |          |             |\n",
    "      Rabbit        Panda      Elephant   Lion        Vulture"
   ]
  },
  {
   "cell_type": "markdown",
   "id": "4ad2515e",
   "metadata": {},
   "source": [
    "                        OBJECT\n",
    "                           |\n",
    "                           V\n",
    "                        ANIMAL\n",
    "                 _________|___________________________\n",
    "                |                                    | \n",
    "            Herbivore                            Carnivore \n",
    "                |                                    |\n",
    "      __________|____________________________________|________\n",
    "      |           |          |                 |             |\n",
    "    Rabbit        Panda      Elephant          Lion        Vulture"
   ]
  },
  {
   "cell_type": "code",
   "execution_count": 14,
   "id": "754e46c2",
   "metadata": {},
   "outputs": [],
   "source": [
    "# Nuevas capas de Herencia\n",
    "class Herbivore(Animal):\n",
    "    def eat(self, food):\n",
    "        if food.type == \"meat\":\n",
    "            self.happiness -= 5\n",
    "        else:\n",
    "            super().eat(food)\n",
    "            \n",
    "class Herbivore(Animal):\n",
    "    def eat(self, food):\n",
    "        if food.type == \"meat\":\n",
    "            self.happiness -= 5\n",
    "        else:\n",
    "            super().eat(food)\n",
    "            "
   ]
  },
  {
   "cell_type": "markdown",
   "id": "187fe1d7",
   "metadata": {},
   "source": [
    "                        OBJECT\n",
    "                           |\n",
    "                           V\n",
    "     PREY               ANIMAL                            PREDATOR\n",
    "      |          _________|___________________________       |\n",
    "      |         |                                    |       |\n",
    "      |     Herbivore                            Carnivore   |\n",
    "      |         |                                    |       |\n",
    "      |_________|____________________________________|_______|\n",
    "      |           |          |                 |             |\n",
    "    Rabbit        Panda      Elephant          Lion        Vulture"
   ]
  },
  {
   "cell_type": "code",
   "execution_count": 16,
   "id": "f4cd155e",
   "metadata": {},
   "outputs": [],
   "source": [
    "class Predator(Animal):\n",
    "    def interact_with(self, other):\n",
    "        if other.type == \"meat\":\n",
    "            self.eat(other)\n",
    "            print(\"om nom nom, I'm a predator\")\n",
    "        else:\n",
    "            super().interact_with(other)\n",
    "        \n",
    "class Prey(Animal):\n",
    "    type = \"meat\"\n",
    "    calories = 200"
   ]
  },
  {
   "cell_type": "code",
   "execution_count": null,
   "id": "16033e77",
   "metadata": {},
   "outputs": [],
   "source": []
  }
 ],
 "metadata": {
  "kernelspec": {
   "display_name": "Python 3",
   "language": "python",
   "name": "python3"
  },
  "language_info": {
   "codemirror_mode": {
    "name": "ipython",
    "version": 3
   },
   "file_extension": ".py",
   "mimetype": "text/x-python",
   "name": "python",
   "nbconvert_exporter": "python",
   "pygments_lexer": "ipython3",
   "version": "3.7.11"
  }
 },
 "nbformat": 4,
 "nbformat_minor": 5
}
