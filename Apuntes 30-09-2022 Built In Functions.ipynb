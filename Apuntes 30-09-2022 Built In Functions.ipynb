{
 "cells": [
  {
   "cell_type": "markdown",
   "id": "6db50bd7",
   "metadata": {},
   "source": [
    "# Miguel Santiago Feles Gómez\n",
    "## Programación 2 - Ciencia de Datos\n",
    "### 30 - 09 - 2022"
   ]
  },
  {
   "cell_type": "code",
   "execution_count": 4,
   "id": "d046a7dd",
   "metadata": {},
   "outputs": [
    {
     "ename": "SyntaxError",
     "evalue": "invalid syntax (<ipython-input-4-813ab254beaf>, line 2)",
     "output_type": "error",
     "traceback": [
      "\u001b[1;36m  File \u001b[1;32m\"<ipython-input-4-813ab254beaf>\"\u001b[1;36m, line \u001b[1;32m2\u001b[0m\n\u001b[1;33m    list(iterable) -> Devuelve una lista\u001b[0m\n\u001b[1;37m                    ^\u001b[0m\n\u001b[1;31mSyntaxError\u001b[0m\u001b[1;31m:\u001b[0m invalid syntax\n"
     ]
    }
   ],
   "source": [
    "#### Built-in functions\n",
    "list(iterable) -> Devuelve una lista \n",
    "tuple(iterable) -> \"   \" tupla\n",
    "sorted(iterable) -> Ordena la lista\n",
    "reversed(iterable) -> Ordena Inverso\n",
    "\n",
    "zip(*iterable) -> Hace tupla de iterables"
   ]
  },
  {
   "cell_type": "code",
   "execution_count": 2,
   "id": "aa3b9d26",
   "metadata": {},
   "outputs": [
    {
     "data": {
      "text/plain": [
       "[(1, 101), (2, 102), (3, 103), (4, 104), (5, 105)]"
      ]
     },
     "execution_count": 2,
     "metadata": {},
     "output_type": "execute_result"
    }
   ],
   "source": [
    "l = [x for x in zip(range(1,6), range(101, 106))]\n",
    "l"
   ]
  },
  {
   "cell_type": "markdown",
   "id": "d25013e1",
   "metadata": {},
   "source": [
    "map(función, iterable) -> aplica f(x) x en iterable"
   ]
  },
  {
   "cell_type": "markdown",
   "id": "47f9df0e",
   "metadata": {},
   "source": [
    "filter(función, iterable) -> muestra los True"
   ]
  },
  {
   "cell_type": "code",
   "execution_count": 8,
   "id": "dd1dce4c",
   "metadata": {},
   "outputs": [],
   "source": [
    "def d(num):\n",
    "    return num*2"
   ]
  },
  {
   "cell_type": "code",
   "execution_count": 9,
   "id": "18340952",
   "metadata": {},
   "outputs": [
    {
     "name": "stdout",
     "output_type": "stream",
     "text": [
      "2\n",
      "4\n",
      "6\n"
     ]
    }
   ],
   "source": [
    "for num in map(d,[1,2,3]):\n",
    "    print(num)"
   ]
  },
  {
   "cell_type": "code",
   "execution_count": 10,
   "id": "a0fe7c10",
   "metadata": {},
   "outputs": [
    {
     "data": {
      "text/plain": [
       "[2, 4, 6]"
      ]
     },
     "execution_count": 10,
     "metadata": {},
     "output_type": "execute_result"
    }
   ],
   "source": [
    "z = list(map(d,[1,2,3]))\n",
    "z"
   ]
  },
  {
   "cell_type": "code",
   "execution_count": 18,
   "id": "37536c9d",
   "metadata": {},
   "outputs": [
    {
     "name": "stdout",
     "output_type": "stream",
     "text": [
      "hola\n",
      "hello\n"
     ]
    }
   ],
   "source": [
    "for w in map(lambda t:t.lower(), [\"HOLA\", \"HELLO\"]):\n",
    "    print(w)"
   ]
  },
  {
   "cell_type": "code",
   "execution_count": 41,
   "id": "8d736bc2",
   "metadata": {},
   "outputs": [
    {
     "data": {
      "text/plain": [
       "[2, 4, 6, 8, 10]"
      ]
     },
     "execution_count": 41,
     "metadata": {},
     "output_type": "execute_result"
    }
   ],
   "source": [
    "def termified(n,term): return list(map(term, range(1, n+1)))\n",
    "termified(5,d)"
   ]
  },
  {
   "cell_type": "code",
   "execution_count": 42,
   "id": "e864b078",
   "metadata": {},
   "outputs": [
    {
     "data": {
      "text/plain": [
       "[2, 4, 6, 8, 10]"
      ]
     },
     "execution_count": 42,
     "metadata": {},
     "output_type": "execute_result"
    }
   ],
   "source": [
    "def termified2(n,term): return [term(x) for x in range(1,n+1)]\n",
    "termified2(5,d)"
   ]
  },
  {
   "cell_type": "code",
   "execution_count": 43,
   "id": "efcf570e",
   "metadata": {},
   "outputs": [
    {
     "name": "stdout",
     "output_type": "stream",
     "text": [
      "2\n",
      "4\n"
     ]
    }
   ],
   "source": [
    "for num in filter(lambda x: x%2 == 0, [1,2,3,4]):\n",
    "    print(num)"
   ]
  },
  {
   "cell_type": "code",
   "execution_count": 64,
   "id": "e4570392",
   "metadata": {},
   "outputs": [
    {
     "data": {
      "text/plain": [
       "3"
      ]
     },
     "execution_count": 64,
     "metadata": {},
     "output_type": "execute_result"
    }
   ],
   "source": [
    "def matches(a,b):\n",
    "    return len([x for x in zip(a,b) if x[1] == x[0]])\n",
    "\n",
    "matches([1,2,3,4,5],[3,2,3,0,5])"
   ]
  },
  {
   "cell_type": "code",
   "execution_count": 94,
   "id": "abab014c",
   "metadata": {},
   "outputs": [
    {
     "data": {
      "text/plain": [
       "3"
      ]
     },
     "execution_count": 94,
     "metadata": {},
     "output_type": "execute_result"
    }
   ],
   "source": [
    "def matches(a,b):\n",
    "    return len([y for y in range(len(a)) if a[y] == b[y]])\n",
    "\n",
    "matches([1,2,3,4,5],[3,2,3,0,5])"
   ]
  },
  {
   "cell_type": "code",
   "execution_count": 86,
   "id": "68e5493c",
   "metadata": {},
   "outputs": [
    {
     "name": "stdout",
     "output_type": "stream",
     "text": [
      "True\n",
      "False\n"
     ]
    }
   ],
   "source": [
    "def palindromo(s):\n",
    "    return s == s[::-1]\n",
    "print(palindromo([1,2,3,2,1]))\n",
    "print(palindromo([1,2,3,4,5]))\n"
   ]
  },
  {
   "cell_type": "code",
   "execution_count": 84,
   "id": "0a02cbff",
   "metadata": {},
   "outputs": [
    {
     "data": {
      "text/plain": [
       "[3, 2, 1]"
      ]
     },
     "execution_count": 84,
     "metadata": {},
     "output_type": "execute_result"
    }
   ],
   "source": [
    "s = [1,2,3]\n",
    "s[::-1]"
   ]
  },
  {
   "cell_type": "code",
   "execution_count": 96,
   "id": "9851f01a",
   "metadata": {},
   "outputs": [
    {
     "data": {
      "text/plain": [
       "[1, 2, 3, 6]"
      ]
     },
     "execution_count": 96,
     "metadata": {},
     "output_type": "execute_result"
    }
   ],
   "source": [
    "def divisor(n):\n",
    "    return [y for y in range(1, n+1) if n%y == 0]\n",
    "divisor(6)"
   ]
  },
  {
   "cell_type": "code",
   "execution_count": 101,
   "id": "9b0e6bc5",
   "metadata": {},
   "outputs": [
    {
     "data": {
      "text/plain": [
       "[1, 2, 3, 6]"
      ]
     },
     "execution_count": 101,
     "metadata": {},
     "output_type": "execute_result"
    }
   ],
   "source": [
    "def divisor(n):\n",
    "    return list(filter(lambda y: n%y == 0, range(1, n+1)))\n",
    "divisor(6)"
   ]
  },
  {
   "cell_type": "code",
   "execution_count": null,
   "id": "7ce188aa",
   "metadata": {},
   "outputs": [],
   "source": []
  }
 ],
 "metadata": {
  "kernelspec": {
   "display_name": "Python 3",
   "language": "python",
   "name": "python3"
  },
  "language_info": {
   "codemirror_mode": {
    "name": "ipython",
    "version": 3
   },
   "file_extension": ".py",
   "mimetype": "text/x-python",
   "name": "python",
   "nbconvert_exporter": "python",
   "pygments_lexer": "ipython3",
   "version": "3.7.11"
  }
 },
 "nbformat": 4,
 "nbformat_minor": 5
}
