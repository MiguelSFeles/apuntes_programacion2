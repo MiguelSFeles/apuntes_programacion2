{
 "cells": [
  {
   "cell_type": "markdown",
   "id": "bb0fed6c",
   "metadata": {},
   "source": [
    "# Miguel Santiago Feles Gómez\n",
    "# Programación 2 \n",
    "# Apuntes 09 - 11 - 2022\n",
    "\n",
    "# Métodos Especiales"
   ]
  },
  {
   "cell_type": "markdown",
   "id": "42908cad",
   "metadata": {},
   "source": [
    "__init__ -> Constructor incializa\n",
    "__repr__ -> Como se creo (eval() inverso)\n",
    "__str__ -> Convierte en cadena\n",
    "__add__ -> Suma\n",
    "__bool__ -> Convierte a booleano\n",
    "__float__ -> Convertir a R\n"
   ]
  },
  {
   "cell_type": "code",
   "execution_count": 1,
   "id": "7d2af456",
   "metadata": {},
   "outputs": [],
   "source": [
    "zero = 0\n",
    "one = 1\n",
    "two = 2"
   ]
  },
  {
   "cell_type": "code",
   "execution_count": 7,
   "id": "dad31c5c",
   "metadata": {},
   "outputs": [
    {
     "data": {
      "text/plain": [
       "3"
      ]
     },
     "execution_count": 7,
     "metadata": {},
     "output_type": "execute_result"
    }
   ],
   "source": [
    "one + two #-> 3"
   ]
  },
  {
   "cell_type": "code",
   "execution_count": 3,
   "id": "9d838500",
   "metadata": {},
   "outputs": [
    {
     "data": {
      "text/plain": [
       "False"
      ]
     },
     "execution_count": 3,
     "metadata": {},
     "output_type": "execute_result"
    }
   ],
   "source": [
    "bool(zero)"
   ]
  },
  {
   "cell_type": "code",
   "execution_count": 4,
   "id": "9cd34394",
   "metadata": {},
   "outputs": [
    {
     "data": {
      "text/plain": [
       "True"
      ]
     },
     "execution_count": 4,
     "metadata": {},
     "output_type": "execute_result"
    }
   ],
   "source": [
    "bool(one)"
   ]
  },
  {
   "cell_type": "code",
   "execution_count": 5,
   "id": "c4a55f34",
   "metadata": {},
   "outputs": [
    {
     "data": {
      "text/plain": [
       "3"
      ]
     },
     "execution_count": 5,
     "metadata": {},
     "output_type": "execute_result"
    }
   ],
   "source": [
    "one.__add__(two)"
   ]
  },
  {
   "cell_type": "code",
   "execution_count": 8,
   "id": "140f712f",
   "metadata": {},
   "outputs": [
    {
     "data": {
      "text/plain": [
       "False"
      ]
     },
     "execution_count": 8,
     "metadata": {},
     "output_type": "execute_result"
    }
   ],
   "source": [
    "zero.__bool__()"
   ]
  },
  {
   "cell_type": "code",
   "execution_count": 9,
   "id": "c6b27e61",
   "metadata": {},
   "outputs": [],
   "source": [
    "from math import gcd"
   ]
  },
  {
   "cell_type": "markdown",
   "id": "193b84b8",
   "metadata": {},
   "source": [
    "class Rational:\n",
    "    def __init__(self, numerator, denominator):\n",
    "        g = gcd(numerator, denominator)\n",
    "        self.numer = numerator//g    # \\ Simplifica\n",
    "        self.denom = denominator//g  # /\n",
    "        \n",
    "    def __str__(self):\n",
    "        return f\"{self.numer} / {self.denom}\"\n",
    "        \n",
    "    def __repr__(self):\n",
    "        return f\"Rational({self.numer}, {self.denom})\"\n",
    "    \n",
    "    def __add__(self, otro):\n",
    "        return Rational(self.numer * otro.denom + self.denom * otro.numer, self.denom * otro.denom)"
   ]
  },
  {
   "cell_type": "code",
   "execution_count": 32,
   "id": "6d62989f",
   "metadata": {},
   "outputs": [],
   "source": [
    "r = Rational(1,2)\n",
    "s = Rational(2,4)"
   ]
  },
  {
   "cell_type": "code",
   "execution_count": 33,
   "id": "e57b7428",
   "metadata": {},
   "outputs": [
    {
     "data": {
      "text/plain": [
       "True"
      ]
     },
     "execution_count": 33,
     "metadata": {},
     "output_type": "execute_result"
    }
   ],
   "source": [
    "str(r) == str(s)"
   ]
  },
  {
   "cell_type": "code",
   "execution_count": 34,
   "id": "20f80cc0",
   "metadata": {},
   "outputs": [
    {
     "data": {
      "text/plain": [
       "False"
      ]
     },
     "execution_count": 34,
     "metadata": {},
     "output_type": "execute_result"
    }
   ],
   "source": [
    "r == s"
   ]
  },
  {
   "cell_type": "code",
   "execution_count": 35,
   "id": "cac46070",
   "metadata": {},
   "outputs": [
    {
     "data": {
      "text/plain": [
       "1"
      ]
     },
     "execution_count": 35,
     "metadata": {},
     "output_type": "execute_result"
    }
   ],
   "source": [
    "r.numer"
   ]
  },
  {
   "cell_type": "code",
   "execution_count": 36,
   "id": "d346d209",
   "metadata": {},
   "outputs": [
    {
     "data": {
      "text/plain": [
       "'1 / 2'"
      ]
     },
     "execution_count": 36,
     "metadata": {},
     "output_type": "execute_result"
    }
   ],
   "source": [
    "str(r)"
   ]
  },
  {
   "cell_type": "code",
   "execution_count": 37,
   "id": "3309882a",
   "metadata": {},
   "outputs": [
    {
     "data": {
      "text/plain": [
       "'1 / 2'"
      ]
     },
     "execution_count": 37,
     "metadata": {},
     "output_type": "execute_result"
    }
   ],
   "source": [
    "str(s)"
   ]
  },
  {
   "cell_type": "code",
   "execution_count": 39,
   "id": "408f456f",
   "metadata": {},
   "outputs": [
    {
     "data": {
      "text/plain": [
       "'1 / 1'"
      ]
     },
     "execution_count": 39,
     "metadata": {},
     "output_type": "execute_result"
    }
   ],
   "source": [
    "(r + s).__str__()"
   ]
  },
  {
   "cell_type": "markdown",
   "id": "d8ec5acb",
   "metadata": {},
   "source": [
    "# - - - - - - - - - - - - - - - - - - - - - - - - - - - - - - - - - - - - - - - - - - - - - - - - - - - - - - - - - - - - - - - - - - - # "
   ]
  },
  {
   "cell_type": "markdown",
   "id": "ba9bf484",
   "metadata": {},
   "source": [
    "# Polimorfismo"
   ]
  },
  {
   "cell_type": "code",
   "execution_count": 42,
   "id": "03d079db",
   "metadata": {},
   "outputs": [
    {
     "data": {
      "text/plain": [
       "Rational(1, 1)"
      ]
     },
     "execution_count": 42,
     "metadata": {},
     "output_type": "execute_result"
    }
   ],
   "source": [
    "def suma(a,b):\n",
    "    return a + b\n",
    "\n",
    "suma(1,2)\n",
    "suma(1.5, 2.5)\n",
    "suma([1,2],[3,4])\n",
    "suma(\"ho\",\"la\")\n",
    "suma(Rational(1,2), Rational(2,4))"
   ]
  },
  {
   "cell_type": "code",
   "execution_count": 43,
   "id": "b430e1a8",
   "metadata": {},
   "outputs": [],
   "source": [
    "def sumas(items, initial_value):\n",
    "    sum = initial_value\n",
    "    \n",
    "    for x in items:\n",
    "        sum += x\n",
    "    \n",
    "    return sum"
   ]
  },
  {
   "cell_type": "code",
   "execution_count": 44,
   "id": "11ffabb6",
   "metadata": {},
   "outputs": [],
   "source": [
    "def is_valid_month(mes):\n",
    "    if isinstance(mes,int):\n",
    "        return mes >= 0 and mes < 13\n",
    "    elif isinstance(mes, str):\n",
    "        return mes.lower() in [\"enero\", \"febrero\", \"marzo\", \"abril\", \"mayo\", \"junio\", \"julio\", \"agosto\", \"septiembre\", \"octubre\", \"noviembre\", \"diciembre\"]\n",
    "    else: return False"
   ]
  },
  {
   "cell_type": "code",
   "execution_count": 45,
   "id": "c1f97be4",
   "metadata": {},
   "outputs": [
    {
     "data": {
      "text/plain": [
       "True"
      ]
     },
     "execution_count": 45,
     "metadata": {},
     "output_type": "execute_result"
    }
   ],
   "source": [
    "is_valid_month(\"EnErO\")"
   ]
  },
  {
   "cell_type": "code",
   "execution_count": null,
   "id": "20a08e55",
   "metadata": {},
   "outputs": [],
   "source": [
    "def s_e_r(nums): #Suma enteros racionales\n",
    "    suma = Rational(0,1)\n",
    "    if isinstance(x, int):\n",
    "        x = Rational(x,1)\n",
    "    \n",
    "    suna += x\n",
    "        "
   ]
  }
 ],
 "metadata": {
  "kernelspec": {
   "display_name": "Python 3",
   "language": "python",
   "name": "python3"
  },
  "language_info": {
   "codemirror_mode": {
    "name": "ipython",
    "version": 3
   },
   "file_extension": ".py",
   "mimetype": "text/x-python",
   "name": "python",
   "nbconvert_exporter": "python",
   "pygments_lexer": "ipython3",
   "version": "3.7.11"
  }
 },
 "nbformat": 4,
 "nbformat_minor": 5
}
