{
 "cells": [
  {
   "cell_type": "markdown",
   "id": "df1fdad3",
   "metadata": {},
   "source": [
    "# Miguel Santiago Feles Gómez\n",
    "# Apuntes 04 - 11 - 2022\n",
    "# Cadena"
   ]
  },
  {
   "cell_type": "code",
   "execution_count": 2,
   "id": "c9fe37e6",
   "metadata": {},
   "outputs": [
    {
     "name": "stdout",
     "output_type": "stream",
     "text": [
      "Debuting at 2: Mi canciónbyPepito Pérez\n"
     ]
    }
   ],
   "source": [
    "artist = \"Pepito Pérez\"\n",
    "song = \"Mi canción\"\n",
    "place = 2\n",
    "\n",
    "print(\"Debuting at # \" + str(place) + \": \" + song + \"by\" + artist)"
   ]
  },
  {
   "cell_type": "code",
   "execution_count": 3,
   "id": "2eea0632",
   "metadata": {},
   "outputs": [
    {
     "name": "stdout",
     "output_type": "stream",
     "text": [
      "debuting at # 2: 'Mi canción' by Pepito Pérez\n"
     ]
    }
   ],
   "source": [
    "print(f\"debuting at # {place}: '{song}' by {artist}\")"
   ]
  },
  {
   "cell_type": "code",
   "execution_count": 4,
   "id": "77a8beb1",
   "metadata": {},
   "outputs": [
    {
     "name": "stdout",
     "output_type": "stream",
     "text": [
      "a hoy, BOAT y McBoatFace\n"
     ]
    }
   ],
   "source": [
    "greeting = \"A hoy\"\n",
    "noun = \"Boat\"\n",
    "\n",
    "print(f\"{greeting.lower()}, {noun.upper()} y Mc{noun}Face\")"
   ]
  },
  {
   "cell_type": "code",
   "execution_count": 5,
   "id": "9f72af94",
   "metadata": {},
   "outputs": [
    {
     "name": "stdout",
     "output_type": "stream",
     "text": [
      "A hoyA hoyA hoy, Boa y MCt\n"
     ]
    }
   ],
   "source": [
    "print(f\"{greeting*3}, {noun[0:3]} y MC{noun[-1]}\")"
   ]
  },
  {
   "cell_type": "markdown",
   "id": "4ff4ba83",
   "metadata": {},
   "source": [
    "# - - - - - - - - - - - - - - - - - - - - - - - - - - - - - - - - - - - - - - - - - - - - - - - - #  "
   ]
  },
  {
   "cell_type": "markdown",
   "id": "5c7b1591",
   "metadata": {},
   "source": [
    "                                           OBJETOS\n",
    "             _________________________________|_____________________________________________\n",
    "             |                                |                    |                       |\n",
    "             |                               Entero                |                       |\n",
    "             |                                |                    |                       |\n",
    "          Cadena                            Booleano            Diccionario               List"
   ]
  },
  {
   "cell_type": "code",
   "execution_count": 8,
   "id": "0737d439",
   "metadata": {},
   "outputs": [],
   "source": [
    "class Lamb:\n",
    "    species_name = \"Lamb\"\n",
    "    sientific_name = \"Ovis aries\"\n",
    "    \n",
    "    def __init__(self, name):\n",
    "        self.name = name\n",
    "    def play(self):\n",
    "        self.happy = True\n",
    "        \n",
    "lamb = Lamb(\"Lil\")\n",
    "owner = \"Mary\"\n",
    "had_a_lamb = True\n",
    "fleece = {\"color\": \"White\", \"fluffiness\": 100}\n",
    "kid_at_school = [\"Billy\", \"Tilly\", \"jilly\"]\n",
    "day = 1"
   ]
  },
  {
   "cell_type": "markdown",
   "id": "b9e61522",
   "metadata": {},
   "source": [
    "dir(objeto) ----> atributos\n",
    "\n",
    "*Representación en Cadenas: __repr__, __str__, __format__\n",
    "*Comparación: __eq__/equal/, __ge__/grater or equal/, __gt__/greater than/, __le__ /less or equal/, __lt__/less than/, __ne__/not equal/"
   ]
  },
  {
   "cell_type": "code",
   "execution_count": 9,
   "id": "68bfe84d",
   "metadata": {},
   "outputs": [
    {
     "data": {
      "text/plain": [
       "'1/2'"
      ]
     },
     "execution_count": 9,
     "metadata": {},
     "output_type": "execute_result"
    }
   ],
   "source": [
    "from fractions import Fraction\n",
    "\n",
    "one_third = 1/3\n",
    "one_half = Fraction(1,2)\n",
    "\n",
    "float.__str__(one_third)\n",
    "Fraction.__str__(one_half)"
   ]
  },
  {
   "cell_type": "code",
   "execution_count": 11,
   "id": "5f829a46",
   "metadata": {},
   "outputs": [
    {
     "data": {
      "text/plain": [
       "'0.3333333333333333'"
      ]
     },
     "execution_count": 11,
     "metadata": {},
     "output_type": "execute_result"
    }
   ],
   "source": [
    "str(one_third)"
   ]
  },
  {
   "cell_type": "code",
   "execution_count": 12,
   "id": "7bc99a91",
   "metadata": {},
   "outputs": [
    {
     "name": "stdout",
     "output_type": "stream",
     "text": [
      "0.3333333333333333\n"
     ]
    }
   ],
   "source": [
    "print(one_third)"
   ]
  },
  {
   "cell_type": "code",
   "execution_count": 13,
   "id": "0ef3b519",
   "metadata": {},
   "outputs": [
    {
     "data": {
      "text/plain": [
       "'1/2'"
      ]
     },
     "execution_count": 13,
     "metadata": {},
     "output_type": "execute_result"
    }
   ],
   "source": [
    "str(one_half)"
   ]
  },
  {
   "cell_type": "code",
   "execution_count": 14,
   "id": "82e9dd4d",
   "metadata": {},
   "outputs": [
    {
     "name": "stdout",
     "output_type": "stream",
     "text": [
      "1/2\n"
     ]
    }
   ],
   "source": [
    "print(one_half)"
   ]
  },
  {
   "cell_type": "code",
   "execution_count": 31,
   "id": "255c6a45",
   "metadata": {},
   "outputs": [
    {
     "data": {
      "text/plain": [
       "' Lamb named Ovejita'"
      ]
     },
     "execution_count": 31,
     "metadata": {},
     "output_type": "execute_result"
    }
   ],
   "source": [
    "class Lamb:\n",
    "    species_name = \"Lamb\"\n",
    "    sientific_name = \"Ovis aries\"\n",
    "    \n",
    "    def __init__(self, name):\n",
    "        self.name = name\n",
    "    def play(self):\n",
    "        self.happy = True\n",
    "        \n",
    "    def __str__(self):\n",
    "        return \" Lamb named \" + self.name\n",
    "    def __repr__(self):\n",
    "        return f\"Lamb('{self.name}')\"\n",
    "lil = Lamb(\"Ovejita\")\n",
    "str(lil)"
   ]
  },
  {
   "cell_type": "markdown",
   "id": "e4e43ed6",
   "metadata": {},
   "source": [
    "### *_ _rep_ _ ¿Qué hace?*  "
   ]
  },
  {
   "cell_type": "code",
   "execution_count": 32,
   "id": "37f5bf72",
   "metadata": {},
   "outputs": [
    {
     "data": {
      "text/plain": [
       "'Fraction(1, 2)'"
      ]
     },
     "execution_count": 32,
     "metadata": {},
     "output_type": "execute_result"
    }
   ],
   "source": [
    "from fractions import Fraction\n",
    "\n",
    "one_half = Fraction(1,2)\n",
    "\n",
    "Fraction.__repr__(one_half)"
   ]
  },
  {
   "cell_type": "code",
   "execution_count": 33,
   "id": "07680c41",
   "metadata": {},
   "outputs": [],
   "source": [
    "una_mitad = eval(Fraction.__repr__(one_half))"
   ]
  },
  {
   "cell_type": "code",
   "execution_count": 34,
   "id": "b5436c7b",
   "metadata": {},
   "outputs": [
    {
     "data": {
      "text/plain": [
       "Fraction(1, 2)"
      ]
     },
     "execution_count": 34,
     "metadata": {},
     "output_type": "execute_result"
    }
   ],
   "source": [
    "una_mitad"
   ]
  },
  {
   "cell_type": "code",
   "execution_count": 35,
   "id": "cea619bf",
   "metadata": {},
   "outputs": [],
   "source": [
    "a = \" 2 + 3\" # -> Cadena\n",
    "b = 2 + 3 #entero 5\n",
    "c = eval(a) #-> evalua lo que está dentro de la cadena"
   ]
  },
  {
   "cell_type": "code",
   "execution_count": 36,
   "id": "3c7309d7",
   "metadata": {},
   "outputs": [
    {
     "data": {
      "text/plain": [
       "\"Lamb('Ovejita')\""
      ]
     },
     "execution_count": 36,
     "metadata": {},
     "output_type": "execute_result"
    }
   ],
   "source": [
    "lil = Lamb(\"Ovejita\")\n",
    "repr(lil)"
   ]
  },
  {
   "cell_type": "code",
   "execution_count": null,
   "id": "38da6df5",
   "metadata": {},
   "outputs": [],
   "source": []
  }
 ],
 "metadata": {
  "kernelspec": {
   "display_name": "Python 3 (ipykernel)",
   "language": "python",
   "name": "python3"
  },
  "language_info": {
   "codemirror_mode": {
    "name": "ipython",
    "version": 3
   },
   "file_extension": ".py",
   "mimetype": "text/x-python",
   "name": "python",
   "nbconvert_exporter": "python",
   "pygments_lexer": "ipython3",
   "version": "3.9.12"
  }
 },
 "nbformat": 4,
 "nbformat_minor": 5
}
