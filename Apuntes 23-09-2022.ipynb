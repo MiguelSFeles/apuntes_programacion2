{
 "cells": [
  {
   "cell_type": "markdown",
   "id": "6499e023",
   "metadata": {},
   "source": [
    "# Árboles\n",
    "# Miguel Feles"
   ]
  },
  {
   "cell_type": "code",
   "execution_count": 23,
   "id": "eaeb38b7",
   "metadata": {},
   "outputs": [],
   "source": [
    "def tree(label, branches = []):\n",
    "    return [label] + branches\n",
    "\n",
    "def label(tree):\n",
    "    return tree[0]\n",
    "\n",
    "def branches(tree):\n",
    "    return tree[1:]\n",
    "\n",
    "def is_leaf(tree):\n",
    "    return len(branches(tree)) == 0"
   ]
  },
  {
   "cell_type": "code",
   "execution_count": 4,
   "id": "be1a3924",
   "metadata": {},
   "outputs": [],
   "source": [
    "t = tree(3, [tree(1), tree(2, [tree(1), tree(1)])])"
   ]
  },
  {
   "cell_type": "code",
   "execution_count": 14,
   "id": "f80f75e2",
   "metadata": {},
   "outputs": [
    {
     "name": "stdout",
     "output_type": "stream",
     "text": [
      "[1]\n",
      "[2, [1], [1]]\n"
     ]
    }
   ],
   "source": [
    "for b in branches(t):\n",
    "    print(b)"
   ]
  },
  {
   "cell_type": "code",
   "execution_count": 5,
   "id": "6bb6a68d",
   "metadata": {},
   "outputs": [],
   "source": [
    "def count_leaves(t):\n",
    "    \"\"\"Devuelve el número de hojas de un árbol t\"\"\"\n",
    "    if(is_leaf(t)):\n",
    "        return 1\n",
    "    else:\n",
    "        leaves_under = 0\n",
    "        for b in branches(t):\n",
    "            leaves_under += count_leaves(b)\n",
    "            return leaves_under"
   ]
  },
  {
   "cell_type": "code",
   "execution_count": 16,
   "id": "0f128281",
   "metadata": {},
   "outputs": [
    {
     "data": {
      "text/plain": [
       "[6, [2], [4, [2], [2]]]"
      ]
     },
     "execution_count": 16,
     "metadata": {},
     "output_type": "execute_result"
    }
   ],
   "source": [
    "def double(t):\n",
    "    return tree(label(t) * 2, [double(b) for b in branches(t)])\n",
    "double(t)"
   ]
  },
  {
   "cell_type": "code",
   "execution_count": 17,
   "id": "fb8a3d4c",
   "metadata": {},
   "outputs": [],
   "source": [
    "def print_tree(t, indent = 0):\n",
    "    print(indent * \" \", label(t))\n",
    "    for b in branches(t):\n",
    "        print_tree(b, indent + 2)"
   ]
  },
  {
   "cell_type": "code",
   "execution_count": 18,
   "id": "9f1c7279",
   "metadata": {},
   "outputs": [
    {
     "name": "stdout",
     "output_type": "stream",
     "text": [
      " 3\n",
      "   1\n",
      "   2\n",
      "     1\n",
      "     1\n"
     ]
    }
   ],
   "source": [
    "print_tree(t)"
   ]
  },
  {
   "cell_type": "code",
   "execution_count": 20,
   "id": "edbfd156",
   "metadata": {},
   "outputs": [],
   "source": [
    "t2 = tree(20, [tree(12, [tree(9, [tree(7), tree(2)]), tree(3)]), tree(8,[tree(4), tree(4)])])"
   ]
  },
  {
   "cell_type": "code",
   "execution_count": 24,
   "id": "1d99f774",
   "metadata": {},
   "outputs": [],
   "source": [
    "def leaves(t):\n",
    "    \"\"\"Devela una lista con las hojas de t\"\"\"\n",
    "    \n",
    "    if is_leaf(t):\n",
    "        return [label(t)]\n",
    "    else:\n",
    "        leaf_labels = [leaves(b) for b in branches(t)]\n",
    "        return sum(leaf_labels, [])"
   ]
  },
  {
   "cell_type": "code",
   "execution_count": 25,
   "id": "6c5a09ce",
   "metadata": {},
   "outputs": [
    {
     "data": {
      "text/plain": [
       "[7, 2, 3, 4, 4]"
      ]
     },
     "execution_count": 25,
     "metadata": {},
     "output_type": "execute_result"
    }
   ],
   "source": [
    "leaves(t2)"
   ]
  },
  {
   "cell_type": "code",
   "execution_count": null,
   "id": "82616df2",
   "metadata": {},
   "outputs": [],
   "source": []
  }
 ],
 "metadata": {
  "kernelspec": {
   "display_name": "Python 3",
   "language": "python",
   "name": "python3"
  },
  "language_info": {
   "codemirror_mode": {
    "name": "ipython",
    "version": 3
   },
   "file_extension": ".py",
   "mimetype": "text/x-python",
   "name": "python",
   "nbconvert_exporter": "python",
   "pygments_lexer": "ipython3",
   "version": "3.7.11"
  }
 },
 "nbformat": 4,
 "nbformat_minor": 5
}
